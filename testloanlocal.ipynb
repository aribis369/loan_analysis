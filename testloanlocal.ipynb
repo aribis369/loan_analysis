{
 "cells": [
  {
   "cell_type": "code",
   "execution_count": 1,
   "id": "0a334f11",
   "metadata": {},
   "outputs": [],
   "source": [
    "import numpy as np\n",
    "#import pandas as pd\n",
    "#import matplotlib.pyplot as plt\n",
    "#import seaborn as sns\n",
    "#from sklearn.model_selection import train_test_split\n",
    "#from sklearn.linear_model import LogisticRegression\n",
    "#from sklearn import tree\n",
    "#from sklearn.metrics import classification_report\n",
    "#from sklearn.ensemble import GradientBoostingClassifier\n",
    "#from xgboost import XGBClassifier\n",
    "#from sklearn.neighbors import KNeighborsClassifier\n",
    "#from sklearn.decomposition import PCA\n",
    "#from sklearn.preprocessing import StandardScaler\n",
    "#from sklearn.preprocessing import MinMaxScaler\n",
    "from pickle import load, dump\n",
    "import json"
   ]
  },
  {
   "cell_type": "code",
   "execution_count": 2,
   "id": "4850c462",
   "metadata": {},
   "outputs": [
    {
     "data": {
      "text/plain": [
       "'\\n\\nloan_amnt, emp_length, annual_inc, delinq_2yrs, inq_last_6mths, mths_since_last_delinq, mths_since_last_record, open_acc, pub_rec, revol_bal, revol_util, total_acc, purpose, year   \\n\\n'"
      ]
     },
     "execution_count": 2,
     "metadata": {},
     "output_type": "execute_result"
    }
   ],
   "source": [
    "\n",
    "'''\n",
    "\n",
    "loan_amnt, emp_length, annual_inc, delinq_2yrs, inq_last_6mths, mths_since_last_delinq, mths_since_last_record, open_acc, pub_rec, revol_bal, revol_util, total_acc, purpose, year   \n",
    "\n",
    "'''\n"
   ]
  },
  {
   "cell_type": "code",
   "execution_count": 3,
   "id": "06dba839",
   "metadata": {},
   "outputs": [
    {
     "data": {
      "text/plain": [
       "'\\nprint(debt_consolidation)#2\\nprint(car)#1\\nprint(credit_card)#0\\nprint(educational)#2\\nprint(home_improvement)#1\\nprint(house)#1\\nprint(major_purchase)#0\\nprint(medical)#2\\nprint(moving)#2\\nprint(other)#2\\nprint(renewable_energy)#2\\nprint(small_business)#2\\nprint(vacation)#1\\nprint(wedding)#0\\n\\n'"
      ]
     },
     "execution_count": 3,
     "metadata": {},
     "output_type": "execute_result"
    }
   ],
   "source": [
    "'''\n",
    "print(debt_consolidation)#2\n",
    "print(car)#1\n",
    "print(credit_card)#0\n",
    "print(educational)#2\n",
    "print(home_improvement)#1\n",
    "print(house)#1\n",
    "print(major_purchase)#0\n",
    "print(medical)#2\n",
    "print(moving)#2\n",
    "print(other)#2\n",
    "print(renewable_energy)#2\n",
    "print(small_business)#2\n",
    "print(vacation)#1\n",
    "print(wedding)#0\n",
    "\n",
    "'''"
   ]
  },
  {
   "cell_type": "code",
   "execution_count": 4,
   "id": "5077f98f",
   "metadata": {},
   "outputs": [],
   "source": [
    "# scikit-learn==0.22.2.post1"
   ]
  },
  {
   "cell_type": "code",
   "execution_count": null,
   "id": "8bcd5795",
   "metadata": {},
   "outputs": [],
   "source": [
    "\n",
    "### Testing Saved Model on local Machine ###\n"
   ]
  },
  {
   "cell_type": "code",
   "execution_count": 3,
   "id": "66390c8d",
   "metadata": {},
   "outputs": [
    {
     "name": "stdout",
     "output_type": "stream",
     "text": [
      "[[1.000e+04 1.000e+01 1.600e+05 0.000e+00 2.000e+00 7.700e+01 1.300e+02\n",
      "  1.000e+01 0.000e+00 7.770e+03 2.100e-01 3.000e+01 1.000e+00 1.984e+03]]\n"
     ]
    }
   ],
   "source": [
    "X_one = [20.2000e+04, 6.0000e+00, 7.0000e+04, 1.0000e+00, 0.0000e+00, 1.0000e+01,\n",
    "  1.3000e+02, 1.1000e+01, 0.0000e+00, 3.8928e+04, 8.5000e-01, 3.6000e+01,\n",
    "  2.0000e+00, 1.9830e+03]\n",
    "\n",
    "X_one = [1.000e+04, 1.000e+01, 1.600e+05, 0.000e+00, 2.000e+00, 7.700e+01, 1.300e+02,\n",
    "  1.000e+01, 0.000e+00, 7.770e+03, 2.100e-01, 3.000e+01, 1.000e+00, 1.984e+03]\n",
    "\n",
    "X_one_ = np.array(X_one).reshape(1, -1)\n",
    "print(X_one_)\n",
    "\n",
    "model_ = load(open('model___.pkl', 'rb'))\n",
    "scaler_ = load(open('scaler.pkl', 'rb'))\n",
    "pca_ = load(open('pca.pkl', 'rb'))"
   ]
  },
  {
   "cell_type": "code",
   "execution_count": 4,
   "id": "f50a8d23",
   "metadata": {},
   "outputs": [
    {
     "name": "stdout",
     "output_type": "stream",
     "text": [
      "Fully Paid\n",
      "[[0.35972548 0.6402745 ]]\n"
     ]
    }
   ],
   "source": [
    "X_one_ = scaler_.transform(X_one_)\n",
    "X_one_ = pca_.transform(X_one_)\n",
    "prediction = model_.predict(X_one_)\n",
    "prediction_p = model_.predict_proba(X_one_)\n",
    "\n",
    "print(prediction[0])\n",
    "print(prediction_p)\n"
   ]
  },
  {
   "cell_type": "code",
   "execution_count": null,
   "id": "f58c1bf1",
   "metadata": {},
   "outputs": [],
   "source": [
    "\n",
    "### Testing the Flask Server ###\n",
    "\n"
   ]
  },
  {
   "cell_type": "code",
   "execution_count": 17,
   "id": "b7ef19b6",
   "metadata": {},
   "outputs": [
    {
     "name": "stdout",
     "output_type": "stream",
     "text": [
      "{'loan_amnt': 10000.0, 'emp_length': 10.0, 'annual_inc': 160000.0, 'delinq_2yrs': 0.0, 'inq_last_6mths': 2.0, 'mths_since_last_delinq': 77.0, 'mths_since_last_record': 130.0, 'open_acc': 10.0, 'pub_rec': 0.0, 'revol_bal': 7770.0, 'revol_util': 0.21, 'total_acc': 30.0, 'purpose': 1.0, 'year': 1984.0}\n",
      "{\n",
      "    \"loan_amnt\": 10000.0,\n",
      "    \"emp_length\": 10.0,\n",
      "    \"annual_inc\": 160000.0,\n",
      "    \"delinq_2yrs\": 0.0,\n",
      "    \"inq_last_6mths\": 2.0,\n",
      "    \"mths_since_last_delinq\": 77.0,\n",
      "    \"mths_since_last_record\": 130.0,\n",
      "    \"open_acc\": 10.0,\n",
      "    \"pub_rec\": 0.0,\n",
      "    \"revol_bal\": 7770.0,\n",
      "    \"revol_util\": 0.21,\n",
      "    \"total_acc\": 30.0,\n",
      "    \"purpose\": 1.0,\n",
      "    \"year\": 1984.0\n",
      "}\n",
      "<class 'dict'>\n"
     ]
    }
   ],
   "source": [
    "#data = {'loan_amnt':2.2000e+04, 'emp_length':6.0000e+00, 'annual_inc':3.0000e+04, 'delinq_2yrs':1.0000e+00, 'inq_last_6mths':0.0000e+00, 'mths_since_last_delinq':1.0000e+01, 'mths_since_last_record':1.3000e+02, 'open_acc':1.1000e+01, 'pub_rec':0.0000e+00, 'revol_bal':3.8928e+04, 'revol_util':8.5000e-01, 'total_acc':3.6000e+01, 'purpose':2.0000e+00, 'year':1.9830e+03}   \n",
    "data = {'loan_amnt':1.000e+04, 'emp_length':1.000e+01, 'annual_inc':1.600e+05, 'delinq_2yrs':0.000e+00, 'inq_last_6mths':2.000e+00, 'mths_since_last_delinq':7.700e+01, 'mths_since_last_record':1.3000e+02, 'open_acc':1.000e+01, 'pub_rec':0.0000e+00, 'revol_bal':7.770e+03, 'revol_util':2.100e-01, 'total_acc':3.000e+01, 'purpose':1.000e+00, 'year':1.984e+03}   \n",
    "print(data)\n",
    "print(json.dumps(data, indent=4))\n",
    "print(type(data))\n"
   ]
  },
  {
   "cell_type": "code",
   "execution_count": 13,
   "id": "af83fac5",
   "metadata": {},
   "outputs": [
    {
     "name": "stdout",
     "output_type": "stream",
     "text": [
      "{'loan_amnt': 505500, 'emp_length': 4, 'annual_inc': 54734, 'purpose': 0, 'year': 1994, 'delinq_2yrs': 0, 'inq_last_6mths': 0, 'mths_since_last_delinq': 120, 'mths_since_last_record': 130, 'open_acc': 10, 'pub_rec': 0, 'revol_bal': 28854, 'revol_util': 0.52, 'total_acc': 42}\n",
      "{\n",
      "    \"loan_amnt\": 505500,\n",
      "    \"emp_length\": 4,\n",
      "    \"annual_inc\": 54734,\n",
      "    \"purpose\": 0,\n",
      "    \"year\": 1994,\n",
      "    \"delinq_2yrs\": 0,\n",
      "    \"inq_last_6mths\": 0,\n",
      "    \"mths_since_last_delinq\": 120,\n",
      "    \"mths_since_last_record\": 130,\n",
      "    \"open_acc\": 10,\n",
      "    \"pub_rec\": 0,\n",
      "    \"revol_bal\": 28854,\n",
      "    \"revol_util\": 0.52,\n",
      "    \"total_acc\": 42\n",
      "}\n",
      "<class 'dict'>\n"
     ]
    }
   ],
   "source": [
    "#data = {'loan_amnt':2.2000e+04, 'emp_length':6.0000e+00, 'annual_inc':3.0000e+04, 'delinq_2yrs':1.0000e+00, 'inq_last_6mths':0.0000e+00, 'mths_since_last_delinq':1.0000e+01, 'mths_since_last_record':1.3000e+02, 'open_acc':1.1000e+01, 'pub_rec':0.0000e+00, 'revol_bal':3.8928e+04, 'revol_util':8.5000e-01, 'total_acc':3.6000e+01, 'purpose':2.0000e+00, 'year':1.9830e+03}   \n",
    "data = {\n",
    "    \"loan_amnt\": 505500,\n",
    "    \"emp_length\": 4,\n",
    "    \"annual_inc\": 54734,\n",
    "    \"purpose\": 0,\n",
    "    \"year\": 1994,\n",
    "    \"delinq_2yrs\": 0,\n",
    "    \"inq_last_6mths\": 0,\n",
    "    \"mths_since_last_delinq\": 120,\n",
    "    \"mths_since_last_record\": 130,\n",
    "    \"open_acc\": 10,\n",
    "    \"pub_rec\": 0,\n",
    "    \"revol_bal\": 28854,\n",
    "    \"revol_util\": 0.52,\n",
    "    \"total_acc\": 42\n",
    "}\n",
    "\n",
    "print(data)\n",
    "print(json.dumps(data, indent=4))\n",
    "print(type(data))\n"
   ]
  },
  {
   "cell_type": "code",
   "execution_count": null,
   "id": "0a2deeab",
   "metadata": {},
   "outputs": [],
   "source": [
    "\n",
    "### Making Request to the Server ###\n"
   ]
  },
  {
   "cell_type": "code",
   "execution_count": 6,
   "id": "fd28a5c3",
   "metadata": {},
   "outputs": [],
   "source": [
    "import requests"
   ]
  },
  {
   "cell_type": "code",
   "execution_count": 19,
   "id": "df875279",
   "metadata": {
    "scrolled": true
   },
   "outputs": [
    {
     "name": "stderr",
     "output_type": "stream",
     "text": [
      "c:\\python3\\Lib\\site-packages\\urllib3\\connectionpool.py:1020: InsecureRequestWarning: Unverified HTTPS request is being made to host 'loanmodel.herokuapp.com'. Adding certificate verification is strongly advised. See: https://urllib3.readthedocs.io/en/1.26.x/advanced-usage.html#ssl-warnings\n",
      "  InsecureRequestWarning,\n"
     ]
    },
    {
     "name": "stdout",
     "output_type": "stream",
     "text": [
      "{'score': 702}\n"
     ]
    }
   ],
   "source": [
    "#url = 'http://localhost:5000/predict'\n",
    "url = 'https://loanmodel.herokuapp.com/predict'\n",
    "\n",
    "r = requests.post(url,json=data, verify=False)\n",
    "\n",
    "print(r.json())\n",
    "#print(r)"
   ]
  },
  {
   "cell_type": "code",
   "execution_count": null,
   "id": "975b2e5f",
   "metadata": {},
   "outputs": [],
   "source": [
    "### Success ###"
   ]
  }
 ],
 "metadata": {
  "kernelspec": {
   "display_name": "Python 3 (ipykernel)",
   "language": "python",
   "name": "python3"
  },
  "language_info": {
   "codemirror_mode": {
    "name": "ipython",
    "version": 3
   },
   "file_extension": ".py",
   "mimetype": "text/x-python",
   "name": "python",
   "nbconvert_exporter": "python",
   "pygments_lexer": "ipython3",
   "version": "3.7.9"
  }
 },
 "nbformat": 4,
 "nbformat_minor": 5
}
