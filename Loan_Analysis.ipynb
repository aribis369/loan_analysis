{
 "cells": [
  {
   "cell_type": "code",
   "execution_count": 1,
   "metadata": {
    "id": "wcdWxCYtnL63"
   },
   "outputs": [],
   "source": [
    "import numpy as np\n",
    "import pandas as pd\n",
    "import matplotlib.pyplot as plt\n",
    "import seaborn as sns"
   ]
  },
  {
   "cell_type": "code",
   "execution_count": 2,
   "metadata": {
    "colab": {
     "base_uri": "https://localhost:8080/",
     "height": 509
    },
    "id": "LYhhjXWzqjFT",
    "outputId": "91ac7598-dae8-40dd-de24-3250f47a7025"
   },
   "outputs": [
    {
     "data": {
      "text/html": [
       "<div>\n",
       "<style scoped>\n",
       "    .dataframe tbody tr th:only-of-type {\n",
       "        vertical-align: middle;\n",
       "    }\n",
       "\n",
       "    .dataframe tbody tr th {\n",
       "        vertical-align: top;\n",
       "    }\n",
       "\n",
       "    .dataframe thead th {\n",
       "        text-align: right;\n",
       "    }\n",
       "</style>\n",
       "<table border=\"1\" class=\"dataframe\">\n",
       "  <thead>\n",
       "    <tr style=\"text-align: right;\">\n",
       "      <th></th>\n",
       "      <th>id</th>\n",
       "      <th>loan_amnt</th>\n",
       "      <th>emp_length</th>\n",
       "      <th>annual_inc</th>\n",
       "      <th>delinq_2yrs</th>\n",
       "      <th>inq_last_6mths</th>\n",
       "      <th>mths_since_last_delinq</th>\n",
       "      <th>mths_since_last_record</th>\n",
       "      <th>open_acc</th>\n",
       "      <th>pub_rec</th>\n",
       "      <th>revol_bal</th>\n",
       "      <th>revol_util</th>\n",
       "      <th>total_acc</th>\n",
       "      <th>earliest_cr_line</th>\n",
       "      <th>purpose</th>\n",
       "      <th>desc</th>\n",
       "      <th>loan_status</th>\n",
       "    </tr>\n",
       "  </thead>\n",
       "  <tbody>\n",
       "    <tr>\n",
       "      <th>0</th>\n",
       "      <td>1002603</td>\n",
       "      <td>30000</td>\n",
       "      <td>1</td>\n",
       "      <td>93000.0</td>\n",
       "      <td>0</td>\n",
       "      <td>1</td>\n",
       "      <td>120</td>\n",
       "      <td>130</td>\n",
       "      <td>10</td>\n",
       "      <td>0</td>\n",
       "      <td>43209</td>\n",
       "      <td>0.41</td>\n",
       "      <td>32</td>\n",
       "      <td>7/18/1990 3:54</td>\n",
       "      <td>debt_consolidation</td>\n",
       "      <td>NaN</td>\n",
       "      <td>Current</td>\n",
       "    </tr>\n",
       "    <tr>\n",
       "      <th>1</th>\n",
       "      <td>1024806</td>\n",
       "      <td>22000</td>\n",
       "      <td>6</td>\n",
       "      <td>70000.0</td>\n",
       "      <td>1</td>\n",
       "      <td>0</td>\n",
       "      <td>10</td>\n",
       "      <td>130</td>\n",
       "      <td>11</td>\n",
       "      <td>0</td>\n",
       "      <td>38928</td>\n",
       "      <td>0.85</td>\n",
       "      <td>36</td>\n",
       "      <td>10/7/1983 8:46</td>\n",
       "      <td>debt_consolidation</td>\n",
       "      <td>Borrower added on 11/09/11 &gt; This loan is fo...</td>\n",
       "      <td>Fully Paid</td>\n",
       "    </tr>\n",
       "    <tr>\n",
       "      <th>2</th>\n",
       "      <td>663413</td>\n",
       "      <td>3700</td>\n",
       "      <td>10</td>\n",
       "      <td>117000.0</td>\n",
       "      <td>1</td>\n",
       "      <td>1</td>\n",
       "      <td>10</td>\n",
       "      <td>130</td>\n",
       "      <td>9</td>\n",
       "      <td>0</td>\n",
       "      <td>19382</td>\n",
       "      <td>0.86</td>\n",
       "      <td>24</td>\n",
       "      <td>4/7/1992 11:32</td>\n",
       "      <td>credit_card</td>\n",
       "      <td>Borrower added on 01/28/11 &gt; pay off credit ...</td>\n",
       "      <td>Fully Paid</td>\n",
       "    </tr>\n",
       "    <tr>\n",
       "      <th>3</th>\n",
       "      <td>810093</td>\n",
       "      <td>7600</td>\n",
       "      <td>1</td>\n",
       "      <td>33996.0</td>\n",
       "      <td>0</td>\n",
       "      <td>0</td>\n",
       "      <td>120</td>\n",
       "      <td>130</td>\n",
       "      <td>10</td>\n",
       "      <td>0</td>\n",
       "      <td>1962</td>\n",
       "      <td>0.48</td>\n",
       "      <td>18</td>\n",
       "      <td>1/21/2003 2:40</td>\n",
       "      <td>other</td>\n",
       "      <td>Borrower added on 07/11/11 &gt; I have been con...</td>\n",
       "      <td>Current</td>\n",
       "    </tr>\n",
       "    <tr>\n",
       "      <th>4</th>\n",
       "      <td>865474</td>\n",
       "      <td>12000</td>\n",
       "      <td>7</td>\n",
       "      <td>75000.0</td>\n",
       "      <td>0</td>\n",
       "      <td>1</td>\n",
       "      <td>24</td>\n",
       "      <td>130</td>\n",
       "      <td>13</td>\n",
       "      <td>0</td>\n",
       "      <td>13528</td>\n",
       "      <td>0.51</td>\n",
       "      <td>23</td>\n",
       "      <td>9/8/1997 7:19</td>\n",
       "      <td>debt_consolidation</td>\n",
       "      <td>NaN</td>\n",
       "      <td>Fully Paid</td>\n",
       "    </tr>\n",
       "  </tbody>\n",
       "</table>\n",
       "</div>"
      ],
      "text/plain": [
       "        id  ...  loan_status\n",
       "0  1002603  ...      Current\n",
       "1  1024806  ...   Fully Paid\n",
       "2   663413  ...   Fully Paid\n",
       "3   810093  ...      Current\n",
       "4   865474  ...   Fully Paid\n",
       "\n",
       "[5 rows x 17 columns]"
      ]
     },
     "execution_count": 2,
     "metadata": {
      "tags": []
     },
     "output_type": "execute_result"
    }
   ],
   "source": [
    "df = pd.read_csv('https://raw.githubusercontent.com/aribis369/loan/main/Modeling%20dataset.csv')\n",
    "df.head()"
   ]
  },
  {
   "cell_type": "code",
   "execution_count": 3,
   "metadata": {
    "colab": {
     "base_uri": "https://localhost:8080/",
     "height": 315
    },
    "id": "5QZOcKb9x5-4",
    "outputId": "fb85a581-07c0-4321-bfd9-6255eeb1a87a"
   },
   "outputs": [
    {
     "data": {
      "text/html": [
       "<div>\n",
       "<style scoped>\n",
       "    .dataframe tbody tr th:only-of-type {\n",
       "        vertical-align: middle;\n",
       "    }\n",
       "\n",
       "    .dataframe tbody tr th {\n",
       "        vertical-align: top;\n",
       "    }\n",
       "\n",
       "    .dataframe thead th {\n",
       "        text-align: right;\n",
       "    }\n",
       "</style>\n",
       "<table border=\"1\" class=\"dataframe\">\n",
       "  <thead>\n",
       "    <tr style=\"text-align: right;\">\n",
       "      <th></th>\n",
       "      <th>id</th>\n",
       "      <th>loan_amnt</th>\n",
       "      <th>emp_length</th>\n",
       "      <th>annual_inc</th>\n",
       "      <th>delinq_2yrs</th>\n",
       "      <th>inq_last_6mths</th>\n",
       "      <th>mths_since_last_delinq</th>\n",
       "      <th>mths_since_last_record</th>\n",
       "      <th>open_acc</th>\n",
       "      <th>pub_rec</th>\n",
       "      <th>revol_bal</th>\n",
       "      <th>revol_util</th>\n",
       "      <th>total_acc</th>\n",
       "    </tr>\n",
       "  </thead>\n",
       "  <tbody>\n",
       "    <tr>\n",
       "      <th>count</th>\n",
       "      <td>1.500000e+04</td>\n",
       "      <td>15000.000000</td>\n",
       "      <td>15000.000000</td>\n",
       "      <td>1.500000e+04</td>\n",
       "      <td>15000.000000</td>\n",
       "      <td>15000.000000</td>\n",
       "      <td>15000.000000</td>\n",
       "      <td>15000.000000</td>\n",
       "      <td>15000.000000</td>\n",
       "      <td>15000.000000</td>\n",
       "      <td>15000.000000</td>\n",
       "      <td>15000.000000</td>\n",
       "      <td>15000.000000</td>\n",
       "    </tr>\n",
       "    <tr>\n",
       "      <th>mean</th>\n",
       "      <td>6.851470e+05</td>\n",
       "      <td>11235.113333</td>\n",
       "      <td>5.037667</td>\n",
       "      <td>6.818813e+04</td>\n",
       "      <td>0.143667</td>\n",
       "      <td>0.869133</td>\n",
       "      <td>90.317000</td>\n",
       "      <td>125.894133</td>\n",
       "      <td>9.327333</td>\n",
       "      <td>0.053600</td>\n",
       "      <td>13482.444933</td>\n",
       "      <td>0.489505</td>\n",
       "      <td>22.270933</td>\n",
       "    </tr>\n",
       "    <tr>\n",
       "      <th>std</th>\n",
       "      <td>2.084107e+05</td>\n",
       "      <td>7417.557711</td>\n",
       "      <td>3.352978</td>\n",
       "      <td>5.101434e+04</td>\n",
       "      <td>0.477188</td>\n",
       "      <td>1.062865</td>\n",
       "      <td>42.309275</td>\n",
       "      <td>19.084559</td>\n",
       "      <td>4.444776</td>\n",
       "      <td>0.233089</td>\n",
       "      <td>16094.076787</td>\n",
       "      <td>0.282652</td>\n",
       "      <td>11.528179</td>\n",
       "    </tr>\n",
       "    <tr>\n",
       "      <th>min</th>\n",
       "      <td>5.473400e+04</td>\n",
       "      <td>500.000000</td>\n",
       "      <td>1.000000</td>\n",
       "      <td>6.000000e+03</td>\n",
       "      <td>0.000000</td>\n",
       "      <td>0.000000</td>\n",
       "      <td>0.000000</td>\n",
       "      <td>0.000000</td>\n",
       "      <td>2.000000</td>\n",
       "      <td>0.000000</td>\n",
       "      <td>0.000000</td>\n",
       "      <td>0.000000</td>\n",
       "      <td>2.000000</td>\n",
       "    </tr>\n",
       "    <tr>\n",
       "      <th>25%</th>\n",
       "      <td>5.203982e+05</td>\n",
       "      <td>5500.000000</td>\n",
       "      <td>2.000000</td>\n",
       "      <td>4.056300e+04</td>\n",
       "      <td>0.000000</td>\n",
       "      <td>0.000000</td>\n",
       "      <td>48.000000</td>\n",
       "      <td>130.000000</td>\n",
       "      <td>6.000000</td>\n",
       "      <td>0.000000</td>\n",
       "      <td>3716.500000</td>\n",
       "      <td>0.260000</td>\n",
       "      <td>14.000000</td>\n",
       "    </tr>\n",
       "    <tr>\n",
       "      <th>50%</th>\n",
       "      <td>6.701385e+05</td>\n",
       "      <td>10000.000000</td>\n",
       "      <td>4.000000</td>\n",
       "      <td>5.900000e+04</td>\n",
       "      <td>0.000000</td>\n",
       "      <td>1.000000</td>\n",
       "      <td>120.000000</td>\n",
       "      <td>130.000000</td>\n",
       "      <td>9.000000</td>\n",
       "      <td>0.000000</td>\n",
       "      <td>8901.000000</td>\n",
       "      <td>0.490000</td>\n",
       "      <td>21.000000</td>\n",
       "    </tr>\n",
       "    <tr>\n",
       "      <th>75%</th>\n",
       "      <td>8.372712e+05</td>\n",
       "      <td>15000.000000</td>\n",
       "      <td>8.000000</td>\n",
       "      <td>8.200000e+04</td>\n",
       "      <td>0.000000</td>\n",
       "      <td>1.000000</td>\n",
       "      <td>120.000000</td>\n",
       "      <td>130.000000</td>\n",
       "      <td>12.000000</td>\n",
       "      <td>0.000000</td>\n",
       "      <td>17117.500000</td>\n",
       "      <td>0.720000</td>\n",
       "      <td>29.000000</td>\n",
       "    </tr>\n",
       "    <tr>\n",
       "      <th>max</th>\n",
       "      <td>1.075269e+06</td>\n",
       "      <td>35000.000000</td>\n",
       "      <td>10.000000</td>\n",
       "      <td>2.039784e+06</td>\n",
       "      <td>8.000000</td>\n",
       "      <td>8.000000</td>\n",
       "      <td>120.000000</td>\n",
       "      <td>130.000000</td>\n",
       "      <td>42.000000</td>\n",
       "      <td>4.000000</td>\n",
       "      <td>149527.000000</td>\n",
       "      <td>1.000000</td>\n",
       "      <td>81.000000</td>\n",
       "    </tr>\n",
       "  </tbody>\n",
       "</table>\n",
       "</div>"
      ],
      "text/plain": [
       "                 id     loan_amnt  ...    revol_util     total_acc\n",
       "count  1.500000e+04  15000.000000  ...  15000.000000  15000.000000\n",
       "mean   6.851470e+05  11235.113333  ...      0.489505     22.270933\n",
       "std    2.084107e+05   7417.557711  ...      0.282652     11.528179\n",
       "min    5.473400e+04    500.000000  ...      0.000000      2.000000\n",
       "25%    5.203982e+05   5500.000000  ...      0.260000     14.000000\n",
       "50%    6.701385e+05  10000.000000  ...      0.490000     21.000000\n",
       "75%    8.372712e+05  15000.000000  ...      0.720000     29.000000\n",
       "max    1.075269e+06  35000.000000  ...      1.000000     81.000000\n",
       "\n",
       "[8 rows x 13 columns]"
      ]
     },
     "execution_count": 3,
     "metadata": {
      "tags": []
     },
     "output_type": "execute_result"
    }
   ],
   "source": [
    "df.describe()"
   ]
  },
  {
   "cell_type": "code",
   "execution_count": 4,
   "metadata": {
    "colab": {
     "base_uri": "https://localhost:8080/"
    },
    "id": "nNyMAQTi3wMt",
    "outputId": "dd8980dc-a834-44ca-af20-92a9e61cf91b"
   },
   "outputs": [
    {
     "data": {
      "text/plain": [
       "(15000, 17)"
      ]
     },
     "execution_count": 4,
     "metadata": {
      "tags": []
     },
     "output_type": "execute_result"
    }
   ],
   "source": [
    "df.shape"
   ]
  },
  {
   "cell_type": "code",
   "execution_count": 5,
   "metadata": {
    "colab": {
     "base_uri": "https://localhost:8080/"
    },
    "id": "far7jgckysJx",
    "outputId": "c10b615b-9c97-4106-a649-40d805539ea2"
   },
   "outputs": [
    {
     "data": {
      "text/plain": [
       "debt_consolidation    7101\n",
       "credit_card           1856\n",
       "other                 1466\n",
       "home_improvement      1178\n",
       "major_purchase         830\n",
       "small_business         678\n",
       "car                    608\n",
       "wedding                373\n",
       "medical                271\n",
       "moving                 198\n",
       "vacation               144\n",
       "house                  135\n",
       "educational            122\n",
       "renewable_energy        40\n",
       "Name: purpose, dtype: int64"
      ]
     },
     "execution_count": 5,
     "metadata": {
      "tags": []
     },
     "output_type": "execute_result"
    }
   ],
   "source": [
    "df['purpose'].value_counts()"
   ]
  },
  {
   "cell_type": "code",
   "execution_count": 6,
   "metadata": {
    "colab": {
     "base_uri": "https://localhost:8080/"
    },
    "id": "KJtrMQ8bdOdI",
    "outputId": "8db040a4-febf-4ad5-e32d-90dbb705aebd"
   },
   "outputs": [
    {
     "data": {
      "text/plain": [
       "Fully Paid            9416\n",
       "Current               3542\n",
       "Charged Off           1872\n",
       "Late (31-120 days)      78\n",
       "In Grace Period         63\n",
       "Late (16-30 days)       23\n",
       "Default                  6\n",
       "Name: loan_status, dtype: int64"
      ]
     },
     "execution_count": 6,
     "metadata": {
      "tags": []
     },
     "output_type": "execute_result"
    }
   ],
   "source": [
    "df['loan_status'].value_counts()"
   ]
  },
  {
   "cell_type": "code",
   "execution_count": null,
   "metadata": {
    "id": "vmxi191X2Wrh"
   },
   "outputs": [],
   "source": [
    "#df['loan_status'] = df['loan_status'].replace(['Charged Off','Late (31-120 days)','In Grace Period','Late (16-30 days)','Default'], '0')\n",
    "#df['loan_status'] = df['loan_status'].replace(['Fully Paid','Current'], '1')\n",
    "\n",
    "\n",
    "df['loan_status'] = df['loan_status'].replace(['Charged Off','Late (31-120 days)','In Grace Period','Late (16-30 days)','Current','Default'], '0')\n",
    "df['loan_status'] = df['loan_status'].replace(['Fully Paid'], '1')"
   ]
  },
  {
   "cell_type": "markdown",
   "metadata": {
    "id": "Jr_WVJ6A3S4i"
   },
   "source": [
    "1: good loans, 0: bad loans"
   ]
  },
  {
   "cell_type": "code",
   "execution_count": null,
   "metadata": {
    "colab": {
     "base_uri": "https://localhost:8080/"
    },
    "id": "dklwherM297i",
    "outputId": "3e8c6afa-4d4d-4bd1-f2f3-803fb7726e67"
   },
   "outputs": [
    {
     "data": {
      "text/plain": [
       "1    9416\n",
       "0    5584\n",
       "Name: loan_status, dtype: int64"
      ]
     },
     "execution_count": 77,
     "metadata": {
      "tags": []
     },
     "output_type": "execute_result"
    }
   ],
   "source": [
    "df['loan_status'].value_counts()"
   ]
  },
  {
   "cell_type": "code",
   "execution_count": null,
   "metadata": {
    "colab": {
     "base_uri": "https://localhost:8080/"
    },
    "id": "Nb5EeD8S3bdw",
    "outputId": "6055fe97-dab5-4fc5-c154-b12591935272"
   },
   "outputs": [
    {
     "data": {
      "text/plain": [
       "debt_consolidation    7101\n",
       "credit_card           1856\n",
       "other                 1466\n",
       "home_improvement      1178\n",
       "major_purchase         830\n",
       "small_business         678\n",
       "car                    608\n",
       "wedding                373\n",
       "medical                271\n",
       "moving                 198\n",
       "vacation               144\n",
       "house                  135\n",
       "educational            122\n",
       "renewable_energy        40\n",
       "Name: purpose, dtype: int64"
      ]
     },
     "execution_count": 8,
     "metadata": {
      "tags": []
     },
     "output_type": "execute_result"
    }
   ],
   "source": [
    "df['purpose'].value_counts()"
   ]
  },
  {
   "cell_type": "code",
   "execution_count": null,
   "metadata": {
    "id": "3GHxEs9Q6Ga5"
   },
   "outputs": [],
   "source": [
    "dfp = df[['loan_amnt','loan_status']] "
   ]
  },
  {
   "cell_type": "code",
   "execution_count": 18,
   "metadata": {
    "colab": {
     "base_uri": "https://localhost:8080/",
     "height": 498
    },
    "id": "kRYby7UH7auE",
    "outputId": "0cf2832f-d36e-4f01-ee5d-b1ae6c3ed9fa"
   },
   "outputs": [
    {
     "data": {
      "image/png": "[encoded data removed]",
      "text/plain": [
       "<Figure size 1440x576 with 1 Axes>"
      ]
     },
     "metadata": {
      "needs_background": "light",
      "tags": []
     },
     "output_type": "display_data"
    }
   ],
   "source": [
    "plt.figure(figsize=(20,8))\n",
    "\n",
    "#plt.subplot(1,2,1)\n",
    "#sns.countplot(df.loan_status, palette=(\"cubehelix\"))\n",
    "\n",
    "plt.subplot(1,2,2)\n",
    "sns.boxplot(x=df['revol_util'], y=df.loan_status, palette=(\"cubehelix\"))\n",
    "\n",
    "plt.show()"
   ]
  },
  {
   "cell_type": "code",
   "execution_count": 17,
   "metadata": {
    "colab": {
     "base_uri": "https://localhost:8080/",
     "height": 483
    },
    "id": "9mvYHarpO6RU",
    "outputId": "0506c526-a058-43a1-ab06-52f968966b93"
   },
   "outputs": [
    {
     "data": {
      "image/png": "[encoded data removed]",
      "text/plain": [
       "<Figure size 1440x576 with 1 Axes>"
      ]
     },
     "metadata": {
      "needs_background": "light",
      "tags": []
     },
     "output_type": "display_data"
    }
   ],
   "source": [
    "plt.figure(figsize=(20,8))\n",
    "\n",
    "#plt.subplot(1,2,1)\n",
    "#sns.countplot(df.loan_status, palette=(\"cubehelix\"))\n",
    "\n",
    "plt.subplot(1,2,2)\n",
    "sns.boxplot(x=df['loan_amnt']/df['annual_inc'], y=df.loan_status, palette=(\"cubehelix\"))\n",
    "\n",
    "plt.show()"
   ]
  },
  {
   "cell_type": "code",
   "execution_count": 16,
   "metadata": {
    "colab": {
     "base_uri": "https://localhost:8080/",
     "height": 483
    },
    "id": "INGyub7KPf8f",
    "outputId": "308d19b1-06e9-4bc0-edd6-bac9cb30f3b5"
   },
   "outputs": [
    {
     "data": {
      "image/png": "[encoded data removed]",
      "text/plain": [
       "<Figure size 1440x576 with 1 Axes>"
      ]
     },
     "metadata": {
      "needs_background": "light",
      "tags": []
     },
     "output_type": "display_data"
    }
   ],
   "source": [
    "plt.figure(figsize=(20,8))\n",
    "\n",
    "#plt.subplot(1,2,1)\n",
    "#sns.countplot(df.loan_status, palette=(\"cubehelix\"))\n",
    "\n",
    "plt.subplot(1,2,2)\n",
    "sns.boxplot(x=df['revol_bal']/df['open_acc'], y=df.loan_status, palette=(\"cubehelix\"))\n",
    "\n",
    "plt.show()"
   ]
  },
  {
   "cell_type": "code",
   "execution_count": null,
   "metadata": {
    "id": "wKop6ZbZnUr1"
   },
   "outputs": [],
   "source": [
    "revol_util, loan_amnt_1, annual_inc_1, revol_bal_2, open_acc_2, total_acc_3, open_acc_3, inq_last_6mths_-, purpose_(measure risk factor), year, "
   ]
  },
  {
   "cell_type": "code",
   "execution_count": 20,
   "metadata": {
    "colab": {
     "base_uri": "https://localhost:8080/",
     "height": 483
    },
    "id": "0H0IyzMNAHGr",
    "outputId": "173ac7d3-58fc-4084-90b1-6d6f50c32a4d"
   },
   "outputs": [
    {
     "data": {
      "image/png": "[encoded data removed]",
      "text/plain": [
       "<Figure size 1440x576 with 1 Axes>"
      ]
     },
     "metadata": {
      "needs_background": "light",
      "tags": []
     },
     "output_type": "display_data"
    }
   ],
   "source": [
    "plt.figure(figsize=(20,8))\n",
    "\n",
    "#plt.subplot(1,2,1)\n",
    "#sns.scatterplot(df.loan_status, df.annual_inc)\n",
    "\n",
    "plt.subplot(1,2,2)\n",
    "#sns.boxplot(x=df.revol_util, y=df.loan_status, palette=(\"cubehelix\"))\n",
    "sns.boxplot(x=df['total_acc']-2*df['open_acc'], y=df.loan_status, palette=(\"cubehelix\"))\n",
    "\n",
    "\n",
    "plt.show()"
   ]
  },
  {
   "cell_type": "code",
   "execution_count": 21,
   "metadata": {
    "colab": {
     "base_uri": "https://localhost:8080/"
    },
    "id": "JLde7mmDXK29",
    "outputId": "9064ecdf-34f3-4ddb-8e24-1f2cce7657ab"
   },
   "outputs": [
    {
     "name": "stdout",
     "output_type": "stream",
     "text": [
      "purpose             loan_status       \n",
      "car                 Charged Off             70\n",
      "                    Current                167\n",
      "                    Fully Paid             369\n",
      "                    In Grace Period          1\n",
      "                    Late (31-120 days)       1\n",
      "credit_card         Charged Off            156\n",
      "                    Current                454\n",
      "                    Default                  1\n",
      "                    Fully Paid            1228\n",
      "                    In Grace Period          5\n",
      "                    Late (16-30 days)        2\n",
      "                    Late (31-120 days)      10\n",
      "debt_consolidation  Charged Off            897\n",
      "                    Current               1717\n",
      "                    Default                  3\n",
      "                    Fully Paid            4402\n",
      "                    In Grace Period         24\n",
      "                    Late (16-30 days)       15\n",
      "                    Late (31-120 days)      43\n",
      "educational         Charged Off             27\n",
      "                    Current                  2\n",
      "                    Fully Paid              93\n",
      "home_improvement    Charged Off            118\n",
      "                    Current                309\n",
      "                    Fully Paid             736\n",
      "                    In Grace Period          8\n",
      "                    Late (16-30 days)        3\n",
      "                    Late (31-120 days)       4\n",
      "house               Charged Off             17\n",
      "                    Current                 27\n",
      "                    Fully Paid              90\n",
      "                    Late (16-30 days)        1\n",
      "major_purchase      Charged Off             79\n",
      "                    Current                161\n",
      "                    Fully Paid             582\n",
      "                    In Grace Period          5\n",
      "                    Late (31-120 days)       3\n",
      "medical             Charged Off             44\n",
      "                    Current                 67\n",
      "                    Fully Paid             157\n",
      "                    In Grace Period          2\n",
      "                    Late (31-120 days)       1\n",
      "moving              Charged Off             27\n",
      "                    Current                 48\n",
      "                    Fully Paid             118\n",
      "                    In Grace Period          2\n",
      "                    Late (31-120 days)       3\n",
      "other               Charged Off            203\n",
      "                    Current                310\n",
      "                    Default                  1\n",
      "                    Fully Paid             937\n",
      "                    In Grace Period          9\n",
      "                    Late (16-30 days)        1\n",
      "                    Late (31-120 days)       5\n",
      "renewable_energy    Charged Off              8\n",
      "                    Current                  9\n",
      "                    Fully Paid              22\n",
      "                    In Grace Period          1\n",
      "small_business      Charged Off            178\n",
      "                    Current                153\n",
      "                    Default                  1\n",
      "                    Fully Paid             336\n",
      "                    In Grace Period          5\n",
      "                    Late (31-120 days)       5\n",
      "vacation            Charged Off             18\n",
      "                    Current                 30\n",
      "                    Fully Paid              94\n",
      "                    Late (31-120 days)       2\n",
      "wedding             Charged Off             30\n",
      "                    Current                 88\n",
      "                    Fully Paid             252\n",
      "                    In Grace Period          1\n",
      "                    Late (16-30 days)        1\n",
      "                    Late (31-120 days)       1\n",
      "dtype: int64\n"
     ]
    }
   ],
   "source": [
    "pd.set_option('display.max_rows', 500)\n",
    "\n",
    "print(df.groupby(['purpose', 'loan_status']).size())"
   ]
  },
  {
   "cell_type": "code",
   "execution_count": 22,
   "metadata": {
    "id": "nHn7JX6ce5xS"
   },
   "outputs": [],
   "source": [
    "debt_consolidation = 879/4402\n",
    "car = 70/369\n",
    "credit_card = 156/1228\n",
    "educational = 27/93\n",
    "home_improvement = 118/736\n",
    "house = 17/90\n",
    "major_purchase = 57/582\n",
    "medical = 44/157\n",
    "moving = 27/118\n",
    "other = 203/937\n",
    "renewable_energy = 8/22\n",
    "small_business = 178/336\n",
    "vacation = 18/94\n",
    "wedding = 30/252"
   ]
  },
  {
   "cell_type": "code",
   "execution_count": 23,
   "metadata": {
    "colab": {
     "base_uri": "https://localhost:8080/"
    },
    "id": "Rtah8_NJgilP",
    "outputId": "b16032b2-dff0-4845-b70e-0a7c71c11acc"
   },
   "outputs": [
    {
     "name": "stdout",
     "output_type": "stream",
     "text": [
      "0.1996819627442072\n",
      "0.1897018970189702\n",
      "0.1270358306188925\n",
      "0.2903225806451613\n",
      "0.16032608695652173\n",
      "0.18888888888888888\n",
      "0.0979381443298969\n",
      "0.2802547770700637\n",
      "0.2288135593220339\n",
      "0.21664887940234792\n",
      "0.36363636363636365\n",
      "0.5297619047619048\n",
      "0.19148936170212766\n",
      "0.11904761904761904\n"
     ]
    }
   ],
   "source": [
    "print(debt_consolidation)#2\n",
    "print(car)#1\n",
    "print(credit_card)#0\n",
    "print(educational)#2\n",
    "print(home_improvement)#1\n",
    "print(house)#1\n",
    "print(major_purchase)#0\n",
    "print(medical)#2\n",
    "print(moving)#2\n",
    "print(other)#2\n",
    "print(renewable_energy)#2\n",
    "print(small_business)#2\n",
    "print(vacation)#1\n",
    "print(wedding)#0"
   ]
  },
  {
   "cell_type": "code",
   "execution_count": 24,
   "metadata": {
    "id": "xZhayVTnQpOx"
   },
   "outputs": [],
   "source": [
    "df['purpose'] = df['purpose'].replace(['credit_card','major_purchase','wedding'], '0')\n",
    "df['purpose'] = df['purpose'].replace(['car','home_improvement','house','vacation'], '1')\n",
    "df['purpose'] = df['purpose'].replace(['educational','other','renewable_energy','small_business','debt_consolidation','moving','medical'], '2')"
   ]
  },
  {
   "cell_type": "code",
   "execution_count": 25,
   "metadata": {
    "colab": {
     "base_uri": "https://localhost:8080/"
    },
    "id": "9Kd2QaCDTch-",
    "outputId": "f0d78bad-c926-42a1-c63f-48f5ef0e9d19"
   },
   "outputs": [
    {
     "data": {
      "text/plain": [
       "2    9876\n",
       "0    3059\n",
       "1    2065\n",
       "Name: purpose, dtype: int64"
      ]
     },
     "execution_count": 25,
     "metadata": {
      "tags": []
     },
     "output_type": "execute_result"
    }
   ],
   "source": [
    "df['purpose'].value_counts()"
   ]
  },
  {
   "cell_type": "code",
   "execution_count": 26,
   "metadata": {
    "id": "nyrnzO_iVUV1"
   },
   "outputs": [],
   "source": [
    "df['purpose'] = pd.to_numeric(df['purpose'])"
   ]
  },
  {
   "cell_type": "code",
   "execution_count": null,
   "metadata": {
    "colab": {
     "base_uri": "https://localhost:8080/",
     "height": 418
    },
    "id": "RuMy6znKHORW",
    "outputId": "52160126-f5c9-4efa-8a54-5bdbdfcfefa3"
   },
   "outputs": [
    {
     "data": {
      "text/plain": [
       "loan_status\n",
       "Charged Off           AxesSubplot(0.125,0.125;0.775x0.755)\n",
       "Current               AxesSubplot(0.125,0.125;0.775x0.755)\n",
       "Default               AxesSubplot(0.125,0.125;0.775x0.755)\n",
       "Fully Paid            AxesSubplot(0.125,0.125;0.775x0.755)\n",
       "In Grace Period       AxesSubplot(0.125,0.125;0.775x0.755)\n",
       "Late (16-30 days)     AxesSubplot(0.125,0.125;0.775x0.755)\n",
       "Late (31-120 days)    AxesSubplot(0.125,0.125;0.775x0.755)\n",
       "Name: year, dtype: object"
      ]
     },
     "execution_count": 16,
     "metadata": {
      "tags": []
     },
     "output_type": "execute_result"
    },
    {
     "data": {
      "image/png": "[encoded data removed]",
      "text/plain": [
       "<Figure size 432x288 with 1 Axes>"
      ]
     },
     "metadata": {
      "needs_background": "light",
      "tags": []
     },
     "output_type": "display_data"
    }
   ],
   "source": [
    "df.groupby('loan_status').year.plot(kind='kde', legend=True)\n",
    "\n",
    "\n",
    "#df.groupby('loan_status').emp_length.plot(kind='kde', legend=True)\n",
    "\n",
    "#df.groupby('loan_status').inq_last_6mths.hist(legend=True)\n",
    "\n"
   ]
  },
  {
   "cell_type": "code",
   "execution_count": 27,
   "metadata": {
    "id": "8ibtEQ-22Klg"
   },
   "outputs": [],
   "source": [
    "df['earliest_cr_line'][0]\n",
    "\n",
    "df['year'] = pd.DatetimeIndex(pd.to_datetime(df['earliest_cr_line'])).year"
   ]
  },
  {
   "cell_type": "code",
   "execution_count": 28,
   "metadata": {
    "colab": {
     "base_uri": "https://localhost:8080/"
    },
    "id": "2avBnt0au4Dk",
    "outputId": "6381aaa0-2474-40fc-ff79-99828a5c9c72"
   },
   "outputs": [
    {
     "name": "stdout",
     "output_type": "stream",
     "text": [
      "year  loan_status       \n",
      "1950  Fully Paid              1\n",
      "1956  Fully Paid              1\n",
      "1961  Fully Paid              2\n",
      "1962  Fully Paid              1\n",
      "1963  Current                 2\n",
      "      Fully Paid              1\n",
      "1964  Current                 2\n",
      "      Fully Paid              1\n",
      "1965  Current                 1\n",
      "1966  Charged Off             1\n",
      "      Current                 1\n",
      "      Fully Paid              2\n",
      "1967  Charged Off             1\n",
      "      Fully Paid              3\n",
      "1968  Charged Off             1\n",
      "      Current                 2\n",
      "1969  Charged Off             2\n",
      "      Current                 1\n",
      "      Fully Paid              7\n",
      "1970  Charged Off             2\n",
      "      Current                 3\n",
      "      Fully Paid             12\n",
      "1971  Charged Off             1\n",
      "      Current                 4\n",
      "      Fully Paid              9\n",
      "1972  Charged Off             2\n",
      "      Current                 6\n",
      "      Fully Paid              6\n",
      "1973  Charged Off             4\n",
      "      Current                 8\n",
      "      Fully Paid             11\n",
      "1974  Charged Off             1\n",
      "      Current                 8\n",
      "      Fully Paid             15\n",
      "1975  Charged Off             7\n",
      "      Current                 7\n",
      "      Fully Paid             35\n",
      "1976  Charged Off             3\n",
      "      Current                15\n",
      "      Fully Paid             20\n",
      "      In Grace Period         1\n",
      "      Late (31-120 days)      1\n",
      "1977  Charged Off             3\n",
      "      Current                15\n",
      "      Fully Paid             19\n",
      "1978  Charged Off             6\n",
      "      Current                17\n",
      "      Fully Paid             47\n",
      "1979  Charged Off             9\n",
      "      Current                18\n",
      "      Fully Paid             41\n",
      "1980  Charged Off             4\n",
      "      Current                16\n",
      "      Fully Paid             46\n",
      "1981  Charged Off             9\n",
      "      Current                17\n",
      "      Fully Paid             34\n",
      "      Late (31-120 days)      1\n",
      "1982  Charged Off            24\n",
      "      Current                22\n",
      "      Fully Paid             39\n",
      "      In Grace Period         1\n",
      "      Late (31-120 days)      2\n",
      "1983  Charged Off            21\n",
      "      Current                39\n",
      "      Fully Paid             75\n",
      "      In Grace Period         1\n",
      "      Late (31-120 days)      1\n",
      "1984  Charged Off            16\n",
      "      Current                51\n",
      "      Fully Paid            117\n",
      "      In Grace Period         4\n",
      "1985  Charged Off            17\n",
      "      Current                54\n",
      "      Default                 1\n",
      "      Fully Paid            121\n",
      "      Late (16-30 days)       1\n",
      "1986  Charged Off            18\n",
      "      Current                50\n",
      "      Fully Paid             99\n",
      "      In Grace Period         3\n",
      "      Late (31-120 days)      1\n",
      "1987  Charged Off            30\n",
      "      Current                71\n",
      "      Fully Paid            129\n",
      "      In Grace Period         4\n",
      "      Late (31-120 days)      1\n",
      "1988  Charged Off            38\n",
      "      Current                81\n",
      "      Fully Paid            133\n",
      "      In Grace Period         1\n",
      "      Late (31-120 days)      3\n",
      "1989  Charged Off            39\n",
      "      Current                73\n",
      "      Default                 1\n",
      "      Fully Paid            212\n",
      "      Late (16-30 days)       2\n",
      "1990  Charged Off            24\n",
      "      Current                95\n",
      "      Fully Paid            247\n",
      "      In Grace Period         1\n",
      "      Late (31-120 days)      1\n",
      "1991  Charged Off            40\n",
      "      Current                85\n",
      "      Fully Paid            230\n",
      "      Late (31-120 days)      1\n",
      "1992  Charged Off            50\n",
      "      Current                99\n",
      "      Fully Paid            236\n",
      "      In Grace Period         2\n",
      "      Late (31-120 days)      4\n",
      "1993  Charged Off            72\n",
      "      Current               130\n",
      "      Default                 1\n",
      "      Fully Paid            336\n",
      "      In Grace Period         3\n",
      "      Late (16-30 days)       2\n",
      "      Late (31-120 days)      2\n",
      "1994  Charged Off            80\n",
      "      Current               169\n",
      "      Fully Paid            518\n",
      "      In Grace Period         4\n",
      "      Late (16-30 days)       1\n",
      "      Late (31-120 days)      3\n",
      "1995  Charged Off            97\n",
      "      Current               179\n",
      "      Fully Paid            533\n",
      "      In Grace Period         4\n",
      "      Late (16-30 days)       3\n",
      "      Late (31-120 days)      5\n",
      "1996  Charged Off           101\n",
      "      Current               191\n",
      "      Fully Paid            497\n",
      "      In Grace Period         4\n",
      "      Late (31-120 days)      1\n",
      "1997  Charged Off           140\n",
      "      Current               235\n",
      "      Default                 1\n",
      "      Fully Paid            633\n",
      "      In Grace Period         5\n",
      "      Late (16-30 days)       3\n",
      "      Late (31-120 days)      3\n",
      "1998  Charged Off           141\n",
      "      Current               239\n",
      "      Fully Paid            686\n",
      "      In Grace Period         5\n",
      "      Late (16-30 days)       2\n",
      "      Late (31-120 days)      7\n",
      "1999  Charged Off           132\n",
      "      Current               268\n",
      "      Fully Paid            707\n",
      "      In Grace Period         2\n",
      "      Late (31-120 days)      7\n",
      "2000  Charged Off           167\n",
      "      Current               282\n",
      "      Fully Paid            775\n",
      "      In Grace Period         3\n",
      "      Late (16-30 days)       1\n",
      "      Late (31-120 days)     10\n",
      "2001  Charged Off           116\n",
      "      Current               224\n",
      "      Default                 1\n",
      "      Fully Paid            585\n",
      "      In Grace Period         2\n",
      "      Late (16-30 days)       3\n",
      "      Late (31-120 days)      8\n",
      "2002  Charged Off            96\n",
      "      Current               166\n",
      "      Default                 1\n",
      "      Fully Paid            539\n",
      "      In Grace Period         1\n",
      "      Late (31-120 days)      5\n",
      "2003  Charged Off            73\n",
      "      Current               141\n",
      "      Fully Paid            452\n",
      "      In Grace Period         4\n",
      "      Late (16-30 days)       2\n",
      "      Late (31-120 days)      2\n",
      "2004  Charged Off            69\n",
      "      Current               139\n",
      "      Fully Paid            425\n",
      "      In Grace Period         4\n",
      "      Late (16-30 days)       1\n",
      "      Late (31-120 days)      3\n",
      "2005  Charged Off            86\n",
      "      Current               120\n",
      "      Fully Paid            352\n",
      "      In Grace Period         1\n",
      "      Late (31-120 days)      1\n",
      "2006  Charged Off            79\n",
      "      Current                99\n",
      "      Fully Paid            251\n",
      "      In Grace Period         2\n",
      "      Late (16-30 days)       1\n",
      "      Late (31-120 days)      1\n",
      "2007  Charged Off            40\n",
      "      Current                74\n",
      "      Fully Paid            144\n",
      "      Late (31-120 days)      2\n",
      "2008  Charged Off            10\n",
      "      Current                23\n",
      "      Fully Paid             31\n",
      "      In Grace Period         1\n",
      "      Late (16-30 days)       1\n",
      "      Late (31-120 days)      2\n",
      "dtype: int64\n"
     ]
    }
   ],
   "source": [
    "print(df.groupby(['year', 'loan_status']).size())"
   ]
  },
  {
   "cell_type": "code",
   "execution_count": 29,
   "metadata": {
    "colab": {
     "base_uri": "https://localhost:8080/",
     "height": 315
    },
    "id": "4babAkRaUt0q",
    "outputId": "589ca0d2-efb6-4bb0-a01c-57427b650401"
   },
   "outputs": [
    {
     "data": {
      "text/html": [
       "<div>\n",
       "<style scoped>\n",
       "    .dataframe tbody tr th:only-of-type {\n",
       "        vertical-align: middle;\n",
       "    }\n",
       "\n",
       "    .dataframe tbody tr th {\n",
       "        vertical-align: top;\n",
       "    }\n",
       "\n",
       "    .dataframe thead th {\n",
       "        text-align: right;\n",
       "    }\n",
       "</style>\n",
       "<table border=\"1\" class=\"dataframe\">\n",
       "  <thead>\n",
       "    <tr style=\"text-align: right;\">\n",
       "      <th></th>\n",
       "      <th>id</th>\n",
       "      <th>loan_amnt</th>\n",
       "      <th>emp_length</th>\n",
       "      <th>annual_inc</th>\n",
       "      <th>delinq_2yrs</th>\n",
       "      <th>inq_last_6mths</th>\n",
       "      <th>mths_since_last_delinq</th>\n",
       "      <th>mths_since_last_record</th>\n",
       "      <th>open_acc</th>\n",
       "      <th>pub_rec</th>\n",
       "      <th>revol_bal</th>\n",
       "      <th>revol_util</th>\n",
       "      <th>total_acc</th>\n",
       "      <th>purpose</th>\n",
       "      <th>year</th>\n",
       "    </tr>\n",
       "  </thead>\n",
       "  <tbody>\n",
       "    <tr>\n",
       "      <th>count</th>\n",
       "      <td>1.500000e+04</td>\n",
       "      <td>15000.000000</td>\n",
       "      <td>15000.000000</td>\n",
       "      <td>1.500000e+04</td>\n",
       "      <td>15000.000000</td>\n",
       "      <td>15000.000000</td>\n",
       "      <td>15000.000000</td>\n",
       "      <td>15000.000000</td>\n",
       "      <td>15000.000000</td>\n",
       "      <td>15000.000000</td>\n",
       "      <td>15000.000000</td>\n",
       "      <td>15000.000000</td>\n",
       "      <td>15000.000000</td>\n",
       "      <td>15000.000000</td>\n",
       "      <td>15000.000000</td>\n",
       "    </tr>\n",
       "    <tr>\n",
       "      <th>mean</th>\n",
       "      <td>6.851470e+05</td>\n",
       "      <td>11235.113333</td>\n",
       "      <td>5.037667</td>\n",
       "      <td>6.818813e+04</td>\n",
       "      <td>0.143667</td>\n",
       "      <td>0.869133</td>\n",
       "      <td>90.317000</td>\n",
       "      <td>125.894133</td>\n",
       "      <td>9.327333</td>\n",
       "      <td>0.053600</td>\n",
       "      <td>13482.444933</td>\n",
       "      <td>0.489505</td>\n",
       "      <td>22.270933</td>\n",
       "      <td>1.454467</td>\n",
       "      <td>1996.578600</td>\n",
       "    </tr>\n",
       "    <tr>\n",
       "      <th>std</th>\n",
       "      <td>2.084107e+05</td>\n",
       "      <td>7417.557711</td>\n",
       "      <td>3.352978</td>\n",
       "      <td>5.101434e+04</td>\n",
       "      <td>0.477188</td>\n",
       "      <td>1.062865</td>\n",
       "      <td>42.309275</td>\n",
       "      <td>19.084559</td>\n",
       "      <td>4.444776</td>\n",
       "      <td>0.233089</td>\n",
       "      <td>16094.076787</td>\n",
       "      <td>0.282652</td>\n",
       "      <td>11.528179</td>\n",
       "      <td>0.809838</td>\n",
       "      <td>6.785796</td>\n",
       "    </tr>\n",
       "    <tr>\n",
       "      <th>min</th>\n",
       "      <td>5.473400e+04</td>\n",
       "      <td>500.000000</td>\n",
       "      <td>1.000000</td>\n",
       "      <td>6.000000e+03</td>\n",
       "      <td>0.000000</td>\n",
       "      <td>0.000000</td>\n",
       "      <td>0.000000</td>\n",
       "      <td>0.000000</td>\n",
       "      <td>2.000000</td>\n",
       "      <td>0.000000</td>\n",
       "      <td>0.000000</td>\n",
       "      <td>0.000000</td>\n",
       "      <td>2.000000</td>\n",
       "      <td>0.000000</td>\n",
       "      <td>1950.000000</td>\n",
       "    </tr>\n",
       "    <tr>\n",
       "      <th>25%</th>\n",
       "      <td>5.203982e+05</td>\n",
       "      <td>5500.000000</td>\n",
       "      <td>2.000000</td>\n",
       "      <td>4.056300e+04</td>\n",
       "      <td>0.000000</td>\n",
       "      <td>0.000000</td>\n",
       "      <td>48.000000</td>\n",
       "      <td>130.000000</td>\n",
       "      <td>6.000000</td>\n",
       "      <td>0.000000</td>\n",
       "      <td>3716.500000</td>\n",
       "      <td>0.260000</td>\n",
       "      <td>14.000000</td>\n",
       "      <td>1.000000</td>\n",
       "      <td>1993.000000</td>\n",
       "    </tr>\n",
       "    <tr>\n",
       "      <th>50%</th>\n",
       "      <td>6.701385e+05</td>\n",
       "      <td>10000.000000</td>\n",
       "      <td>4.000000</td>\n",
       "      <td>5.900000e+04</td>\n",
       "      <td>0.000000</td>\n",
       "      <td>1.000000</td>\n",
       "      <td>120.000000</td>\n",
       "      <td>130.000000</td>\n",
       "      <td>9.000000</td>\n",
       "      <td>0.000000</td>\n",
       "      <td>8901.000000</td>\n",
       "      <td>0.490000</td>\n",
       "      <td>21.000000</td>\n",
       "      <td>2.000000</td>\n",
       "      <td>1998.000000</td>\n",
       "    </tr>\n",
       "    <tr>\n",
       "      <th>75%</th>\n",
       "      <td>8.372712e+05</td>\n",
       "      <td>15000.000000</td>\n",
       "      <td>8.000000</td>\n",
       "      <td>8.200000e+04</td>\n",
       "      <td>0.000000</td>\n",
       "      <td>1.000000</td>\n",
       "      <td>120.000000</td>\n",
       "      <td>130.000000</td>\n",
       "      <td>12.000000</td>\n",
       "      <td>0.000000</td>\n",
       "      <td>17117.500000</td>\n",
       "      <td>0.720000</td>\n",
       "      <td>29.000000</td>\n",
       "      <td>2.000000</td>\n",
       "      <td>2001.000000</td>\n",
       "    </tr>\n",
       "    <tr>\n",
       "      <th>max</th>\n",
       "      <td>1.075269e+06</td>\n",
       "      <td>35000.000000</td>\n",
       "      <td>10.000000</td>\n",
       "      <td>2.039784e+06</td>\n",
       "      <td>8.000000</td>\n",
       "      <td>8.000000</td>\n",
       "      <td>120.000000</td>\n",
       "      <td>130.000000</td>\n",
       "      <td>42.000000</td>\n",
       "      <td>4.000000</td>\n",
       "      <td>149527.000000</td>\n",
       "      <td>1.000000</td>\n",
       "      <td>81.000000</td>\n",
       "      <td>2.000000</td>\n",
       "      <td>2008.000000</td>\n",
       "    </tr>\n",
       "  </tbody>\n",
       "</table>\n",
       "</div>"
      ],
      "text/plain": [
       "                 id     loan_amnt  ...       purpose          year\n",
       "count  1.500000e+04  15000.000000  ...  15000.000000  15000.000000\n",
       "mean   6.851470e+05  11235.113333  ...      1.454467   1996.578600\n",
       "std    2.084107e+05   7417.557711  ...      0.809838      6.785796\n",
       "min    5.473400e+04    500.000000  ...      0.000000   1950.000000\n",
       "25%    5.203982e+05   5500.000000  ...      1.000000   1993.000000\n",
       "50%    6.701385e+05  10000.000000  ...      2.000000   1998.000000\n",
       "75%    8.372712e+05  15000.000000  ...      2.000000   2001.000000\n",
       "max    1.075269e+06  35000.000000  ...      2.000000   2008.000000\n",
       "\n",
       "[8 rows x 15 columns]"
      ]
     },
     "execution_count": 29,
     "metadata": {
      "tags": []
     },
     "output_type": "execute_result"
    }
   ],
   "source": [
    "df.describe()"
   ]
  },
  {
   "cell_type": "markdown",
   "metadata": {
    "id": "aIeaKtBnO2tf"
   },
   "source": [
    "# Model"
   ]
  },
  {
   "cell_type": "code",
   "execution_count": 31,
   "metadata": {
    "id": "3A03PHA1O181"
   },
   "outputs": [],
   "source": [
    "dtrain = pd.DataFrame()\n",
    "\n",
    "dtrain['revol_util'] = df['revol_util']\n",
    "dtrain['lir'] = df['loan_amnt']/df['annual_inc']\n",
    "dtrain['tod'] = df['total_acc']-df['open_acc']\n",
    "dtrain['revol_bal'] = df['revol_bal']\n",
    "dtrain['loan_amnt'] = df['loan_amnt']\n",
    "dtrain['prisk'] = df['purpose']\n",
    "dtrain['year'] = df['year']\n",
    "dtrain['loan_status'] = df['loan_status']"
   ]
  },
  {
   "cell_type": "code",
   "execution_count": 32,
   "metadata": {
    "colab": {
     "base_uri": "https://localhost:8080/",
     "height": 203
    },
    "id": "yKTK7ObYcA7E",
    "outputId": "d073fa69-4d00-4392-c67a-31d83ebd5998"
   },
   "outputs": [
    {
     "data": {
      "text/html": [
       "<div>\n",
       "<style scoped>\n",
       "    .dataframe tbody tr th:only-of-type {\n",
       "        vertical-align: middle;\n",
       "    }\n",
       "\n",
       "    .dataframe tbody tr th {\n",
       "        vertical-align: top;\n",
       "    }\n",
       "\n",
       "    .dataframe thead th {\n",
       "        text-align: right;\n",
       "    }\n",
       "</style>\n",
       "<table border=\"1\" class=\"dataframe\">\n",
       "  <thead>\n",
       "    <tr style=\"text-align: right;\">\n",
       "      <th></th>\n",
       "      <th>revol_util</th>\n",
       "      <th>lir</th>\n",
       "      <th>tod</th>\n",
       "      <th>revol_bal</th>\n",
       "      <th>loan_amnt</th>\n",
       "      <th>prisk</th>\n",
       "      <th>year</th>\n",
       "      <th>loan_status</th>\n",
       "    </tr>\n",
       "  </thead>\n",
       "  <tbody>\n",
       "    <tr>\n",
       "      <th>0</th>\n",
       "      <td>0.41</td>\n",
       "      <td>0.322581</td>\n",
       "      <td>22</td>\n",
       "      <td>43209</td>\n",
       "      <td>30000</td>\n",
       "      <td>2</td>\n",
       "      <td>1990</td>\n",
       "      <td>Current</td>\n",
       "    </tr>\n",
       "    <tr>\n",
       "      <th>1</th>\n",
       "      <td>0.85</td>\n",
       "      <td>0.314286</td>\n",
       "      <td>25</td>\n",
       "      <td>38928</td>\n",
       "      <td>22000</td>\n",
       "      <td>2</td>\n",
       "      <td>1983</td>\n",
       "      <td>Fully Paid</td>\n",
       "    </tr>\n",
       "    <tr>\n",
       "      <th>2</th>\n",
       "      <td>0.86</td>\n",
       "      <td>0.031624</td>\n",
       "      <td>15</td>\n",
       "      <td>19382</td>\n",
       "      <td>3700</td>\n",
       "      <td>0</td>\n",
       "      <td>1992</td>\n",
       "      <td>Fully Paid</td>\n",
       "    </tr>\n",
       "    <tr>\n",
       "      <th>3</th>\n",
       "      <td>0.48</td>\n",
       "      <td>0.223556</td>\n",
       "      <td>8</td>\n",
       "      <td>1962</td>\n",
       "      <td>7600</td>\n",
       "      <td>2</td>\n",
       "      <td>2003</td>\n",
       "      <td>Current</td>\n",
       "    </tr>\n",
       "    <tr>\n",
       "      <th>4</th>\n",
       "      <td>0.51</td>\n",
       "      <td>0.160000</td>\n",
       "      <td>10</td>\n",
       "      <td>13528</td>\n",
       "      <td>12000</td>\n",
       "      <td>2</td>\n",
       "      <td>1997</td>\n",
       "      <td>Fully Paid</td>\n",
       "    </tr>\n",
       "  </tbody>\n",
       "</table>\n",
       "</div>"
      ],
      "text/plain": [
       "   revol_util       lir  tod  revol_bal  loan_amnt  prisk  year loan_status\n",
       "0        0.41  0.322581   22      43209      30000      2  1990     Current\n",
       "1        0.85  0.314286   25      38928      22000      2  1983  Fully Paid\n",
       "2        0.86  0.031624   15      19382       3700      0  1992  Fully Paid\n",
       "3        0.48  0.223556    8       1962       7600      2  2003     Current\n",
       "4        0.51  0.160000   10      13528      12000      2  1997  Fully Paid"
      ]
     },
     "execution_count": 32,
     "metadata": {
      "tags": []
     },
     "output_type": "execute_result"
    }
   ],
   "source": [
    "dtrain.head()"
   ]
  },
  {
   "cell_type": "code",
   "execution_count": 33,
   "metadata": {
    "colab": {
     "base_uri": "https://localhost:8080/",
     "height": 295
    },
    "id": "qFhFjuN7boYM",
    "outputId": "d92b6e8d-8d98-4320-b5c6-7f5806faa216"
   },
   "outputs": [
    {
     "data": {
      "text/html": [
       "<div>\n",
       "<style scoped>\n",
       "    .dataframe tbody tr th:only-of-type {\n",
       "        vertical-align: middle;\n",
       "    }\n",
       "\n",
       "    .dataframe tbody tr th {\n",
       "        vertical-align: top;\n",
       "    }\n",
       "\n",
       "    .dataframe thead th {\n",
       "        text-align: right;\n",
       "    }\n",
       "</style>\n",
       "<table border=\"1\" class=\"dataframe\">\n",
       "  <thead>\n",
       "    <tr style=\"text-align: right;\">\n",
       "      <th></th>\n",
       "      <th>revol_util</th>\n",
       "      <th>lir</th>\n",
       "      <th>tod</th>\n",
       "      <th>revol_bal</th>\n",
       "      <th>loan_amnt</th>\n",
       "      <th>prisk</th>\n",
       "      <th>year</th>\n",
       "    </tr>\n",
       "  </thead>\n",
       "  <tbody>\n",
       "    <tr>\n",
       "      <th>count</th>\n",
       "      <td>15000.000000</td>\n",
       "      <td>15000.000000</td>\n",
       "      <td>15000.000000</td>\n",
       "      <td>15000.000000</td>\n",
       "      <td>15000.000000</td>\n",
       "      <td>15000.000000</td>\n",
       "      <td>15000.000000</td>\n",
       "    </tr>\n",
       "    <tr>\n",
       "      <th>mean</th>\n",
       "      <td>0.489505</td>\n",
       "      <td>0.189412</td>\n",
       "      <td>12.943600</td>\n",
       "      <td>13482.444933</td>\n",
       "      <td>11235.113333</td>\n",
       "      <td>1.454467</td>\n",
       "      <td>1996.578600</td>\n",
       "    </tr>\n",
       "    <tr>\n",
       "      <th>std</th>\n",
       "      <td>0.282652</td>\n",
       "      <td>0.117699</td>\n",
       "      <td>9.084378</td>\n",
       "      <td>16094.076787</td>\n",
       "      <td>7417.557711</td>\n",
       "      <td>0.809838</td>\n",
       "      <td>6.785796</td>\n",
       "    </tr>\n",
       "    <tr>\n",
       "      <th>min</th>\n",
       "      <td>0.000000</td>\n",
       "      <td>0.004143</td>\n",
       "      <td>-6.000000</td>\n",
       "      <td>0.000000</td>\n",
       "      <td>500.000000</td>\n",
       "      <td>0.000000</td>\n",
       "      <td>1950.000000</td>\n",
       "    </tr>\n",
       "    <tr>\n",
       "      <th>25%</th>\n",
       "      <td>0.260000</td>\n",
       "      <td>0.100000</td>\n",
       "      <td>6.000000</td>\n",
       "      <td>3716.500000</td>\n",
       "      <td>5500.000000</td>\n",
       "      <td>1.000000</td>\n",
       "      <td>1993.000000</td>\n",
       "    </tr>\n",
       "    <tr>\n",
       "      <th>50%</th>\n",
       "      <td>0.490000</td>\n",
       "      <td>0.166667</td>\n",
       "      <td>11.000000</td>\n",
       "      <td>8901.000000</td>\n",
       "      <td>10000.000000</td>\n",
       "      <td>2.000000</td>\n",
       "      <td>1998.000000</td>\n",
       "    </tr>\n",
       "    <tr>\n",
       "      <th>75%</th>\n",
       "      <td>0.720000</td>\n",
       "      <td>0.256410</td>\n",
       "      <td>18.000000</td>\n",
       "      <td>17117.500000</td>\n",
       "      <td>15000.000000</td>\n",
       "      <td>2.000000</td>\n",
       "      <td>2001.000000</td>\n",
       "    </tr>\n",
       "    <tr>\n",
       "      <th>max</th>\n",
       "      <td>1.000000</td>\n",
       "      <td>0.819672</td>\n",
       "      <td>58.000000</td>\n",
       "      <td>149527.000000</td>\n",
       "      <td>35000.000000</td>\n",
       "      <td>2.000000</td>\n",
       "      <td>2008.000000</td>\n",
       "    </tr>\n",
       "  </tbody>\n",
       "</table>\n",
       "</div>"
      ],
      "text/plain": [
       "         revol_util           lir  ...         prisk          year\n",
       "count  15000.000000  15000.000000  ...  15000.000000  15000.000000\n",
       "mean       0.489505      0.189412  ...      1.454467   1996.578600\n",
       "std        0.282652      0.117699  ...      0.809838      6.785796\n",
       "min        0.000000      0.004143  ...      0.000000   1950.000000\n",
       "25%        0.260000      0.100000  ...      1.000000   1993.000000\n",
       "50%        0.490000      0.166667  ...      2.000000   1998.000000\n",
       "75%        0.720000      0.256410  ...      2.000000   2001.000000\n",
       "max        1.000000      0.819672  ...      2.000000   2008.000000\n",
       "\n",
       "[8 rows x 7 columns]"
      ]
     },
     "execution_count": 33,
     "metadata": {
      "tags": []
     },
     "output_type": "execute_result"
    }
   ],
   "source": [
    "dtrain.describe()"
   ]
  },
  {
   "cell_type": "code",
   "execution_count": 34,
   "metadata": {
    "id": "HxQKJy_3cXnM"
   },
   "outputs": [],
   "source": [
    "dt = dtrain[(dtrain['loan_status']=='Fully Paid') | (dtrain['loan_status']=='Charged Off')]"
   ]
  },
  {
   "cell_type": "code",
   "execution_count": 35,
   "metadata": {
    "colab": {
     "base_uri": "https://localhost:8080/",
     "height": 203
    },
    "id": "9_1Fs4vXd2aM",
    "outputId": "84eb4c20-4bd6-4a96-cfd3-3050298e3596"
   },
   "outputs": [
    {
     "data": {
      "text/html": [
       "<div>\n",
       "<style scoped>\n",
       "    .dataframe tbody tr th:only-of-type {\n",
       "        vertical-align: middle;\n",
       "    }\n",
       "\n",
       "    .dataframe tbody tr th {\n",
       "        vertical-align: top;\n",
       "    }\n",
       "\n",
       "    .dataframe thead th {\n",
       "        text-align: right;\n",
       "    }\n",
       "</style>\n",
       "<table border=\"1\" class=\"dataframe\">\n",
       "  <thead>\n",
       "    <tr style=\"text-align: right;\">\n",
       "      <th></th>\n",
       "      <th>revol_util</th>\n",
       "      <th>lir</th>\n",
       "      <th>tod</th>\n",
       "      <th>revol_bal</th>\n",
       "      <th>loan_amnt</th>\n",
       "      <th>prisk</th>\n",
       "      <th>year</th>\n",
       "      <th>loan_status</th>\n",
       "    </tr>\n",
       "  </thead>\n",
       "  <tbody>\n",
       "    <tr>\n",
       "      <th>1</th>\n",
       "      <td>0.85</td>\n",
       "      <td>0.314286</td>\n",
       "      <td>25</td>\n",
       "      <td>38928</td>\n",
       "      <td>22000</td>\n",
       "      <td>2</td>\n",
       "      <td>1983</td>\n",
       "      <td>Fully Paid</td>\n",
       "    </tr>\n",
       "    <tr>\n",
       "      <th>2</th>\n",
       "      <td>0.86</td>\n",
       "      <td>0.031624</td>\n",
       "      <td>15</td>\n",
       "      <td>19382</td>\n",
       "      <td>3700</td>\n",
       "      <td>0</td>\n",
       "      <td>1992</td>\n",
       "      <td>Fully Paid</td>\n",
       "    </tr>\n",
       "    <tr>\n",
       "      <th>4</th>\n",
       "      <td>0.51</td>\n",
       "      <td>0.160000</td>\n",
       "      <td>10</td>\n",
       "      <td>13528</td>\n",
       "      <td>12000</td>\n",
       "      <td>2</td>\n",
       "      <td>1997</td>\n",
       "      <td>Fully Paid</td>\n",
       "    </tr>\n",
       "    <tr>\n",
       "      <th>5</th>\n",
       "      <td>0.66</td>\n",
       "      <td>0.121975</td>\n",
       "      <td>7</td>\n",
       "      <td>1774</td>\n",
       "      <td>5000</td>\n",
       "      <td>2</td>\n",
       "      <td>2006</td>\n",
       "      <td>Fully Paid</td>\n",
       "    </tr>\n",
       "    <tr>\n",
       "      <th>6</th>\n",
       "      <td>0.83</td>\n",
       "      <td>0.093750</td>\n",
       "      <td>12</td>\n",
       "      <td>12447</td>\n",
       "      <td>5250</td>\n",
       "      <td>2</td>\n",
       "      <td>1995</td>\n",
       "      <td>Fully Paid</td>\n",
       "    </tr>\n",
       "  </tbody>\n",
       "</table>\n",
       "</div>"
      ],
      "text/plain": [
       "   revol_util       lir  tod  revol_bal  loan_amnt  prisk  year loan_status\n",
       "1        0.85  0.314286   25      38928      22000      2  1983  Fully Paid\n",
       "2        0.86  0.031624   15      19382       3700      0  1992  Fully Paid\n",
       "4        0.51  0.160000   10      13528      12000      2  1997  Fully Paid\n",
       "5        0.66  0.121975    7       1774       5000      2  2006  Fully Paid\n",
       "6        0.83  0.093750   12      12447       5250      2  1995  Fully Paid"
      ]
     },
     "execution_count": 35,
     "metadata": {
      "tags": []
     },
     "output_type": "execute_result"
    }
   ],
   "source": [
    "dt.head()"
   ]
  },
  {
   "cell_type": "code",
   "execution_count": 36,
   "metadata": {
    "colab": {
     "base_uri": "https://localhost:8080/"
    },
    "id": "LQxecesxd5lA",
    "outputId": "d81b336d-ff8e-4cd5-ba3a-0a24219bc0a9"
   },
   "outputs": [
    {
     "data": {
      "text/plain": [
       "Fully Paid     9416\n",
       "Charged Off    1872\n",
       "Name: loan_status, dtype: int64"
      ]
     },
     "execution_count": 36,
     "metadata": {
      "tags": []
     },
     "output_type": "execute_result"
    }
   ],
   "source": [
    "dt['loan_status'].value_counts()"
   ]
  },
  {
   "cell_type": "code",
   "execution_count": 37,
   "metadata": {
    "id": "UoODHFTBd_ve"
   },
   "outputs": [],
   "source": [
    "from sklearn.model_selection import train_test_split\n",
    "from sklearn.linear_model import LogisticRegression\n",
    "from sklearn import tree\n",
    "from sklearn.metrics import classification_report\n",
    "from sklearn.ensemble import GradientBoostingClassifier\n",
    "from xgboost import XGBClassifier\n",
    "from sklearn.neighbors import KNeighborsClassifier\n",
    "from sklearn.decomposition import PCA\n",
    "from sklearn.preprocessing import StandardScaler\n",
    "from sklearn.preprocessing import MinMaxScaler\n",
    "from pickle import load, dump\n"
   ]
  },
  {
   "cell_type": "code",
   "execution_count": 69,
   "metadata": {
    "id": "hyFkovXWefTW"
   },
   "outputs": [],
   "source": [
    "X_train, X_test, y_train, y_test = train_test_split(dt.drop('loan_status',axis=1), \n",
    "                                                    dt['loan_status'], test_size=0.3, \n",
    "                                                    random_state=101)"
   ]
  },
  {
   "cell_type": "code",
   "execution_count": 39,
   "metadata": {
    "id": "Jw0MEVtGeuKO"
   },
   "outputs": [],
   "source": [
    "#model = LogisticRegression()\n",
    "model = tree.DecisionTreeClassifier()\n",
    "#model = GradientBoostingClassifier(n_estimators=200, learning_rate=0.1, max_depth=10, random_state=0)\n",
    "#model = XGBClassifier(n_estimators=100, learning_rate=0.3, max_depth=10)\n",
    "model.fit(X_train,y_train)\n",
    "predictions = model.predict(X_test)"
   ]
  },
  {
   "cell_type": "code",
   "execution_count": 40,
   "metadata": {
    "colab": {
     "base_uri": "https://localhost:8080/"
    },
    "id": "xLvhy9zKe2Dj",
    "outputId": "3e41abcb-0e82-49b5-d56d-d5dc39acebee"
   },
   "outputs": [
    {
     "name": "stdout",
     "output_type": "stream",
     "text": [
      "              precision    recall  f1-score   support\n",
      "\n",
      " Charged Off       0.39      0.43      0.41       555\n",
      "  Fully Paid       0.89      0.87      0.88      2832\n",
      "\n",
      "    accuracy                           0.80      3387\n",
      "   macro avg       0.64      0.65      0.64      3387\n",
      "weighted avg       0.81      0.80      0.80      3387\n",
      "\n"
     ]
    }
   ],
   "source": [
    "print(classification_report(y_test,predictions))"
   ]
  },
  {
   "cell_type": "code",
   "execution_count": 41,
   "metadata": {
    "id": "tX9ogSDdph1m"
   },
   "outputs": [],
   "source": [
    "#model = LogisticRegression()\n",
    "#model = tree.DecisionTreeClassifier()\n",
    "model = GradientBoostingClassifier(n_estimators=200, learning_rate=0.1, max_depth=10, random_state=0)\n",
    "#model = XGBClassifier(n_estimators=100, learning_rate=0.3, max_depth=10)\n",
    "model.fit(X_train,y_train)\n",
    "predictions = model.predict(X_test)"
   ]
  },
  {
   "cell_type": "code",
   "execution_count": 42,
   "metadata": {
    "colab": {
     "base_uri": "https://localhost:8080/"
    },
    "id": "zOTYjEo6pkN6",
    "outputId": "107ac8a6-1b6b-4d44-d781-89185bbc1777"
   },
   "outputs": [
    {
     "name": "stdout",
     "output_type": "stream",
     "text": [
      "              precision    recall  f1-score   support\n",
      "\n",
      " Charged Off       0.83      0.30      0.44       555\n",
      "  Fully Paid       0.88      0.99      0.93      2832\n",
      "\n",
      "    accuracy                           0.87      3387\n",
      "   macro avg       0.85      0.64      0.68      3387\n",
      "weighted avg       0.87      0.87      0.85      3387\n",
      "\n"
     ]
    }
   ],
   "source": [
    "print(classification_report(y_test,predictions))"
   ]
  },
  {
   "cell_type": "code",
   "execution_count": null,
   "metadata": {
    "id": "mP_5iPs7tROC"
   },
   "outputs": [],
   "source": []
  },
  {
   "cell_type": "code",
   "execution_count": 74,
   "metadata": {
    "id": "s_jHZNhnq8Gf"
   },
   "outputs": [],
   "source": [
    "#model = LogisticRegression()\n",
    "#model = tree.DecisionTreeClassifier()\n",
    "#model = GradientBoostingClassifier(n_estimators=200, learning_rate=0.1, max_depth=10, random_state=0)\n",
    "model = XGBClassifier(n_estimators=100, learning_rate=0.3, max_depth=10)\n",
    "#model = KNeighborsClassifier(n_neighbors=4)\n",
    "model.fit(X_train,y_train)\n",
    "predictions = model.predict(X_test)"
   ]
  },
  {
   "cell_type": "code",
   "execution_count": 75,
   "metadata": {
    "colab": {
     "base_uri": "https://localhost:8080/"
    },
    "id": "ygnlwHiXq9MU",
    "outputId": "b23195e3-b197-41c2-96ae-c6b3ee3495ac"
   },
   "outputs": [
    {
     "name": "stdout",
     "output_type": "stream",
     "text": [
      "              precision    recall  f1-score   support\n",
      "\n",
      " Charged Off       0.67      0.31      0.43       555\n",
      "  Fully Paid       0.88      0.97      0.92      2832\n",
      "\n",
      "    accuracy                           0.86      3387\n",
      "   macro avg       0.78      0.64      0.67      3387\n",
      "weighted avg       0.84      0.86      0.84      3387\n",
      "\n"
     ]
    }
   ],
   "source": [
    "print(classification_report(y_test,predictions))"
   ]
  },
  {
   "cell_type": "code",
   "execution_count": 86,
   "metadata": {
    "colab": {
     "base_uri": "https://localhost:8080/"
    },
    "id": "P-JthWY-Z6hg",
    "outputId": "e50c3863-a3ed-4724-a680-6a9931fc9849"
   },
   "outputs": [
    {
     "name": "stdout",
     "output_type": "stream",
     "text": [
      "['Fully Paid' 'Fully Paid' 'Fully Paid' ... 'Fully Paid' 'Fully Paid'\n",
      " 'Fully Paid']\n",
      "[0.92325103 0.9585921  0.9358487  ... 0.9698267  0.9833317  0.9392642 ]\n",
      "['Fully Paid', 'Fully Paid', 'Fully Paid', 'Charged Off', 'Charged Off', 'Charged Off', 'Charged Off', 'Fully Paid', 'Fully Paid', 'Fully Paid', 'Fully Paid', 'Fully Paid', 'Fully Paid', 'Fully Paid', 'Charged Off', 'Fully Paid', 'Fully Paid', 'Fully Paid', 'Fully Paid', 'Fully Paid', 'Fully Paid', 'Fully Paid', 'Fully Paid', 'Fully Paid', 'Fully Paid', 'Charged Off', 'Fully Paid', 'Fully Paid', 'Fully Paid', 'Fully Paid', 'Charged Off', 'Fully Paid', 'Fully Paid', 'Fully Paid', 'Fully Paid', 'Fully Paid', 'Fully Paid', 'Charged Off', 'Charged Off', 'Fully Paid', 'Charged Off', 'Fully Paid', 'Charged Off', 'Fully Paid', 'Fully Paid', 'Fully Paid', 'Charged Off', 'Charged Off', 'Fully Paid', 'Fully Paid', 'Charged Off', 'Fully Paid', 'Charged Off', 'Fully Paid', 'Fully Paid', 'Fully Paid', 'Fully Paid', 'Fully Paid', 'Fully Paid', 'Charged Off', 'Fully Paid', 'Fully Paid', 'Charged Off', 'Fully Paid', 'Fully Paid', 'Fully Paid', 'Fully Paid', 'Fully Paid', 'Fully Paid', 'Fully Paid', 'Fully Paid', 'Fully Paid', 'Fully Paid', 'Fully Paid', 'Charged Off', 'Charged Off', 'Fully Paid', 'Fully Paid', 'Fully Paid', 'Fully Paid', 'Fully Paid', 'Charged Off', 'Charged Off', 'Fully Paid', 'Fully Paid', 'Fully Paid', 'Fully Paid', 'Charged Off', 'Fully Paid', 'Fully Paid', 'Charged Off', 'Charged Off', 'Fully Paid', 'Fully Paid', 'Fully Paid', 'Fully Paid', 'Charged Off', 'Charged Off', 'Fully Paid', 'Fully Paid', 'Fully Paid', 'Charged Off', 'Fully Paid', 'Fully Paid', 'Charged Off', 'Fully Paid', 'Fully Paid', 'Charged Off', 'Charged Off', 'Fully Paid', 'Charged Off', 'Fully Paid', 'Fully Paid', 'Fully Paid', 'Fully Paid', 'Fully Paid', 'Fully Paid', 'Fully Paid', 'Fully Paid', 'Fully Paid', 'Fully Paid', 'Charged Off', 'Fully Paid', 'Fully Paid', 'Charged Off', 'Fully Paid', 'Fully Paid', 'Charged Off', 'Fully Paid', 'Fully Paid', 'Fully Paid', 'Fully Paid', 'Fully Paid', 'Fully Paid', 'Fully Paid', 'Charged Off', 'Fully Paid', 'Fully Paid', 'Fully Paid', 'Fully Paid', 'Charged Off', 'Fully Paid', 'Charged Off', 'Fully Paid', 'Charged Off', 'Charged Off', 'Fully Paid', 'Fully Paid', 'Fully Paid', 'Fully Paid', 'Fully Paid', 'Fully Paid', 'Charged Off', 'Charged Off', 'Fully Paid', 'Fully Paid', 'Fully Paid', 'Charged Off', 'Fully Paid', 'Charged Off', 'Fully Paid', 'Fully Paid', 'Fully Paid', 'Fully Paid', 'Fully Paid', 'Fully Paid', 'Fully Paid', 'Fully Paid', 'Charged Off', 'Fully Paid', 'Fully Paid', 'Fully Paid', 'Fully Paid', 'Fully Paid', 'Fully Paid', 'Fully Paid', 'Charged Off', 'Fully Paid', 'Fully Paid', 'Charged Off', 'Charged Off', 'Fully Paid', 'Charged Off', 'Fully Paid', 'Fully Paid', 'Charged Off', 'Charged Off', 'Fully Paid', 'Fully Paid', 'Charged Off', 'Fully Paid', 'Charged Off', 'Fully Paid', 'Fully Paid', 'Fully Paid', 'Fully Paid', 'Charged Off', 'Fully Paid', 'Charged Off', 'Fully Paid', 'Fully Paid', 'Fully Paid', 'Charged Off', 'Charged Off', 'Charged Off', 'Fully Paid', 'Charged Off', 'Fully Paid', 'Charged Off', 'Fully Paid', 'Fully Paid', 'Fully Paid', 'Fully Paid', 'Fully Paid', 'Fully Paid', 'Fully Paid', 'Fully Paid', 'Fully Paid', 'Fully Paid', 'Fully Paid', 'Fully Paid', 'Charged Off', 'Fully Paid', 'Fully Paid', 'Charged Off', 'Fully Paid', 'Fully Paid', 'Fully Paid', 'Charged Off', 'Fully Paid', 'Charged Off', 'Fully Paid', 'Fully Paid', 'Fully Paid', 'Fully Paid', 'Fully Paid', 'Fully Paid', 'Fully Paid', 'Charged Off', 'Fully Paid', 'Fully Paid', 'Fully Paid', 'Fully Paid', 'Fully Paid', 'Fully Paid', 'Charged Off', 'Fully Paid', 'Fully Paid', 'Charged Off', 'Fully Paid', 'Fully Paid', 'Fully Paid', 'Charged Off', 'Fully Paid', 'Charged Off', 'Fully Paid', 'Charged Off', 'Charged Off', 'Fully Paid', 'Fully Paid', 'Fully Paid', 'Fully Paid', 'Fully Paid', 'Fully Paid', 'Charged Off', 'Fully Paid', 'Charged Off', 'Fully Paid', 'Charged Off', 'Charged Off', 'Fully Paid', 'Fully Paid', 'Fully Paid', 'Fully Paid', 'Fully Paid', 'Charged Off', 'Fully Paid', 'Fully Paid', 'Fully Paid', 'Charged Off', 'Fully Paid', 'Fully Paid', 'Fully Paid', 'Fully Paid', 'Fully Paid', 'Fully Paid', 'Fully Paid', 'Fully Paid', 'Fully Paid', 'Charged Off', 'Fully Paid', 'Charged Off', 'Fully Paid', 'Charged Off', 'Fully Paid', 'Fully Paid', 'Fully Paid', 'Fully Paid', 'Fully Paid', 'Fully Paid', 'Fully Paid', 'Fully Paid', 'Fully Paid', 'Fully Paid', 'Fully Paid', 'Fully Paid', 'Fully Paid', 'Fully Paid', 'Fully Paid', 'Charged Off', 'Fully Paid', 'Fully Paid', 'Fully Paid', 'Charged Off', 'Fully Paid', 'Fully Paid', 'Fully Paid', 'Fully Paid', 'Fully Paid', 'Charged Off', 'Fully Paid', 'Fully Paid', 'Fully Paid', 'Fully Paid', 'Fully Paid', 'Fully Paid', 'Fully Paid', 'Charged Off', 'Charged Off', 'Fully Paid', 'Fully Paid', 'Fully Paid', 'Fully Paid', 'Fully Paid', 'Charged Off', 'Fully Paid', 'Fully Paid', 'Charged Off', 'Fully Paid', 'Fully Paid', 'Charged Off', 'Fully Paid', 'Fully Paid', 'Charged Off', 'Charged Off', 'Charged Off', 'Fully Paid', 'Charged Off', 'Fully Paid', 'Fully Paid', 'Fully Paid', 'Fully Paid', 'Fully Paid', 'Fully Paid', 'Fully Paid', 'Fully Paid', 'Charged Off', 'Fully Paid', 'Charged Off', 'Charged Off', 'Fully Paid', 'Fully Paid', 'Charged Off', 'Fully Paid', 'Fully Paid', 'Charged Off', 'Fully Paid', 'Fully Paid', 'Charged Off', 'Charged Off', 'Fully Paid', 'Fully Paid', 'Fully Paid', 'Charged Off', 'Fully Paid', 'Fully Paid', 'Fully Paid', 'Fully Paid', 'Charged Off', 'Charged Off', 'Fully Paid', 'Fully Paid', 'Fully Paid', 'Fully Paid', 'Fully Paid', 'Fully Paid', 'Fully Paid', 'Fully Paid', 'Fully Paid', 'Fully Paid', 'Fully Paid', 'Fully Paid', 'Fully Paid', 'Fully Paid', 'Fully Paid', 'Fully Paid', 'Charged Off', 'Charged Off', 'Fully Paid', 'Fully Paid', 'Fully Paid', 'Fully Paid', 'Fully Paid', 'Fully Paid', 'Charged Off', 'Charged Off', 'Fully Paid', 'Fully Paid', 'Fully Paid', 'Fully Paid', 'Fully Paid', 'Fully Paid', 'Fully Paid', 'Charged Off', 'Fully Paid', 'Charged Off', 'Charged Off', 'Fully Paid', 'Fully Paid', 'Fully Paid', 'Fully Paid', 'Charged Off', 'Fully Paid', 'Fully Paid', 'Fully Paid', 'Fully Paid', 'Charged Off', 'Fully Paid', 'Fully Paid', 'Fully Paid', 'Fully Paid', 'Fully Paid', 'Fully Paid', 'Fully Paid', 'Fully Paid', 'Fully Paid', 'Charged Off', 'Fully Paid', 'Fully Paid', 'Fully Paid', 'Fully Paid', 'Fully Paid', 'Charged Off', 'Fully Paid', 'Fully Paid', 'Fully Paid', 'Fully Paid', 'Charged Off', 'Fully Paid', 'Charged Off', 'Fully Paid', 'Charged Off', 'Fully Paid', 'Fully Paid', 'Fully Paid', 'Fully Paid', 'Charged Off', 'Fully Paid', 'Fully Paid', 'Charged Off', 'Charged Off', 'Charged Off', 'Fully Paid', 'Fully Paid', 'Fully Paid', 'Fully Paid', 'Fully Paid', 'Charged Off', 'Fully Paid', 'Fully Paid', 'Fully Paid', 'Fully Paid', 'Fully Paid', 'Charged Off', 'Fully Paid', 'Fully Paid', 'Fully Paid', 'Charged Off', 'Fully Paid', 'Fully Paid', 'Fully Paid', 'Charged Off', 'Fully Paid', 'Fully Paid', 'Fully Paid', 'Charged Off', 'Fully Paid', 'Fully Paid', 'Charged Off', 'Fully Paid', 'Fully Paid', 'Charged Off', 'Fully Paid', 'Charged Off', 'Fully Paid', 'Fully Paid', 'Fully Paid', 'Charged Off', 'Fully Paid', 'Fully Paid', 'Charged Off', 'Fully Paid', 'Fully Paid', 'Fully Paid', 'Fully Paid', 'Fully Paid', 'Fully Paid', 'Fully Paid', 'Fully Paid', 'Charged Off', 'Fully Paid', 'Fully Paid', 'Fully Paid', 'Fully Paid', 'Fully Paid', 'Fully Paid', 'Fully Paid', 'Charged Off', 'Fully Paid', 'Charged Off', 'Fully Paid', 'Fully Paid', 'Fully Paid', 'Fully Paid', 'Fully Paid', 'Fully Paid', 'Fully Paid', 'Charged Off', 'Fully Paid', 'Fully Paid', 'Fully Paid', 'Fully Paid', 'Fully Paid', 'Fully Paid', 'Fully Paid', 'Fully Paid', 'Fully Paid', 'Fully Paid', 'Fully Paid', 'Fully Paid', 'Fully Paid', 'Fully Paid', 'Fully Paid', 'Fully Paid', 'Charged Off', 'Fully Paid', 'Fully Paid', 'Fully Paid', 'Fully Paid', 'Fully Paid', 'Fully Paid', 'Fully Paid', 'Fully Paid', 'Fully Paid', 'Fully Paid', 'Fully Paid', 'Fully Paid', 'Fully Paid', 'Charged Off', 'Fully Paid', 'Fully Paid', 'Fully Paid', 'Fully Paid', 'Fully Paid', 'Fully Paid', 'Fully Paid', 'Fully Paid', 'Fully Paid', 'Charged Off', 'Charged Off', 'Fully Paid', 'Charged Off', 'Fully Paid', 'Fully Paid', 'Charged Off', 'Fully Paid', 'Fully Paid', 'Charged Off', 'Fully Paid', 'Fully Paid', 'Charged Off', 'Fully Paid', 'Fully Paid', 'Fully Paid', 'Fully Paid', 'Fully Paid', 'Fully Paid', 'Charged Off', 'Fully Paid', 'Fully Paid', 'Charged Off', 'Charged Off', 'Fully Paid', 'Fully Paid', 'Fully Paid', 'Fully Paid', 'Fully Paid', 'Fully Paid', 'Fully Paid', 'Fully Paid', 'Fully Paid', 'Fully Paid', 'Fully Paid', 'Fully Paid', 'Fully Paid', 'Fully Paid', 'Charged Off', 'Fully Paid', 'Fully Paid', 'Fully Paid', 'Fully Paid', 'Fully Paid', 'Fully Paid', 'Fully Paid', 'Charged Off', 'Fully Paid', 'Charged Off', 'Fully Paid', 'Fully Paid', 'Fully Paid', 'Charged Off', 'Fully Paid', 'Fully Paid', 'Fully Paid', 'Fully Paid', 'Charged Off', 'Fully Paid', 'Fully Paid', 'Charged Off', 'Fully Paid', 'Fully Paid', 'Fully Paid', 'Charged Off', 'Fully Paid', 'Fully Paid', 'Fully Paid', 'Fully Paid', 'Fully Paid', 'Fully Paid', 'Fully Paid', 'Fully Paid', 'Fully Paid', 'Fully Paid', 'Fully Paid', 'Fully Paid', 'Fully Paid', 'Fully Paid', 'Fully Paid', 'Fully Paid', 'Charged Off', 'Fully Paid', 'Fully Paid', 'Fully Paid', 'Charged Off', 'Charged Off', 'Charged Off', 'Charged Off', 'Fully Paid', 'Fully Paid', 'Fully Paid', 'Fully Paid', 'Fully Paid', 'Fully Paid', 'Fully Paid', 'Fully Paid', 'Charged Off', 'Fully Paid', 'Fully Paid', 'Fully Paid', 'Fully Paid', 'Fully Paid', 'Charged Off', 'Fully Paid', 'Charged Off', 'Fully Paid', 'Fully Paid', 'Fully Paid', 'Fully Paid', 'Fully Paid', 'Fully Paid', 'Fully Paid', 'Fully Paid', 'Charged Off', 'Charged Off', 'Fully Paid', 'Charged Off', 'Fully Paid', 'Fully Paid', 'Fully Paid', 'Fully Paid', 'Fully Paid', 'Fully Paid', 'Charged Off', 'Fully Paid', 'Fully Paid', 'Fully Paid', 'Fully Paid', 'Fully Paid', 'Charged Off', 'Charged Off', 'Fully Paid', 'Fully Paid', 'Fully Paid', 'Charged Off', 'Fully Paid', 'Fully Paid', 'Fully Paid', 'Fully Paid', 'Fully Paid', 'Fully Paid', 'Fully Paid', 'Fully Paid', 'Fully Paid', 'Fully Paid', 'Fully Paid', 'Charged Off', 'Fully Paid', 'Fully Paid', 'Fully Paid', 'Charged Off', 'Fully Paid', 'Fully Paid', 'Fully Paid', 'Fully Paid', 'Fully Paid', 'Charged Off', 'Fully Paid', 'Charged Off', 'Fully Paid', 'Charged Off', 'Fully Paid', 'Fully Paid', 'Charged Off', 'Fully Paid', 'Fully Paid', 'Charged Off', 'Fully Paid', 'Fully Paid', 'Fully Paid', 'Fully Paid', 'Fully Paid', 'Fully Paid', 'Fully Paid', 'Fully Paid', 'Fully Paid', 'Fully Paid', 'Charged Off', 'Charged Off', 'Fully Paid', 'Fully Paid', 'Fully Paid', 'Fully Paid', 'Fully Paid', 'Fully Paid', 'Fully Paid', 'Fully Paid', 'Charged Off', 'Fully Paid', 'Fully Paid', 'Fully Paid', 'Charged Off', 'Fully Paid', 'Charged Off', 'Fully Paid', 'Fully Paid', 'Charged Off', 'Fully Paid', 'Fully Paid', 'Charged Off', 'Fully Paid', 'Fully Paid', 'Fully Paid', 'Fully Paid', 'Fully Paid', 'Fully Paid', 'Fully Paid', 'Fully Paid', 'Fully Paid', 'Charged Off', 'Fully Paid', 'Fully Paid', 'Charged Off', 'Fully Paid', 'Charged Off', 'Charged Off', 'Fully Paid', 'Fully Paid', 'Fully Paid', 'Fully Paid', 'Fully Paid', 'Fully Paid', 'Charged Off', 'Charged Off', 'Fully Paid', 'Fully Paid', 'Fully Paid', 'Charged Off', 'Fully Paid', 'Charged Off', 'Charged Off', 'Fully Paid', 'Charged Off', 'Charged Off', 'Fully Paid', 'Fully Paid', 'Charged Off', 'Fully Paid', 'Fully Paid', 'Fully Paid', 'Charged Off', 'Fully Paid', 'Fully Paid', 'Charged Off', 'Fully Paid', 'Fully Paid', 'Charged Off', 'Charged Off', 'Fully Paid', 'Fully Paid', 'Charged Off', 'Charged Off', 'Fully Paid', 'Fully Paid', 'Charged Off', 'Fully Paid', 'Fully Paid', 'Fully Paid', 'Charged Off', 'Fully Paid', 'Charged Off', 'Charged Off', 'Fully Paid', 'Fully Paid', 'Fully Paid', 'Charged Off', 'Charged Off', 'Charged Off', 'Charged Off', 'Charged Off', 'Fully Paid', 'Fully Paid', 'Fully Paid', 'Charged Off', 'Charged Off', 'Fully Paid', 'Fully Paid', 'Fully Paid', 'Fully Paid', 'Fully Paid', 'Charged Off', 'Fully Paid', 'Fully Paid', 'Fully Paid', 'Fully Paid', 'Fully Paid', 'Fully Paid', 'Fully Paid', 'Fully Paid', 'Fully Paid', 'Charged Off', 'Fully Paid', 'Fully Paid', 'Fully Paid', 'Fully Paid', 'Charged Off', 'Fully Paid', 'Fully Paid', 'Fully Paid', 'Fully Paid', 'Fully Paid', 'Fully Paid', 'Fully Paid', 'Fully Paid', 'Charged Off', 'Fully Paid', 'Fully Paid', 'Fully Paid', 'Fully Paid', 'Fully Paid', 'Fully Paid', 'Fully Paid', 'Fully Paid', 'Fully Paid', 'Fully Paid', 'Fully Paid', 'Fully Paid', 'Fully Paid', 'Fully Paid', 'Fully Paid', 'Charged Off', 'Fully Paid', 'Fully Paid', 'Fully Paid', 'Charged Off', 'Fully Paid', 'Fully Paid', 'Fully Paid', 'Fully Paid', 'Fully Paid', 'Charged Off', 'Charged Off', 'Fully Paid', 'Charged Off', 'Fully Paid', 'Fully Paid', 'Fully Paid', 'Fully Paid', 'Fully Paid', 'Charged Off', 'Fully Paid', 'Charged Off', 'Fully Paid', 'Charged Off', 'Charged Off', 'Fully Paid', 'Charged Off', 'Fully Paid', 'Fully Paid', 'Charged Off', 'Fully Paid', 'Fully Paid', 'Fully Paid', 'Fully Paid', 'Charged Off', 'Charged Off', 'Fully Paid', 'Fully Paid', 'Fully Paid', 'Charged Off', 'Fully Paid', 'Charged Off', 'Fully Paid', 'Fully Paid', 'Fully Paid', 'Charged Off', 'Fully Paid', 'Fully Paid', 'Charged Off', 'Fully Paid', 'Fully Paid', 'Fully Paid', 'Charged Off', 'Fully Paid', 'Fully Paid', 'Fully Paid', 'Fully Paid', 'Fully Paid', 'Fully Paid', 'Fully Paid', 'Charged Off', 'Fully Paid', 'Fully Paid', 'Fully Paid', 'Charged Off', 'Fully Paid', 'Charged Off', 'Fully Paid', 'Fully Paid', 'Charged Off', 'Fully Paid', 'Fully Paid', 'Fully Paid', 'Fully Paid', 'Fully Paid', 'Charged Off', 'Fully Paid', 'Fully Paid', 'Charged Off', 'Fully Paid', 'Fully Paid', 'Fully Paid', 'Charged Off', 'Fully Paid', 'Fully Paid', 'Fully Paid', 'Fully Paid', 'Charged Off', 'Fully Paid', 'Fully Paid', 'Charged Off', 'Fully Paid', 'Fully Paid', 'Fully Paid', 'Fully Paid', 'Charged Off', 'Fully Paid', 'Fully Paid', 'Fully Paid', 'Fully Paid', 'Fully Paid', 'Fully Paid', 'Fully Paid', 'Fully Paid', 'Charged Off', 'Fully Paid', 'Fully Paid', 'Fully Paid', 'Fully Paid', 'Charged Off', 'Charged Off', 'Fully Paid', 'Fully Paid', 'Fully Paid', 'Charged Off', 'Fully Paid', 'Fully Paid', 'Fully Paid', 'Fully Paid', 'Fully Paid', 'Fully Paid', 'Fully Paid', 'Fully Paid', 'Fully Paid', 'Fully Paid', 'Fully Paid', 'Charged Off', 'Charged Off', 'Fully Paid', 'Charged Off', 'Fully Paid', 'Fully Paid', 'Fully Paid', 'Fully Paid', 'Fully Paid', 'Fully Paid', 'Fully Paid', 'Charged Off', 'Fully Paid', 'Fully Paid', 'Fully Paid', 'Charged Off', 'Fully Paid', 'Fully Paid', 'Fully Paid', 'Charged Off', 'Fully Paid', 'Fully Paid', 'Fully Paid', 'Charged Off', 'Fully Paid', 'Fully Paid', 'Charged Off', 'Fully Paid', 'Fully Paid', 'Fully Paid', 'Fully Paid', 'Fully Paid', 'Fully Paid', 'Fully Paid', 'Fully Paid', 'Fully Paid', 'Fully Paid', 'Fully Paid', 'Fully Paid', 'Fully Paid', 'Fully Paid', 'Fully Paid', 'Fully Paid', 'Fully Paid', 'Charged Off', 'Fully Paid', 'Fully Paid', 'Fully Paid', 'Charged Off', 'Charged Off', 'Fully Paid', 'Charged Off', 'Charged Off', 'Fully Paid', 'Fully Paid', 'Fully Paid', 'Charged Off', 'Fully Paid', 'Fully Paid', 'Fully Paid', 'Fully Paid', 'Fully Paid', 'Fully Paid', 'Charged Off', 'Fully Paid', 'Fully Paid', 'Fully Paid', 'Fully Paid', 'Fully Paid', 'Fully Paid', 'Fully Paid', 'Fully Paid', 'Charged Off', 'Charged Off', 'Charged Off', 'Charged Off', 'Fully Paid', 'Fully Paid', 'Fully Paid', 'Fully Paid', 'Charged Off', 'Fully Paid', 'Fully Paid', 'Fully Paid', 'Fully Paid', 'Fully Paid', 'Fully Paid', 'Charged Off', 'Fully Paid', 'Fully Paid', 'Charged Off', 'Fully Paid', 'Charged Off', 'Fully Paid', 'Fully Paid', 'Charged Off', 'Fully Paid', 'Charged Off', 'Charged Off', 'Fully Paid', 'Fully Paid', 'Fully Paid', 'Fully Paid', 'Charged Off', 'Fully Paid', 'Fully Paid', 'Fully Paid', 'Fully Paid', 'Charged Off', 'Fully Paid', 'Fully Paid', 'Fully Paid', 'Fully Paid', 'Fully Paid', 'Fully Paid', 'Fully Paid', 'Charged Off', 'Fully Paid', 'Fully Paid', 'Fully Paid', 'Fully Paid', 'Fully Paid', 'Fully Paid', 'Fully Paid', 'Fully Paid', 'Fully Paid', 'Charged Off', 'Fully Paid', 'Fully Paid', 'Fully Paid', 'Fully Paid', 'Fully Paid', 'Fully Paid', 'Charged Off', 'Fully Paid', 'Fully Paid', 'Fully Paid', 'Fully Paid', 'Fully Paid', 'Fully Paid', 'Fully Paid', 'Fully Paid', 'Fully Paid', 'Fully Paid', 'Fully Paid', 'Fully Paid', 'Fully Paid', 'Fully Paid', 'Fully Paid', 'Fully Paid', 'Fully Paid', 'Fully Paid', 'Fully Paid', 'Fully Paid', 'Fully Paid', 'Fully Paid', 'Fully Paid', 'Fully Paid', 'Fully Paid', 'Fully Paid', 'Fully Paid', 'Charged Off', 'Fully Paid', 'Charged Off', 'Charged Off', 'Fully Paid', 'Fully Paid', 'Fully Paid', 'Charged Off', 'Fully Paid', 'Fully Paid', 'Charged Off', 'Fully Paid', 'Fully Paid', 'Fully Paid', 'Fully Paid', 'Fully Paid', 'Fully Paid', 'Fully Paid', 'Fully Paid', 'Fully Paid', 'Fully Paid', 'Fully Paid', 'Fully Paid', 'Fully Paid', 'Fully Paid', 'Fully Paid', 'Charged Off', 'Fully Paid', 'Fully Paid', 'Fully Paid', 'Charged Off', 'Fully Paid', 'Charged Off', 'Charged Off', 'Fully Paid', 'Fully Paid', 'Fully Paid', 'Fully Paid', 'Fully Paid', 'Fully Paid', 'Charged Off', 'Fully Paid', 'Fully Paid', 'Charged Off', 'Fully Paid', 'Fully Paid', 'Fully Paid', 'Fully Paid', 'Charged Off', 'Charged Off', 'Fully Paid', 'Fully Paid', 'Fully Paid', 'Fully Paid', 'Charged Off', 'Fully Paid', 'Fully Paid', 'Fully Paid', 'Fully Paid', 'Fully Paid', 'Fully Paid', 'Charged Off', 'Charged Off', 'Charged Off', 'Charged Off', 'Fully Paid', 'Fully Paid', 'Fully Paid', 'Fully Paid', 'Fully Paid', 'Fully Paid', 'Charged Off', 'Fully Paid', 'Fully Paid', 'Charged Off', 'Fully Paid', 'Charged Off', 'Fully Paid', 'Fully Paid', 'Charged Off', 'Fully Paid', 'Fully Paid', 'Charged Off', 'Fully Paid', 'Fully Paid', 'Fully Paid', 'Fully Paid', 'Fully Paid', 'Charged Off', 'Fully Paid', 'Fully Paid', 'Fully Paid', 'Fully Paid', 'Fully Paid', 'Charged Off', 'Fully Paid', 'Fully Paid', 'Fully Paid', 'Fully Paid', 'Fully Paid', 'Fully Paid', 'Fully Paid', 'Charged Off', 'Fully Paid', 'Charged Off', 'Fully Paid', 'Fully Paid', 'Charged Off', 'Fully Paid', 'Fully Paid', 'Charged Off', 'Charged Off', 'Fully Paid', 'Fully Paid', 'Fully Paid', 'Fully Paid', 'Fully Paid', 'Fully Paid', 'Fully Paid', 'Fully Paid', 'Fully Paid', 'Fully Paid', 'Fully Paid', 'Fully Paid', 'Fully Paid', 'Fully Paid', 'Fully Paid', 'Fully Paid', 'Fully Paid', 'Fully Paid', 'Charged Off', 'Charged Off', 'Fully Paid', 'Fully Paid', 'Fully Paid', 'Charged Off', 'Fully Paid', 'Fully Paid', 'Fully Paid', 'Fully Paid', 'Fully Paid', 'Fully Paid', 'Fully Paid', 'Fully Paid', 'Fully Paid', 'Fully Paid', 'Fully Paid', 'Fully Paid', 'Fully Paid', 'Fully Paid', 'Fully Paid', 'Fully Paid', 'Charged Off', 'Charged Off', 'Fully Paid', 'Fully Paid', 'Fully Paid', 'Fully Paid', 'Fully Paid', 'Charged Off', 'Fully Paid', 'Fully Paid', 'Fully Paid', 'Fully Paid', 'Fully Paid', 'Charged Off', 'Charged Off', 'Charged Off', 'Charged Off', 'Fully Paid', 'Fully Paid', 'Fully Paid', 'Fully Paid', 'Fully Paid', 'Charged Off', 'Fully Paid', 'Fully Paid', 'Fully Paid', 'Fully Paid', 'Fully Paid', 'Fully Paid', 'Fully Paid', 'Fully Paid', 'Fully Paid', 'Fully Paid', 'Fully Paid', 'Charged Off', 'Fully Paid', 'Charged Off', 'Fully Paid', 'Fully Paid', 'Charged Off', 'Charged Off', 'Fully Paid', 'Fully Paid', 'Fully Paid', 'Fully Paid', 'Charged Off', 'Fully Paid', 'Fully Paid', 'Fully Paid', 'Fully Paid', 'Fully Paid', 'Fully Paid', 'Fully Paid', 'Fully Paid', 'Charged Off', 'Charged Off', 'Fully Paid', 'Fully Paid', 'Fully Paid', 'Charged Off', 'Fully Paid', 'Fully Paid', 'Fully Paid', 'Fully Paid', 'Fully Paid', 'Fully Paid', 'Fully Paid', 'Fully Paid', 'Fully Paid', 'Fully Paid', 'Fully Paid', 'Charged Off', 'Fully Paid', 'Fully Paid', 'Charged Off', 'Fully Paid', 'Fully Paid', 'Fully Paid', 'Charged Off', 'Fully Paid', 'Charged Off', 'Fully Paid', 'Fully Paid', 'Fully Paid', 'Fully Paid', 'Fully Paid', 'Charged Off', 'Fully Paid', 'Fully Paid', 'Fully Paid', 'Fully Paid', 'Charged Off', 'Fully Paid', 'Fully Paid', 'Fully Paid', 'Charged Off', 'Fully Paid', 'Charged Off', 'Fully Paid', 'Fully Paid', 'Fully Paid', 'Fully Paid', 'Charged Off', 'Fully Paid', 'Fully Paid', 'Fully Paid', 'Fully Paid', 'Fully Paid', 'Charged Off', 'Fully Paid', 'Fully Paid', 'Charged Off', 'Charged Off', 'Fully Paid', 'Fully Paid', 'Fully Paid', 'Fully Paid', 'Fully Paid', 'Charged Off', 'Fully Paid', 'Fully Paid', 'Fully Paid', 'Fully Paid', 'Fully Paid', 'Fully Paid', 'Charged Off', 'Fully Paid', 'Charged Off', 'Fully Paid', 'Fully Paid', 'Fully Paid', 'Charged Off', 'Fully Paid', 'Charged Off', 'Fully Paid', 'Fully Paid', 'Fully Paid', 'Fully Paid', 'Charged Off', 'Charged Off', 'Fully Paid', 'Fully Paid', 'Fully Paid', 'Fully Paid', 'Fully Paid', 'Fully Paid', 'Fully Paid', 'Fully Paid', 'Charged Off', 'Fully Paid', 'Charged Off', 'Charged Off', 'Fully Paid', 'Fully Paid', 'Fully Paid', 'Fully Paid', 'Fully Paid', 'Fully Paid', 'Fully Paid', 'Fully Paid', 'Fully Paid', 'Charged Off', 'Charged Off', 'Fully Paid', 'Fully Paid', 'Fully Paid', 'Fully Paid', 'Fully Paid', 'Fully Paid', 'Fully Paid', 'Fully Paid', 'Fully Paid', 'Fully Paid', 'Fully Paid', 'Fully Paid', 'Fully Paid', 'Fully Paid', 'Fully Paid', 'Charged Off', 'Fully Paid', 'Charged Off', 'Charged Off', 'Charged Off', 'Fully Paid', 'Fully Paid', 'Fully Paid', 'Charged Off', 'Fully Paid', 'Charged Off', 'Fully Paid', 'Fully Paid', 'Fully Paid', 'Fully Paid', 'Fully Paid', 'Fully Paid', 'Fully Paid', 'Fully Paid', 'Fully Paid', 'Fully Paid', 'Charged Off', 'Fully Paid', 'Charged Off', 'Fully Paid', 'Fully Paid', 'Fully Paid', 'Fully Paid', 'Fully Paid', 'Fully Paid', 'Fully Paid', 'Fully Paid', 'Fully Paid', 'Fully Paid', 'Fully Paid', 'Fully Paid', 'Fully Paid', 'Fully Paid', 'Fully Paid', 'Charged Off', 'Fully Paid', 'Charged Off', 'Charged Off', 'Fully Paid', 'Fully Paid', 'Fully Paid', 'Fully Paid', 'Fully Paid', 'Fully Paid', 'Fully Paid', 'Charged Off', 'Fully Paid', 'Fully Paid', 'Fully Paid', 'Charged Off', 'Fully Paid', 'Fully Paid', 'Fully Paid', 'Fully Paid', 'Fully Paid', 'Charged Off', 'Charged Off', 'Fully Paid', 'Fully Paid', 'Fully Paid', 'Fully Paid', 'Fully Paid', 'Fully Paid', 'Fully Paid', 'Fully Paid', 'Fully Paid', 'Fully Paid', 'Charged Off', 'Fully Paid', 'Charged Off', 'Fully Paid', 'Charged Off', 'Fully Paid', 'Fully Paid', 'Fully Paid', 'Charged Off', 'Fully Paid', 'Fully Paid', 'Fully Paid', 'Fully Paid', 'Fully Paid', 'Fully Paid', 'Fully Paid', 'Fully Paid', 'Fully Paid', 'Charged Off', 'Charged Off', 'Fully Paid', 'Fully Paid', 'Fully Paid', 'Fully Paid', 'Fully Paid', 'Fully Paid', 'Charged Off', 'Charged Off', 'Charged Off', 'Fully Paid', 'Fully Paid', 'Fully Paid', 'Fully Paid', 'Fully Paid', 'Fully Paid', 'Fully Paid', 'Fully Paid', 'Fully Paid', 'Charged Off', 'Fully Paid', 'Charged Off', 'Fully Paid', 'Fully Paid', 'Fully Paid', 'Charged Off', 'Charged Off', 'Charged Off', 'Charged Off', 'Fully Paid', 'Fully Paid', 'Fully Paid', 'Charged Off', 'Fully Paid', 'Fully Paid', 'Charged Off', 'Fully Paid', 'Fully Paid', 'Fully Paid', 'Fully Paid', 'Fully Paid', 'Fully Paid', 'Charged Off', 'Fully Paid', 'Fully Paid', 'Charged Off', 'Charged Off', 'Charged Off', 'Fully Paid', 'Fully Paid', 'Charged Off', 'Charged Off', 'Fully Paid', 'Fully Paid', 'Fully Paid', 'Fully Paid', 'Charged Off', 'Fully Paid', 'Fully Paid', 'Fully Paid', 'Charged Off', 'Charged Off', 'Fully Paid', 'Fully Paid', 'Fully Paid', 'Fully Paid', 'Fully Paid', 'Fully Paid', 'Fully Paid', 'Fully Paid', 'Fully Paid', 'Fully Paid', 'Charged Off', 'Fully Paid', 'Fully Paid', 'Fully Paid', 'Charged Off', 'Charged Off', 'Fully Paid', 'Fully Paid', 'Fully Paid', 'Fully Paid', 'Fully Paid', 'Fully Paid', 'Fully Paid', 'Charged Off', 'Fully Paid', 'Fully Paid', 'Fully Paid', 'Fully Paid', 'Fully Paid', 'Charged Off', 'Fully Paid', 'Fully Paid', 'Charged Off', 'Fully Paid', 'Fully Paid', 'Fully Paid', 'Fully Paid', 'Fully Paid', 'Fully Paid', 'Charged Off', 'Charged Off', 'Charged Off', 'Fully Paid', 'Fully Paid', 'Fully Paid', 'Charged Off', 'Fully Paid', 'Charged Off', 'Fully Paid', 'Charged Off', 'Fully Paid', 'Charged Off', 'Charged Off', 'Fully Paid', 'Fully Paid', 'Charged Off', 'Fully Paid', 'Charged Off', 'Fully Paid', 'Charged Off', 'Fully Paid', 'Fully Paid', 'Fully Paid', 'Fully Paid', 'Charged Off', 'Fully Paid', 'Fully Paid', 'Fully Paid', 'Fully Paid', 'Fully Paid', 'Fully Paid', 'Fully Paid', 'Charged Off', 'Fully Paid', 'Fully Paid', 'Fully Paid', 'Fully Paid', 'Fully Paid', 'Fully Paid', 'Charged Off', 'Fully Paid', 'Fully Paid', 'Fully Paid', 'Fully Paid', 'Fully Paid', 'Fully Paid', 'Fully Paid', 'Fully Paid', 'Fully Paid', 'Fully Paid', 'Fully Paid', 'Charged Off', 'Charged Off', 'Charged Off', 'Fully Paid', 'Charged Off', 'Fully Paid', 'Fully Paid', 'Fully Paid', 'Charged Off', 'Charged Off', 'Fully Paid', 'Fully Paid', 'Fully Paid', 'Charged Off', 'Charged Off', 'Fully Paid', 'Charged Off', 'Fully Paid', 'Fully Paid', 'Charged Off', 'Fully Paid', 'Fully Paid', 'Charged Off', 'Charged Off', 'Fully Paid', 'Charged Off', 'Charged Off', 'Fully Paid', 'Charged Off', 'Fully Paid', 'Charged Off', 'Fully Paid', 'Fully Paid', 'Fully Paid', 'Fully Paid', 'Fully Paid', 'Fully Paid', 'Charged Off', 'Fully Paid', 'Charged Off', 'Fully Paid', 'Charged Off', 'Fully Paid', 'Charged Off', 'Fully Paid', 'Charged Off', 'Fully Paid', 'Charged Off', 'Fully Paid', 'Charged Off', 'Fully Paid', 'Fully Paid', 'Fully Paid', 'Charged Off', 'Fully Paid', 'Fully Paid', 'Charged Off', 'Fully Paid', 'Fully Paid', 'Charged Off', 'Fully Paid', 'Fully Paid', 'Charged Off', 'Fully Paid', 'Fully Paid', 'Fully Paid', 'Charged Off', 'Charged Off', 'Fully Paid', 'Fully Paid', 'Fully Paid', 'Fully Paid', 'Fully Paid', 'Fully Paid', 'Fully Paid', 'Fully Paid', 'Fully Paid', 'Fully Paid', 'Fully Paid', 'Charged Off', 'Charged Off', 'Fully Paid', 'Fully Paid', 'Fully Paid', 'Fully Paid', 'Charged Off', 'Fully Paid', 'Fully Paid', 'Fully Paid', 'Charged Off', 'Fully Paid', 'Charged Off', 'Charged Off', 'Fully Paid', 'Fully Paid', 'Charged Off', 'Fully Paid', 'Charged Off', 'Fully Paid', 'Fully Paid', 'Fully Paid', 'Fully Paid', 'Fully Paid', 'Fully Paid', 'Fully Paid', 'Fully Paid', 'Charged Off', 'Fully Paid', 'Fully Paid', 'Charged Off', 'Fully Paid', 'Charged Off', 'Fully Paid', 'Charged Off', 'Fully Paid', 'Fully Paid', 'Fully Paid', 'Fully Paid', 'Fully Paid', 'Charged Off', 'Fully Paid', 'Fully Paid', 'Fully Paid', 'Charged Off', 'Fully Paid', 'Fully Paid', 'Charged Off', 'Charged Off', 'Charged Off', 'Fully Paid', 'Fully Paid', 'Fully Paid', 'Fully Paid', 'Fully Paid', 'Fully Paid', 'Fully Paid', 'Fully Paid', 'Charged Off', 'Fully Paid', 'Fully Paid', 'Fully Paid', 'Charged Off', 'Charged Off', 'Fully Paid', 'Fully Paid', 'Fully Paid', 'Fully Paid', 'Fully Paid', 'Fully Paid', 'Fully Paid', 'Fully Paid', 'Fully Paid', 'Fully Paid', 'Fully Paid', 'Charged Off', 'Fully Paid', 'Fully Paid', 'Charged Off', 'Fully Paid', 'Fully Paid', 'Fully Paid', 'Fully Paid', 'Fully Paid', 'Fully Paid', 'Charged Off', 'Charged Off', 'Charged Off', 'Charged Off', 'Fully Paid', 'Fully Paid', 'Charged Off', 'Fully Paid', 'Fully Paid', 'Charged Off', 'Fully Paid', 'Fully Paid', 'Fully Paid', 'Charged Off', 'Fully Paid', 'Fully Paid', 'Fully Paid', 'Fully Paid', 'Fully Paid', 'Charged Off', 'Fully Paid', 'Fully Paid', 'Charged Off', 'Charged Off', 'Fully Paid', 'Fully Paid', 'Fully Paid', 'Charged Off', 'Fully Paid', 'Fully Paid', 'Fully Paid', 'Fully Paid', 'Charged Off', 'Fully Paid', 'Fully Paid', 'Fully Paid', 'Charged Off', 'Fully Paid', 'Fully Paid', 'Fully Paid', 'Charged Off', 'Fully Paid', 'Fully Paid', 'Fully Paid', 'Charged Off', 'Charged Off', 'Fully Paid', 'Fully Paid', 'Fully Paid', 'Fully Paid', 'Charged Off', 'Charged Off', 'Charged Off', 'Fully Paid', 'Fully Paid', 'Fully Paid', 'Fully Paid', 'Charged Off', 'Fully Paid', 'Fully Paid', 'Fully Paid', 'Fully Paid', 'Charged Off', 'Fully Paid', 'Fully Paid', 'Fully Paid', 'Fully Paid', 'Fully Paid', 'Fully Paid', 'Charged Off', 'Charged Off', 'Charged Off', 'Fully Paid', 'Fully Paid', 'Fully Paid', 'Fully Paid', 'Fully Paid', 'Fully Paid', 'Fully Paid', 'Fully Paid', 'Fully Paid', 'Fully Paid', 'Fully Paid', 'Fully Paid', 'Fully Paid', 'Fully Paid', 'Charged Off', 'Fully Paid', 'Charged Off', 'Fully Paid', 'Fully Paid', 'Fully Paid', 'Fully Paid', 'Fully Paid', 'Fully Paid', 'Fully Paid', 'Fully Paid', 'Charged Off', 'Fully Paid', 'Fully Paid', 'Fully Paid', 'Fully Paid', 'Charged Off', 'Fully Paid', 'Fully Paid', 'Fully Paid', 'Fully Paid', 'Fully Paid', 'Charged Off', 'Fully Paid', 'Fully Paid', 'Fully Paid', 'Fully Paid', 'Charged Off', 'Fully Paid', 'Fully Paid', 'Fully Paid', 'Fully Paid', 'Charged Off', 'Charged Off', 'Fully Paid', 'Fully Paid', 'Fully Paid', 'Fully Paid', 'Charged Off', 'Fully Paid', 'Fully Paid', 'Fully Paid', 'Fully Paid', 'Fully Paid', 'Charged Off', 'Fully Paid', 'Fully Paid', 'Fully Paid', 'Charged Off', 'Fully Paid', 'Charged Off', 'Fully Paid', 'Charged Off', 'Fully Paid', 'Fully Paid', 'Fully Paid', 'Charged Off', 'Fully Paid', 'Fully Paid', 'Fully Paid', 'Fully Paid', 'Fully Paid', 'Fully Paid', 'Fully Paid', 'Charged Off', 'Fully Paid', 'Fully Paid', 'Charged Off', 'Charged Off', 'Fully Paid', 'Fully Paid', 'Fully Paid', 'Fully Paid', 'Fully Paid', 'Fully Paid', 'Fully Paid', 'Fully Paid', 'Fully Paid', 'Charged Off', 'Fully Paid', 'Fully Paid', 'Fully Paid', 'Fully Paid', 'Fully Paid', 'Fully Paid', 'Fully Paid', 'Charged Off', 'Fully Paid', 'Charged Off', 'Fully Paid', 'Fully Paid', 'Charged Off', 'Fully Paid', 'Fully Paid', 'Charged Off', 'Fully Paid', 'Fully Paid', 'Fully Paid', 'Charged Off', 'Fully Paid', 'Charged Off', 'Fully Paid', 'Charged Off', 'Fully Paid', 'Fully Paid', 'Charged Off', 'Fully Paid', 'Fully Paid', 'Charged Off', 'Fully Paid', 'Fully Paid', 'Fully Paid', 'Charged Off', 'Fully Paid', 'Fully Paid', 'Fully Paid', 'Fully Paid', 'Fully Paid', 'Fully Paid', 'Fully Paid', 'Fully Paid', 'Fully Paid', 'Fully Paid', 'Fully Paid', 'Fully Paid', 'Fully Paid', 'Fully Paid', 'Fully Paid', 'Fully Paid', 'Fully Paid', 'Charged Off', 'Fully Paid', 'Charged Off', 'Fully Paid', 'Charged Off', 'Fully Paid', 'Fully Paid', 'Fully Paid', 'Fully Paid', 'Fully Paid', 'Charged Off', 'Fully Paid', 'Charged Off', 'Charged Off', 'Charged Off', 'Charged Off', 'Fully Paid', 'Fully Paid', 'Charged Off', 'Fully Paid', 'Fully Paid', 'Charged Off', 'Fully Paid', 'Fully Paid', 'Fully Paid', 'Fully Paid', 'Fully Paid', 'Fully Paid', 'Fully Paid', 'Fully Paid', 'Fully Paid', 'Fully Paid', 'Charged Off', 'Charged Off', 'Fully Paid', 'Fully Paid', 'Fully Paid', 'Fully Paid', 'Fully Paid', 'Fully Paid', 'Fully Paid', 'Fully Paid', 'Fully Paid', 'Fully Paid', 'Charged Off', 'Fully Paid', 'Fully Paid', 'Fully Paid', 'Fully Paid', 'Fully Paid', 'Fully Paid', 'Charged Off', 'Fully Paid', 'Fully Paid', 'Fully Paid', 'Fully Paid', 'Fully Paid', 'Fully Paid', 'Charged Off', 'Charged Off', 'Fully Paid', 'Fully Paid', 'Fully Paid', 'Charged Off', 'Charged Off', 'Fully Paid', 'Fully Paid', 'Fully Paid', 'Charged Off', 'Fully Paid', 'Fully Paid', 'Fully Paid', 'Fully Paid', 'Fully Paid', 'Fully Paid', 'Fully Paid', 'Charged Off', 'Fully Paid', 'Charged Off', 'Fully Paid', 'Charged Off', 'Fully Paid', 'Fully Paid', 'Fully Paid', 'Fully Paid', 'Fully Paid', 'Fully Paid', 'Fully Paid', 'Fully Paid', 'Fully Paid', 'Fully Paid', 'Fully Paid', 'Fully Paid', 'Charged Off', 'Fully Paid', 'Fully Paid', 'Fully Paid', 'Fully Paid', 'Charged Off', 'Fully Paid', 'Fully Paid', 'Fully Paid', 'Fully Paid', 'Fully Paid', 'Fully Paid', 'Charged Off', 'Fully Paid', 'Fully Paid', 'Fully Paid', 'Fully Paid', 'Fully Paid', 'Fully Paid', 'Fully Paid', 'Fully Paid', 'Fully Paid', 'Fully Paid', 'Fully Paid', 'Fully Paid', 'Charged Off', 'Fully Paid', 'Charged Off', 'Fully Paid', 'Fully Paid', 'Charged Off', 'Fully Paid', 'Fully Paid', 'Fully Paid', 'Fully Paid', 'Fully Paid', 'Fully Paid', 'Fully Paid', 'Fully Paid', 'Fully Paid', 'Fully Paid', 'Charged Off', 'Fully Paid', 'Fully Paid', 'Fully Paid', 'Charged Off', 'Fully Paid', 'Fully Paid', 'Fully Paid', 'Fully Paid', 'Fully Paid', 'Charged Off', 'Fully Paid', 'Fully Paid', 'Fully Paid', 'Fully Paid', 'Fully Paid', 'Fully Paid', 'Fully Paid', 'Fully Paid', 'Fully Paid', 'Fully Paid', 'Charged Off', 'Fully Paid', 'Fully Paid', 'Charged Off', 'Fully Paid', 'Fully Paid', 'Fully Paid', 'Fully Paid', 'Fully Paid', 'Fully Paid', 'Fully Paid', 'Charged Off', 'Fully Paid', 'Fully Paid', 'Fully Paid', 'Fully Paid', 'Charged Off', 'Fully Paid', 'Charged Off', 'Fully Paid', 'Charged Off', 'Fully Paid', 'Charged Off', 'Charged Off', 'Charged Off', 'Fully Paid', 'Charged Off', 'Fully Paid', 'Charged Off', 'Fully Paid', 'Fully Paid', 'Fully Paid', 'Fully Paid', 'Fully Paid', 'Charged Off', 'Fully Paid', 'Fully Paid', 'Fully Paid', 'Fully Paid', 'Charged Off', 'Fully Paid', 'Fully Paid', 'Fully Paid', 'Fully Paid', 'Fully Paid', 'Fully Paid', 'Charged Off', 'Fully Paid', 'Fully Paid', 'Charged Off', 'Fully Paid', 'Charged Off', 'Charged Off', 'Fully Paid', 'Charged Off', 'Fully Paid', 'Fully Paid', 'Fully Paid', 'Fully Paid', 'Fully Paid', 'Fully Paid', 'Fully Paid', 'Fully Paid', 'Fully Paid', 'Fully Paid', 'Fully Paid', 'Fully Paid', 'Fully Paid', 'Fully Paid', 'Fully Paid', 'Fully Paid', 'Fully Paid', 'Fully Paid', 'Charged Off', 'Fully Paid', 'Fully Paid', 'Charged Off', 'Fully Paid', 'Fully Paid', 'Fully Paid', 'Charged Off', 'Fully Paid', 'Charged Off', 'Fully Paid', 'Fully Paid', 'Fully Paid', 'Fully Paid', 'Fully Paid', 'Charged Off', 'Fully Paid', 'Fully Paid', 'Fully Paid', 'Fully Paid', 'Fully Paid', 'Fully Paid', 'Fully Paid', 'Fully Paid', 'Fully Paid', 'Charged Off', 'Charged Off', 'Fully Paid', 'Fully Paid', 'Charged Off', 'Charged Off', 'Fully Paid', 'Charged Off', 'Fully Paid', 'Fully Paid', 'Fully Paid', 'Fully Paid', 'Fully Paid', 'Fully Paid', 'Charged Off', 'Fully Paid', 'Fully Paid', 'Fully Paid', 'Charged Off', 'Charged Off', 'Fully Paid', 'Fully Paid', 'Charged Off', 'Fully Paid', 'Fully Paid', 'Fully Paid', 'Fully Paid', 'Fully Paid', 'Fully Paid', 'Charged Off', 'Fully Paid', 'Charged Off', 'Charged Off', 'Fully Paid', 'Fully Paid', 'Charged Off', 'Fully Paid', 'Fully Paid', 'Charged Off', 'Fully Paid', 'Charged Off', 'Fully Paid', 'Charged Off', 'Fully Paid', 'Charged Off', 'Charged Off', 'Charged Off', 'Fully Paid', 'Fully Paid', 'Fully Paid', 'Fully Paid', 'Fully Paid', 'Charged Off', 'Fully Paid', 'Fully Paid', 'Fully Paid', 'Charged Off', 'Charged Off', 'Fully Paid', 'Charged Off', 'Fully Paid', 'Charged Off', 'Fully Paid', 'Charged Off', 'Fully Paid', 'Charged Off', 'Fully Paid', 'Fully Paid', 'Fully Paid', 'Fully Paid', 'Fully Paid', 'Fully Paid', 'Fully Paid', 'Fully Paid', 'Fully Paid', 'Fully Paid', 'Fully Paid', 'Fully Paid', 'Fully Paid', 'Charged Off', 'Fully Paid', 'Fully Paid', 'Fully Paid', 'Charged Off', 'Charged Off', 'Fully Paid', 'Fully Paid', 'Fully Paid', 'Fully Paid', 'Charged Off', 'Charged Off', 'Fully Paid', 'Fully Paid', 'Charged Off', 'Fully Paid', 'Fully Paid', 'Fully Paid', 'Fully Paid', 'Fully Paid', 'Charged Off', 'Fully Paid', 'Fully Paid', 'Charged Off', 'Fully Paid', 'Fully Paid', 'Fully Paid', 'Charged Off', 'Charged Off', 'Fully Paid', 'Fully Paid', 'Fully Paid', 'Fully Paid', 'Fully Paid', 'Fully Paid', 'Fully Paid', 'Fully Paid', 'Fully Paid', 'Fully Paid', 'Charged Off', 'Charged Off', 'Charged Off', 'Fully Paid', 'Fully Paid', 'Charged Off', 'Charged Off', 'Charged Off', 'Fully Paid', 'Fully Paid', 'Fully Paid', 'Charged Off', 'Fully Paid', 'Fully Paid', 'Fully Paid', 'Fully Paid', 'Fully Paid', 'Fully Paid', 'Fully Paid', 'Fully Paid', 'Fully Paid', 'Fully Paid', 'Fully Paid', 'Charged Off', 'Charged Off', 'Charged Off', 'Fully Paid', 'Fully Paid', 'Fully Paid', 'Fully Paid', 'Charged Off', 'Fully Paid', 'Fully Paid', 'Fully Paid', 'Fully Paid', 'Charged Off', 'Fully Paid', 'Fully Paid', 'Charged Off', 'Fully Paid', 'Charged Off', 'Fully Paid', 'Charged Off', 'Charged Off', 'Fully Paid', 'Fully Paid', 'Charged Off', 'Fully Paid', 'Fully Paid', 'Fully Paid', 'Fully Paid', 'Fully Paid', 'Fully Paid', 'Fully Paid', 'Fully Paid', 'Fully Paid', 'Fully Paid', 'Fully Paid', 'Fully Paid', 'Fully Paid', 'Fully Paid', 'Fully Paid', 'Fully Paid', 'Charged Off', 'Charged Off', 'Fully Paid', 'Fully Paid', 'Fully Paid', 'Fully Paid', 'Fully Paid', 'Fully Paid', 'Charged Off', 'Fully Paid', 'Charged Off', 'Fully Paid', 'Fully Paid', 'Fully Paid', 'Fully Paid', 'Charged Off', 'Fully Paid', 'Fully Paid', 'Fully Paid', 'Fully Paid', 'Fully Paid', 'Fully Paid', 'Fully Paid', 'Fully Paid', 'Charged Off', 'Fully Paid', 'Fully Paid', 'Charged Off', 'Fully Paid', 'Charged Off', 'Fully Paid', 'Fully Paid', 'Fully Paid', 'Fully Paid', 'Charged Off', 'Charged Off', 'Fully Paid', 'Fully Paid', 'Charged Off', 'Charged Off', 'Charged Off', 'Fully Paid', 'Fully Paid', 'Fully Paid', 'Fully Paid', 'Charged Off', 'Charged Off', 'Fully Paid', 'Charged Off', 'Fully Paid', 'Charged Off', 'Fully Paid', 'Fully Paid', 'Fully Paid', 'Fully Paid', 'Charged Off', 'Fully Paid', 'Fully Paid', 'Fully Paid', 'Fully Paid', 'Charged Off', 'Fully Paid', 'Fully Paid', 'Charged Off', 'Fully Paid', 'Charged Off', 'Fully Paid', 'Charged Off', 'Fully Paid', 'Fully Paid', 'Fully Paid', 'Fully Paid', 'Fully Paid', 'Charged Off', 'Fully Paid', 'Fully Paid', 'Fully Paid', 'Fully Paid', 'Fully Paid', 'Charged Off', 'Fully Paid', 'Charged Off', 'Fully Paid', 'Fully Paid', 'Fully Paid', 'Fully Paid', 'Charged Off', 'Charged Off', 'Fully Paid', 'Fully Paid', 'Fully Paid', 'Charged Off', 'Fully Paid', 'Charged Off', 'Charged Off', 'Fully Paid', 'Fully Paid', 'Charged Off', 'Charged Off', 'Fully Paid', 'Charged Off', 'Fully Paid', 'Charged Off', 'Fully Paid', 'Fully Paid', 'Fully Paid', 'Fully Paid', 'Fully Paid', 'Fully Paid', 'Fully Paid', 'Fully Paid', 'Fully Paid', 'Fully Paid', 'Fully Paid', 'Fully Paid', 'Fully Paid', 'Fully Paid', 'Fully Paid', 'Fully Paid', 'Fully Paid', 'Fully Paid', 'Charged Off', 'Fully Paid', 'Charged Off', 'Fully Paid', 'Charged Off', 'Fully Paid', 'Fully Paid', 'Fully Paid', 'Fully Paid', 'Fully Paid', 'Fully Paid', 'Fully Paid', 'Fully Paid', 'Fully Paid', 'Fully Paid', 'Fully Paid', 'Charged Off', 'Charged Off', 'Charged Off', 'Charged Off', 'Fully Paid', 'Fully Paid', 'Fully Paid', 'Charged Off', 'Fully Paid', 'Fully Paid', 'Fully Paid', 'Fully Paid', 'Fully Paid', 'Fully Paid', 'Fully Paid', 'Fully Paid', 'Fully Paid', 'Fully Paid', 'Fully Paid', 'Fully Paid', 'Fully Paid', 'Fully Paid', 'Fully Paid', 'Charged Off', 'Charged Off', 'Fully Paid', 'Fully Paid', 'Fully Paid', 'Fully Paid', 'Charged Off', 'Charged Off', 'Fully Paid', 'Charged Off', 'Fully Paid', 'Charged Off', 'Fully Paid', 'Charged Off', 'Fully Paid', 'Charged Off', 'Fully Paid', 'Charged Off', 'Fully Paid', 'Fully Paid', 'Fully Paid', 'Fully Paid', 'Fully Paid', 'Fully Paid', 'Fully Paid', 'Fully Paid', 'Fully Paid', 'Fully Paid', 'Fully Paid', 'Fully Paid', 'Fully Paid', 'Charged Off', 'Fully Paid', 'Charged Off', 'Fully Paid', 'Fully Paid', 'Charged Off', 'Fully Paid', 'Fully Paid', 'Fully Paid', 'Charged Off', 'Fully Paid', 'Charged Off', 'Fully Paid', 'Charged Off', 'Fully Paid', 'Fully Paid', 'Fully Paid', 'Fully Paid', 'Charged Off', 'Fully Paid', 'Fully Paid', 'Charged Off', 'Fully Paid', 'Fully Paid', 'Fully Paid', 'Charged Off', 'Fully Paid', 'Fully Paid', 'Fully Paid', 'Fully Paid', 'Fully Paid', 'Fully Paid', 'Fully Paid', 'Fully Paid', 'Fully Paid', 'Charged Off', 'Charged Off', 'Fully Paid', 'Charged Off', 'Fully Paid', 'Fully Paid', 'Fully Paid', 'Fully Paid', 'Fully Paid', 'Fully Paid', 'Fully Paid', 'Fully Paid', 'Fully Paid', 'Fully Paid', 'Fully Paid', 'Fully Paid', 'Charged Off', 'Fully Paid', 'Fully Paid', 'Charged Off', 'Charged Off', 'Fully Paid', 'Fully Paid', 'Fully Paid', 'Charged Off', 'Fully Paid', 'Fully Paid', 'Fully Paid', 'Fully Paid', 'Charged Off', 'Charged Off', 'Charged Off', 'Fully Paid', 'Fully Paid', 'Fully Paid', 'Fully Paid', 'Fully Paid', 'Charged Off', 'Charged Off', 'Fully Paid', 'Fully Paid', 'Fully Paid', 'Charged Off', 'Fully Paid', 'Fully Paid', 'Charged Off', 'Fully Paid', 'Fully Paid', 'Fully Paid', 'Fully Paid', 'Fully Paid', 'Fully Paid', 'Fully Paid', 'Fully Paid', 'Fully Paid', 'Fully Paid', 'Charged Off', 'Charged Off', 'Fully Paid', 'Charged Off', 'Charged Off', 'Charged Off', 'Fully Paid', 'Fully Paid', 'Fully Paid', 'Fully Paid', 'Charged Off', 'Fully Paid', 'Fully Paid', 'Fully Paid', 'Fully Paid', 'Charged Off', 'Fully Paid', 'Fully Paid', 'Fully Paid', 'Fully Paid', 'Fully Paid', 'Fully Paid', 'Fully Paid', 'Charged Off', 'Fully Paid', 'Charged Off', 'Fully Paid', 'Fully Paid', 'Fully Paid', 'Fully Paid', 'Fully Paid', 'Fully Paid', 'Fully Paid', 'Charged Off', 'Fully Paid', 'Fully Paid', 'Charged Off', 'Charged Off', 'Fully Paid', 'Fully Paid', 'Fully Paid', 'Fully Paid', 'Charged Off', 'Fully Paid', 'Charged Off', 'Fully Paid', 'Fully Paid', 'Charged Off', 'Fully Paid', 'Fully Paid', 'Fully Paid', 'Charged Off', 'Fully Paid', 'Fully Paid', 'Fully Paid', 'Charged Off', 'Charged Off', 'Charged Off', 'Fully Paid', 'Charged Off', 'Fully Paid', 'Fully Paid', 'Fully Paid', 'Fully Paid', 'Fully Paid', 'Fully Paid', 'Fully Paid', 'Fully Paid', 'Fully Paid', 'Charged Off', 'Fully Paid', 'Fully Paid', 'Fully Paid', 'Fully Paid', 'Fully Paid', 'Fully Paid', 'Fully Paid', 'Fully Paid', 'Fully Paid', 'Charged Off', 'Charged Off', 'Charged Off', 'Fully Paid', 'Fully Paid', 'Charged Off', 'Fully Paid', 'Fully Paid', 'Fully Paid', 'Fully Paid', 'Fully Paid', 'Fully Paid', 'Fully Paid', 'Fully Paid', 'Charged Off', 'Charged Off', 'Fully Paid', 'Fully Paid', 'Fully Paid', 'Charged Off', 'Charged Off', 'Fully Paid', 'Fully Paid', 'Fully Paid', 'Fully Paid', 'Fully Paid', 'Fully Paid', 'Fully Paid', 'Fully Paid', 'Fully Paid', 'Fully Paid', 'Fully Paid', 'Fully Paid', 'Fully Paid', 'Fully Paid', 'Fully Paid', 'Fully Paid', 'Fully Paid', 'Charged Off', 'Charged Off', 'Fully Paid', 'Fully Paid', 'Fully Paid', 'Charged Off', 'Fully Paid', 'Fully Paid', 'Fully Paid', 'Fully Paid', 'Fully Paid', 'Fully Paid', 'Fully Paid', 'Fully Paid', 'Fully Paid', 'Charged Off', 'Charged Off', 'Fully Paid', 'Charged Off', 'Charged Off', 'Fully Paid', 'Fully Paid', 'Fully Paid', 'Fully Paid', 'Fully Paid', 'Fully Paid', 'Charged Off', 'Fully Paid', 'Fully Paid', 'Fully Paid', 'Fully Paid', 'Fully Paid', 'Fully Paid', 'Fully Paid', 'Charged Off', 'Charged Off', 'Fully Paid', 'Charged Off', 'Charged Off', 'Fully Paid', 'Fully Paid', 'Fully Paid', 'Charged Off', 'Fully Paid', 'Fully Paid', 'Fully Paid', 'Charged Off', 'Fully Paid', 'Fully Paid', 'Fully Paid', 'Fully Paid', 'Fully Paid', 'Fully Paid', 'Fully Paid', 'Fully Paid', 'Fully Paid', 'Fully Paid', 'Charged Off', 'Charged Off', 'Fully Paid', 'Fully Paid', 'Fully Paid', 'Fully Paid', 'Fully Paid', 'Fully Paid', 'Fully Paid', 'Fully Paid', 'Fully Paid', 'Fully Paid', 'Fully Paid', 'Fully Paid', 'Fully Paid', 'Fully Paid', 'Fully Paid', 'Fully Paid', 'Fully Paid', 'Charged Off', 'Fully Paid', 'Fully Paid', 'Fully Paid', 'Fully Paid', 'Fully Paid', 'Fully Paid', 'Fully Paid', 'Fully Paid', 'Fully Paid', 'Fully Paid', 'Charged Off', 'Charged Off', 'Fully Paid', 'Fully Paid', 'Fully Paid', 'Fully Paid', 'Fully Paid', 'Fully Paid', 'Fully Paid', 'Charged Off', 'Fully Paid', 'Fully Paid', 'Fully Paid', 'Fully Paid', 'Fully Paid', 'Fully Paid', 'Fully Paid', 'Fully Paid', 'Fully Paid', 'Fully Paid', 'Fully Paid', 'Charged Off', 'Charged Off', 'Fully Paid', 'Fully Paid', 'Charged Off', 'Fully Paid', 'Fully Paid', 'Fully Paid', 'Fully Paid', 'Fully Paid', 'Fully Paid', 'Fully Paid', 'Fully Paid', 'Charged Off', 'Fully Paid', 'Fully Paid', 'Fully Paid', 'Charged Off', 'Charged Off', 'Charged Off', 'Charged Off', 'Fully Paid', 'Charged Off', 'Fully Paid', 'Fully Paid', 'Fully Paid', 'Fully Paid', 'Fully Paid', 'Fully Paid', 'Fully Paid', 'Fully Paid', 'Charged Off', 'Charged Off', 'Fully Paid', 'Charged Off', 'Charged Off', 'Fully Paid', 'Charged Off', 'Fully Paid', 'Fully Paid', 'Fully Paid', 'Charged Off', 'Fully Paid', 'Fully Paid', 'Fully Paid', 'Fully Paid', 'Charged Off', 'Fully Paid', 'Charged Off', 'Fully Paid', 'Fully Paid', 'Fully Paid', 'Charged Off', 'Fully Paid', 'Charged Off', 'Fully Paid', 'Fully Paid', 'Fully Paid', 'Charged Off', 'Fully Paid', 'Fully Paid', 'Charged Off', 'Fully Paid', 'Fully Paid', 'Fully Paid', 'Fully Paid', 'Fully Paid', 'Fully Paid', 'Charged Off', 'Fully Paid', 'Fully Paid', 'Fully Paid', 'Fully Paid', 'Fully Paid', 'Fully Paid', 'Fully Paid', 'Fully Paid', 'Fully Paid', 'Fully Paid', 'Fully Paid', 'Fully Paid', 'Fully Paid', 'Fully Paid', 'Fully Paid', 'Fully Paid', 'Fully Paid', 'Fully Paid', 'Charged Off', 'Charged Off', 'Fully Paid', 'Fully Paid', 'Fully Paid', 'Fully Paid', 'Fully Paid', 'Fully Paid', 'Fully Paid', 'Fully Paid', 'Fully Paid', 'Fully Paid', 'Fully Paid', 'Fully Paid', 'Fully Paid', 'Charged Off', 'Charged Off', 'Fully Paid', 'Fully Paid', 'Fully Paid', 'Charged Off', 'Charged Off', 'Fully Paid', 'Fully Paid', 'Fully Paid', 'Fully Paid', 'Charged Off', 'Fully Paid', 'Fully Paid', 'Fully Paid', 'Fully Paid', 'Fully Paid', 'Charged Off', 'Fully Paid', 'Fully Paid', 'Charged Off', 'Fully Paid', 'Fully Paid', 'Fully Paid', 'Fully Paid', 'Fully Paid', 'Fully Paid', 'Fully Paid', 'Fully Paid', 'Fully Paid', 'Fully Paid', 'Charged Off', 'Fully Paid', 'Fully Paid', 'Fully Paid', 'Fully Paid', 'Fully Paid', 'Fully Paid', 'Fully Paid', 'Fully Paid', 'Fully Paid', 'Fully Paid', 'Fully Paid', 'Charged Off', 'Fully Paid', 'Fully Paid', 'Fully Paid', 'Fully Paid', 'Charged Off', 'Charged Off', 'Fully Paid', 'Fully Paid', 'Fully Paid', 'Fully Paid', 'Fully Paid', 'Fully Paid', 'Fully Paid', 'Fully Paid', 'Charged Off', 'Charged Off', 'Fully Paid', 'Fully Paid', 'Charged Off', 'Fully Paid', 'Fully Paid', 'Fully Paid', 'Charged Off', 'Fully Paid', 'Fully Paid', 'Fully Paid', 'Fully Paid', 'Fully Paid', 'Fully Paid', 'Fully Paid', 'Fully Paid', 'Fully Paid', 'Fully Paid', 'Charged Off', 'Fully Paid', 'Charged Off', 'Fully Paid', 'Fully Paid', 'Fully Paid', 'Fully Paid', 'Fully Paid', 'Charged Off', 'Charged Off', 'Fully Paid', 'Fully Paid', 'Charged Off', 'Charged Off', 'Fully Paid', 'Charged Off', 'Fully Paid', 'Fully Paid', 'Fully Paid', 'Fully Paid', 'Charged Off', 'Fully Paid', 'Fully Paid', 'Fully Paid', 'Charged Off', 'Charged Off', 'Fully Paid', 'Charged Off', 'Fully Paid', 'Fully Paid', 'Fully Paid', 'Fully Paid', 'Fully Paid', 'Fully Paid', 'Fully Paid', 'Fully Paid', 'Charged Off', 'Fully Paid', 'Fully Paid', 'Fully Paid', 'Fully Paid', 'Fully Paid', 'Fully Paid', 'Fully Paid', 'Fully Paid', 'Fully Paid', 'Charged Off', 'Charged Off', 'Fully Paid', 'Fully Paid', 'Fully Paid', 'Fully Paid', 'Charged Off', 'Fully Paid', 'Charged Off', 'Fully Paid', 'Fully Paid', 'Fully Paid', 'Fully Paid', 'Fully Paid', 'Charged Off', 'Fully Paid', 'Fully Paid', 'Charged Off', 'Fully Paid', 'Fully Paid', 'Charged Off', 'Fully Paid', 'Charged Off', 'Fully Paid', 'Fully Paid', 'Fully Paid', 'Charged Off', 'Fully Paid', 'Charged Off', 'Fully Paid', 'Fully Paid', 'Fully Paid', 'Fully Paid', 'Fully Paid', 'Fully Paid', 'Fully Paid', 'Fully Paid', 'Charged Off', 'Fully Paid', 'Fully Paid', 'Fully Paid', 'Fully Paid', 'Fully Paid', 'Charged Off', 'Fully Paid', 'Fully Paid', 'Fully Paid', 'Fully Paid', 'Fully Paid', 'Fully Paid', 'Fully Paid', 'Fully Paid', 'Fully Paid', 'Fully Paid', 'Fully Paid', 'Fully Paid', 'Fully Paid', 'Fully Paid', 'Fully Paid', 'Fully Paid', 'Charged Off', 'Charged Off', 'Fully Paid', 'Fully Paid', 'Fully Paid', 'Charged Off', 'Fully Paid', 'Fully Paid', 'Charged Off', 'Fully Paid', 'Charged Off', 'Fully Paid', 'Fully Paid', 'Fully Paid', 'Fully Paid', 'Fully Paid', 'Fully Paid', 'Fully Paid', 'Fully Paid', 'Fully Paid', 'Fully Paid', 'Charged Off', 'Charged Off', 'Fully Paid', 'Charged Off', 'Charged Off', 'Fully Paid', 'Fully Paid', 'Fully Paid', 'Fully Paid', 'Fully Paid']\n"
     ]
    }
   ],
   "source": [
    "#model = LogisticRegression()\n",
    "#model = tree.DecisionTreeClassifier()\n",
    "#model = GradientBoostingClassifier(n_estimators=200, learning_rate=0.1, max_depth=10, random_state=0)\n",
    "model = XGBClassifier(n_estimators=100, learning_rate=0.3, max_depth=10)\n",
    "#model = KNeighborsClassifier(n_neighbors=4)\n",
    "model.fit(X_train,y_train)\n",
    "\n",
    "predictions = model.predict(X_test)\n",
    "print(predictions)\n",
    "predictions_p = model.predict_proba(X_test)\n",
    "\n",
    "predictions = predictions_p[:,1]\n",
    "print(predictions)\n",
    "\n",
    "predictions_ = []\n",
    "for i in range(len(predictions)):\n",
    "  if predictions[i]>=0.85:\n",
    "    predictions_.append('Fully Paid')\n",
    "  else:\n",
    "    predictions_.append('Charged Off')\n",
    "print(predictions_)"
   ]
  },
  {
   "cell_type": "code",
   "execution_count": 87,
   "metadata": {
    "colab": {
     "base_uri": "https://localhost:8080/"
    },
    "id": "iAKdpZN4afB2",
    "outputId": "42e313aa-f66e-4a61-f92d-039b432a3e29"
   },
   "outputs": [
    {
     "name": "stdout",
     "output_type": "stream",
     "text": [
      "              precision    recall  f1-score   support\n",
      "\n",
      " Charged Off       0.36      0.53      0.43       555\n",
      "  Fully Paid       0.90      0.82      0.85      2832\n",
      "\n",
      "    accuracy                           0.77      3387\n",
      "   macro avg       0.63      0.67      0.64      3387\n",
      "weighted avg       0.81      0.77      0.78      3387\n",
      "\n"
     ]
    }
   ],
   "source": [
    "print(classification_report(y_test,predictions_))"
   ]
  },
  {
   "cell_type": "code",
   "execution_count": 49,
   "metadata": {
    "id": "atNs0c4bG3QU"
   },
   "outputs": [],
   "source": [
    "#scaler = MinMaxScaler()\n",
    "scaler = StandardScaler()\n",
    "X_train_s = scaler.fit_transform(X_train)\n",
    "X_test_s = scaler.transform(X_test)\n"
   ]
  },
  {
   "cell_type": "code",
   "execution_count": 56,
   "metadata": {
    "colab": {
     "base_uri": "https://localhost:8080/"
    },
    "id": "hde0w7Q-Hid6",
    "outputId": "a8a692d4-8483-4ab9-9ec9-022dbe5ca8f8"
   },
   "outputs": [
    {
     "name": "stdout",
     "output_type": "stream",
     "text": [
      "              precision    recall  f1-score   support\n",
      "\n",
      " Charged Off       0.39      0.43      0.41       555\n",
      "  Fully Paid       0.89      0.87      0.88      2832\n",
      "\n",
      "    accuracy                           0.80      3387\n",
      "   macro avg       0.64      0.65      0.64      3387\n",
      "weighted avg       0.80      0.80      0.80      3387\n",
      "\n"
     ]
    }
   ],
   "source": [
    "model = tree.DecisionTreeClassifier()\n",
    "#model = LogisticRegression()\n",
    "#model = GradientBoostingClassifier(n_estimators=200, learning_rate=0.1, max_depth=10, random_state=0)\n",
    "#model = XGBClassifier(n_estimators=100, learning_rate=0.3, max_depth=10)\n",
    "#model = XGBClassifier()\n",
    "model.fit(X_train_s,y_train)\n",
    "predictions = model.predict(X_test_s)\n",
    "print(classification_report(y_test,predictions))"
   ]
  },
  {
   "cell_type": "code",
   "execution_count": 54,
   "metadata": {
    "colab": {
     "base_uri": "https://localhost:8080/"
    },
    "id": "T5cPXgj7XZQg",
    "outputId": "0af4d491-66e4-4026-cbc1-51e233897a6f"
   },
   "outputs": [
    {
     "name": "stdout",
     "output_type": "stream",
     "text": [
      "              precision    recall  f1-score   support\n",
      "\n",
      " Charged Off       0.82      0.30      0.44       555\n",
      "  Fully Paid       0.88      0.99      0.93      2832\n",
      "\n",
      "    accuracy                           0.87      3387\n",
      "   macro avg       0.85      0.64      0.68      3387\n",
      "weighted avg       0.87      0.87      0.85      3387\n",
      "\n"
     ]
    }
   ],
   "source": [
    "#model = tree.DecisionTreeClassifier()\n",
    "#model = LogisticRegression()\n",
    "model = GradientBoostingClassifier(n_estimators=200, learning_rate=0.1, max_depth=10, random_state=0)\n",
    "#model = XGBClassifier(n_estimators=100, learning_rate=0.3, max_depth=10)\n",
    "#model = XGBClassifier()\n",
    "model.fit(X_train_s,y_train)\n",
    "predictions = model.predict(X_test_s)\n",
    "print(classification_report(y_test,predictions))"
   ]
  },
  {
   "cell_type": "code",
   "execution_count": 57,
   "metadata": {
    "id": "2FTUCEmy0PU7"
   },
   "outputs": [],
   "source": [
    "df_ = df[(df['loan_status']=='Fully Paid') | (df['loan_status']=='Charged Off')]"
   ]
  },
  {
   "cell_type": "code",
   "execution_count": 58,
   "metadata": {
    "id": "oxUSy76jtRgY"
   },
   "outputs": [],
   "source": [
    "X_train, X_test, y_train, y_test = train_test_split(df_.drop(['loan_status','id','earliest_cr_line','desc'],axis=1), \n",
    "                                                    df_['loan_status'], test_size=0.2, \n",
    "                                                    random_state=101)"
   ]
  },
  {
   "cell_type": "code",
   "execution_count": 59,
   "metadata": {
    "id": "bSpBROKdIEnn"
   },
   "outputs": [],
   "source": [
    "scaler = MinMaxScaler()\n",
    "#scaler = StandardScaler()\n",
    "X_train = scaler.fit_transform(X_train)\n",
    "X_test = scaler.transform(X_test)"
   ]
  },
  {
   "cell_type": "code",
   "execution_count": 60,
   "metadata": {
    "id": "IXhiLBx9sC61"
   },
   "outputs": [],
   "source": [
    "pca = PCA(n_components=8)\n",
    "pca.fit(X_train)\n",
    "X_train_ = pca.fit_transform(X_train)\n",
    "#print(X_train_)\n",
    "X_test_ = pca.transform(X_test)\n",
    "#print(X_test_)\n"
   ]
  },
  {
   "cell_type": "code",
   "execution_count": 61,
   "metadata": {
    "colab": {
     "base_uri": "https://localhost:8080/"
    },
    "id": "DTzMErB52QK6",
    "outputId": "8c68f5cb-0426-4c72-92d7-da884166607f"
   },
   "outputs": [
    {
     "name": "stdout",
     "output_type": "stream",
     "text": [
      "['Fully Paid' 'Fully Paid' 'Charged Off' ... 'Charged Off' 'Charged Off'\n",
      " 'Charged Off']\n",
      "[0.6523131  0.6849332  0.38411444 ... 0.40265623 0.19011894 0.31735623]\n",
      "['Fully Paid', 'Fully Paid', 'Charged Off', 'Charged Off', 'Charged Off', 'Charged Off', 'Fully Paid', 'Fully Paid', 'Fully Paid', 'Fully Paid', 'Charged Off', 'Fully Paid', 'Charged Off', 'Charged Off', 'Charged Off', 'Charged Off', 'Fully Paid', 'Charged Off', 'Fully Paid', 'Charged Off', 'Charged Off', 'Charged Off', 'Fully Paid', 'Charged Off', 'Charged Off', 'Charged Off', 'Fully Paid', 'Fully Paid', 'Charged Off', 'Fully Paid', 'Charged Off', 'Charged Off', 'Fully Paid', 'Fully Paid', 'Fully Paid', 'Charged Off', 'Fully Paid', 'Charged Off', 'Fully Paid', 'Fully Paid', 'Fully Paid', 'Fully Paid', 'Charged Off', 'Charged Off', 'Charged Off', 'Fully Paid', 'Fully Paid', 'Charged Off', 'Charged Off', 'Charged Off', 'Charged Off', 'Fully Paid', 'Charged Off', 'Charged Off', 'Charged Off', 'Fully Paid', 'Fully Paid', 'Fully Paid', 'Fully Paid', 'Charged Off', 'Fully Paid', 'Fully Paid', 'Charged Off', 'Fully Paid', 'Fully Paid', 'Charged Off', 'Charged Off', 'Fully Paid', 'Fully Paid', 'Fully Paid', 'Fully Paid', 'Charged Off', 'Fully Paid', 'Fully Paid', 'Fully Paid', 'Fully Paid', 'Fully Paid', 'Fully Paid', 'Charged Off', 'Fully Paid', 'Fully Paid', 'Charged Off', 'Charged Off', 'Fully Paid', 'Charged Off', 'Charged Off', 'Charged Off', 'Charged Off', 'Charged Off', 'Fully Paid', 'Fully Paid', 'Charged Off', 'Charged Off', 'Charged Off', 'Charged Off', 'Charged Off', 'Charged Off', 'Charged Off', 'Fully Paid', 'Charged Off', 'Charged Off', 'Charged Off', 'Fully Paid', 'Fully Paid', 'Charged Off', 'Charged Off', 'Fully Paid', 'Fully Paid', 'Charged Off', 'Charged Off', 'Charged Off', 'Fully Paid', 'Charged Off', 'Fully Paid', 'Fully Paid', 'Charged Off', 'Fully Paid', 'Fully Paid', 'Fully Paid', 'Fully Paid', 'Charged Off', 'Fully Paid', 'Charged Off', 'Charged Off', 'Charged Off', 'Charged Off', 'Fully Paid', 'Charged Off', 'Charged Off', 'Charged Off', 'Fully Paid', 'Fully Paid', 'Charged Off', 'Fully Paid', 'Fully Paid', 'Charged Off', 'Fully Paid', 'Fully Paid', 'Charged Off', 'Fully Paid', 'Charged Off', 'Fully Paid', 'Charged Off', 'Fully Paid', 'Charged Off', 'Charged Off', 'Fully Paid', 'Charged Off', 'Fully Paid', 'Charged Off', 'Fully Paid', 'Charged Off', 'Charged Off', 'Fully Paid', 'Charged Off', 'Charged Off', 'Fully Paid', 'Charged Off', 'Charged Off', 'Charged Off', 'Charged Off', 'Charged Off', 'Charged Off', 'Charged Off', 'Fully Paid', 'Charged Off', 'Fully Paid', 'Charged Off', 'Charged Off', 'Fully Paid', 'Charged Off', 'Fully Paid', 'Fully Paid', 'Charged Off', 'Fully Paid', 'Fully Paid', 'Charged Off', 'Charged Off', 'Fully Paid', 'Charged Off', 'Charged Off', 'Fully Paid', 'Charged Off', 'Charged Off', 'Charged Off', 'Fully Paid', 'Charged Off', 'Charged Off', 'Charged Off', 'Fully Paid', 'Charged Off', 'Fully Paid', 'Fully Paid', 'Fully Paid', 'Charged Off', 'Fully Paid', 'Charged Off', 'Fully Paid', 'Charged Off', 'Fully Paid', 'Charged Off', 'Fully Paid', 'Charged Off', 'Charged Off', 'Charged Off', 'Charged Off', 'Charged Off', 'Fully Paid', 'Fully Paid', 'Charged Off', 'Charged Off', 'Fully Paid', 'Charged Off', 'Fully Paid', 'Fully Paid', 'Fully Paid', 'Fully Paid', 'Charged Off', 'Fully Paid', 'Fully Paid', 'Fully Paid', 'Charged Off', 'Charged Off', 'Charged Off', 'Charged Off', 'Charged Off', 'Charged Off', 'Fully Paid', 'Charged Off', 'Charged Off', 'Charged Off', 'Charged Off', 'Fully Paid', 'Fully Paid', 'Fully Paid', 'Fully Paid', 'Charged Off', 'Fully Paid', 'Charged Off', 'Charged Off', 'Charged Off', 'Charged Off', 'Fully Paid', 'Fully Paid', 'Fully Paid', 'Fully Paid', 'Charged Off', 'Charged Off', 'Charged Off', 'Fully Paid', 'Charged Off', 'Charged Off', 'Fully Paid', 'Charged Off', 'Fully Paid', 'Fully Paid', 'Charged Off', 'Charged Off', 'Charged Off', 'Fully Paid', 'Fully Paid', 'Fully Paid', 'Fully Paid', 'Fully Paid', 'Fully Paid', 'Charged Off', 'Fully Paid', 'Fully Paid', 'Charged Off', 'Fully Paid', 'Charged Off', 'Charged Off', 'Charged Off', 'Fully Paid', 'Fully Paid', 'Fully Paid', 'Fully Paid', 'Charged Off', 'Charged Off', 'Charged Off', 'Charged Off', 'Charged Off', 'Charged Off', 'Charged Off', 'Charged Off', 'Charged Off', 'Charged Off', 'Charged Off', 'Charged Off', 'Fully Paid', 'Fully Paid', 'Charged Off', 'Fully Paid', 'Charged Off', 'Charged Off', 'Charged Off', 'Charged Off', 'Fully Paid', 'Fully Paid', 'Charged Off', 'Charged Off', 'Fully Paid', 'Fully Paid', 'Charged Off', 'Fully Paid', 'Charged Off', 'Fully Paid', 'Charged Off', 'Charged Off', 'Charged Off', 'Fully Paid', 'Charged Off', 'Fully Paid', 'Charged Off', 'Fully Paid', 'Fully Paid', 'Fully Paid', 'Fully Paid', 'Fully Paid', 'Charged Off', 'Charged Off', 'Charged Off', 'Charged Off', 'Fully Paid', 'Charged Off', 'Fully Paid', 'Fully Paid', 'Charged Off', 'Fully Paid', 'Charged Off', 'Charged Off', 'Charged Off', 'Fully Paid', 'Charged Off', 'Charged Off', 'Charged Off', 'Charged Off', 'Charged Off', 'Charged Off', 'Fully Paid', 'Charged Off', 'Charged Off', 'Charged Off', 'Fully Paid', 'Fully Paid', 'Charged Off', 'Charged Off', 'Fully Paid', 'Fully Paid', 'Charged Off', 'Fully Paid', 'Fully Paid', 'Fully Paid', 'Fully Paid', 'Charged Off', 'Fully Paid', 'Charged Off', 'Fully Paid', 'Charged Off', 'Charged Off', 'Fully Paid', 'Charged Off', 'Fully Paid', 'Charged Off', 'Fully Paid', 'Charged Off', 'Fully Paid', 'Charged Off', 'Charged Off', 'Charged Off', 'Charged Off', 'Charged Off', 'Charged Off', 'Charged Off', 'Fully Paid', 'Fully Paid', 'Fully Paid', 'Fully Paid', 'Charged Off', 'Charged Off', 'Charged Off', 'Fully Paid', 'Fully Paid', 'Charged Off', 'Charged Off', 'Fully Paid', 'Fully Paid', 'Fully Paid', 'Fully Paid', 'Fully Paid', 'Charged Off', 'Charged Off', 'Charged Off', 'Fully Paid', 'Fully Paid', 'Fully Paid', 'Charged Off', 'Fully Paid', 'Fully Paid', 'Fully Paid', 'Fully Paid', 'Charged Off', 'Fully Paid', 'Charged Off', 'Charged Off', 'Charged Off', 'Fully Paid', 'Charged Off', 'Fully Paid', 'Fully Paid', 'Fully Paid', 'Fully Paid', 'Fully Paid', 'Charged Off', 'Charged Off', 'Charged Off', 'Charged Off', 'Fully Paid', 'Fully Paid', 'Charged Off', 'Fully Paid', 'Charged Off', 'Fully Paid', 'Fully Paid', 'Fully Paid', 'Charged Off', 'Charged Off', 'Fully Paid', 'Fully Paid', 'Charged Off', 'Fully Paid', 'Fully Paid', 'Charged Off', 'Fully Paid', 'Fully Paid', 'Fully Paid', 'Charged Off', 'Charged Off', 'Fully Paid', 'Charged Off', 'Fully Paid', 'Fully Paid', 'Charged Off', 'Charged Off', 'Fully Paid', 'Charged Off', 'Charged Off', 'Fully Paid', 'Fully Paid', 'Charged Off', 'Charged Off', 'Charged Off', 'Charged Off', 'Charged Off', 'Fully Paid', 'Charged Off', 'Fully Paid', 'Fully Paid', 'Charged Off', 'Fully Paid', 'Fully Paid', 'Charged Off', 'Fully Paid', 'Fully Paid', 'Charged Off', 'Fully Paid', 'Charged Off', 'Charged Off', 'Fully Paid', 'Charged Off', 'Charged Off', 'Charged Off', 'Charged Off', 'Charged Off', 'Fully Paid', 'Fully Paid', 'Charged Off', 'Charged Off', 'Fully Paid', 'Charged Off', 'Fully Paid', 'Charged Off', 'Fully Paid', 'Charged Off', 'Charged Off', 'Charged Off', 'Charged Off', 'Charged Off', 'Charged Off', 'Charged Off', 'Fully Paid', 'Fully Paid', 'Fully Paid', 'Charged Off', 'Fully Paid', 'Charged Off', 'Fully Paid', 'Charged Off', 'Fully Paid', 'Fully Paid', 'Fully Paid', 'Fully Paid', 'Fully Paid', 'Fully Paid', 'Charged Off', 'Fully Paid', 'Charged Off', 'Charged Off', 'Fully Paid', 'Charged Off', 'Charged Off', 'Fully Paid', 'Fully Paid', 'Fully Paid', 'Fully Paid', 'Charged Off', 'Charged Off', 'Charged Off', 'Charged Off', 'Charged Off', 'Charged Off', 'Charged Off', 'Charged Off', 'Fully Paid', 'Fully Paid', 'Charged Off', 'Fully Paid', 'Charged Off', 'Charged Off', 'Charged Off', 'Charged Off', 'Charged Off', 'Charged Off', 'Charged Off', 'Charged Off', 'Fully Paid', 'Fully Paid', 'Charged Off', 'Fully Paid', 'Fully Paid', 'Charged Off', 'Fully Paid', 'Charged Off', 'Charged Off', 'Charged Off', 'Fully Paid', 'Fully Paid', 'Fully Paid', 'Fully Paid', 'Fully Paid', 'Charged Off', 'Fully Paid', 'Charged Off', 'Fully Paid', 'Fully Paid', 'Charged Off', 'Fully Paid', 'Charged Off', 'Fully Paid', 'Charged Off', 'Fully Paid', 'Charged Off', 'Charged Off', 'Fully Paid', 'Charged Off', 'Charged Off', 'Charged Off', 'Charged Off', 'Charged Off', 'Charged Off', 'Fully Paid', 'Charged Off', 'Charged Off', 'Fully Paid', 'Charged Off', 'Charged Off', 'Fully Paid', 'Fully Paid', 'Fully Paid', 'Fully Paid', 'Charged Off', 'Charged Off', 'Charged Off', 'Charged Off', 'Fully Paid', 'Fully Paid', 'Fully Paid', 'Charged Off', 'Charged Off', 'Fully Paid', 'Charged Off', 'Fully Paid', 'Charged Off', 'Fully Paid', 'Fully Paid', 'Fully Paid', 'Fully Paid', 'Fully Paid', 'Charged Off', 'Fully Paid', 'Fully Paid', 'Charged Off', 'Fully Paid', 'Charged Off', 'Charged Off', 'Charged Off', 'Fully Paid', 'Fully Paid', 'Fully Paid', 'Charged Off', 'Fully Paid', 'Fully Paid', 'Fully Paid', 'Fully Paid', 'Fully Paid', 'Charged Off', 'Charged Off', 'Fully Paid', 'Charged Off', 'Fully Paid', 'Charged Off', 'Charged Off', 'Charged Off', 'Fully Paid', 'Fully Paid', 'Charged Off', 'Charged Off', 'Fully Paid', 'Fully Paid', 'Charged Off', 'Charged Off', 'Charged Off', 'Charged Off', 'Fully Paid', 'Charged Off', 'Charged Off', 'Charged Off', 'Charged Off', 'Charged Off', 'Charged Off', 'Fully Paid', 'Fully Paid', 'Fully Paid', 'Charged Off', 'Fully Paid', 'Charged Off', 'Fully Paid', 'Fully Paid', 'Charged Off', 'Charged Off', 'Charged Off', 'Fully Paid', 'Fully Paid', 'Fully Paid', 'Charged Off', 'Charged Off', 'Fully Paid', 'Charged Off', 'Fully Paid', 'Charged Off', 'Fully Paid', 'Charged Off', 'Fully Paid', 'Charged Off', 'Fully Paid', 'Charged Off', 'Charged Off', 'Fully Paid', 'Fully Paid', 'Charged Off', 'Charged Off', 'Charged Off', 'Fully Paid', 'Charged Off', 'Fully Paid', 'Charged Off', 'Charged Off', 'Charged Off', 'Fully Paid', 'Fully Paid', 'Fully Paid', 'Charged Off', 'Charged Off', 'Charged Off', 'Charged Off', 'Charged Off', 'Charged Off', 'Fully Paid', 'Charged Off', 'Charged Off', 'Charged Off', 'Fully Paid', 'Fully Paid', 'Charged Off', 'Fully Paid', 'Fully Paid', 'Charged Off', 'Fully Paid', 'Fully Paid', 'Charged Off', 'Fully Paid', 'Fully Paid', 'Fully Paid', 'Charged Off', 'Fully Paid', 'Charged Off', 'Charged Off', 'Charged Off', 'Charged Off', 'Fully Paid', 'Fully Paid', 'Charged Off', 'Fully Paid', 'Charged Off', 'Charged Off', 'Fully Paid', 'Fully Paid', 'Charged Off', 'Fully Paid', 'Charged Off', 'Charged Off', 'Fully Paid', 'Charged Off', 'Fully Paid', 'Charged Off', 'Charged Off', 'Charged Off', 'Charged Off', 'Charged Off', 'Charged Off', 'Charged Off', 'Charged Off', 'Charged Off', 'Fully Paid', 'Fully Paid', 'Charged Off', 'Fully Paid', 'Charged Off', 'Fully Paid', 'Fully Paid', 'Fully Paid', 'Charged Off', 'Charged Off', 'Charged Off', 'Charged Off', 'Charged Off', 'Charged Off', 'Fully Paid', 'Fully Paid', 'Charged Off', 'Fully Paid', 'Fully Paid', 'Fully Paid', 'Charged Off', 'Fully Paid', 'Charged Off', 'Fully Paid', 'Charged Off', 'Charged Off', 'Fully Paid', 'Charged Off', 'Charged Off', 'Charged Off', 'Charged Off', 'Fully Paid', 'Charged Off', 'Fully Paid', 'Fully Paid', 'Charged Off', 'Charged Off', 'Charged Off', 'Charged Off', 'Charged Off', 'Fully Paid', 'Fully Paid', 'Fully Paid', 'Fully Paid', 'Charged Off', 'Fully Paid', 'Fully Paid', 'Charged Off', 'Fully Paid', 'Charged Off', 'Charged Off', 'Fully Paid', 'Charged Off', 'Charged Off', 'Charged Off', 'Fully Paid', 'Charged Off', 'Fully Paid', 'Fully Paid', 'Charged Off', 'Fully Paid', 'Fully Paid', 'Fully Paid', 'Fully Paid', 'Fully Paid', 'Charged Off', 'Fully Paid', 'Fully Paid', 'Charged Off', 'Charged Off', 'Fully Paid', 'Charged Off', 'Fully Paid', 'Fully Paid', 'Fully Paid', 'Charged Off', 'Charged Off', 'Charged Off', 'Charged Off', 'Charged Off', 'Charged Off', 'Charged Off', 'Charged Off', 'Fully Paid', 'Charged Off', 'Fully Paid', 'Charged Off', 'Fully Paid', 'Charged Off', 'Charged Off', 'Charged Off', 'Charged Off', 'Charged Off', 'Charged Off', 'Charged Off', 'Charged Off', 'Charged Off', 'Charged Off', 'Fully Paid', 'Charged Off', 'Charged Off', 'Charged Off', 'Charged Off', 'Fully Paid', 'Charged Off', 'Charged Off', 'Fully Paid', 'Charged Off', 'Charged Off', 'Charged Off', 'Charged Off', 'Charged Off', 'Charged Off', 'Charged Off', 'Fully Paid', 'Charged Off', 'Charged Off', 'Charged Off', 'Fully Paid', 'Fully Paid', 'Fully Paid', 'Fully Paid', 'Charged Off', 'Fully Paid', 'Fully Paid', 'Charged Off', 'Charged Off', 'Fully Paid', 'Charged Off', 'Charged Off', 'Fully Paid', 'Fully Paid', 'Charged Off', 'Fully Paid', 'Charged Off', 'Fully Paid', 'Charged Off', 'Fully Paid', 'Charged Off', 'Charged Off', 'Charged Off', 'Fully Paid', 'Charged Off', 'Charged Off', 'Fully Paid', 'Fully Paid', 'Charged Off', 'Fully Paid', 'Fully Paid', 'Charged Off', 'Fully Paid', 'Charged Off', 'Charged Off', 'Fully Paid', 'Charged Off', 'Charged Off', 'Fully Paid', 'Fully Paid', 'Fully Paid', 'Fully Paid', 'Fully Paid', 'Fully Paid', 'Charged Off', 'Charged Off', 'Fully Paid', 'Charged Off', 'Charged Off', 'Charged Off', 'Charged Off', 'Charged Off', 'Charged Off', 'Fully Paid', 'Charged Off', 'Charged Off', 'Charged Off', 'Charged Off', 'Charged Off', 'Charged Off', 'Charged Off', 'Charged Off', 'Charged Off', 'Charged Off', 'Fully Paid', 'Charged Off', 'Charged Off', 'Charged Off', 'Fully Paid', 'Fully Paid', 'Fully Paid', 'Charged Off', 'Charged Off', 'Charged Off', 'Fully Paid', 'Charged Off', 'Charged Off', 'Charged Off', 'Fully Paid', 'Fully Paid', 'Fully Paid', 'Fully Paid', 'Charged Off', 'Fully Paid', 'Charged Off', 'Charged Off', 'Charged Off', 'Charged Off', 'Charged Off', 'Charged Off', 'Charged Off', 'Charged Off', 'Charged Off', 'Charged Off', 'Charged Off', 'Charged Off', 'Charged Off', 'Fully Paid', 'Charged Off', 'Charged Off', 'Fully Paid', 'Charged Off', 'Charged Off', 'Fully Paid', 'Charged Off', 'Fully Paid', 'Fully Paid', 'Charged Off', 'Charged Off', 'Fully Paid', 'Fully Paid', 'Fully Paid', 'Fully Paid', 'Charged Off', 'Fully Paid', 'Fully Paid', 'Charged Off', 'Charged Off', 'Charged Off', 'Fully Paid', 'Fully Paid', 'Fully Paid', 'Fully Paid', 'Charged Off', 'Fully Paid', 'Fully Paid', 'Charged Off', 'Fully Paid', 'Charged Off', 'Charged Off', 'Charged Off', 'Fully Paid', 'Fully Paid', 'Charged Off', 'Charged Off', 'Fully Paid', 'Charged Off', 'Fully Paid', 'Charged Off', 'Fully Paid', 'Fully Paid', 'Charged Off', 'Fully Paid', 'Charged Off', 'Charged Off', 'Fully Paid', 'Fully Paid', 'Charged Off', 'Charged Off', 'Charged Off', 'Charged Off', 'Fully Paid', 'Charged Off', 'Fully Paid', 'Fully Paid', 'Charged Off', 'Charged Off', 'Fully Paid', 'Charged Off', 'Charged Off', 'Charged Off', 'Fully Paid', 'Charged Off', 'Fully Paid', 'Charged Off', 'Fully Paid', 'Fully Paid', 'Charged Off', 'Charged Off', 'Charged Off', 'Fully Paid', 'Charged Off', 'Charged Off', 'Fully Paid', 'Charged Off', 'Charged Off', 'Charged Off', 'Charged Off', 'Charged Off', 'Charged Off', 'Fully Paid', 'Fully Paid', 'Fully Paid', 'Charged Off', 'Charged Off', 'Charged Off', 'Fully Paid', 'Fully Paid', 'Fully Paid', 'Charged Off', 'Fully Paid', 'Charged Off', 'Fully Paid', 'Fully Paid', 'Charged Off', 'Fully Paid', 'Fully Paid', 'Charged Off', 'Fully Paid', 'Fully Paid', 'Fully Paid', 'Charged Off', 'Fully Paid', 'Charged Off', 'Charged Off', 'Fully Paid', 'Charged Off', 'Fully Paid', 'Charged Off', 'Charged Off', 'Charged Off', 'Charged Off', 'Charged Off', 'Charged Off', 'Charged Off', 'Charged Off', 'Charged Off', 'Fully Paid', 'Fully Paid', 'Fully Paid', 'Charged Off', 'Fully Paid', 'Fully Paid', 'Fully Paid', 'Charged Off', 'Charged Off', 'Charged Off', 'Charged Off', 'Fully Paid', 'Fully Paid', 'Charged Off', 'Fully Paid', 'Charged Off', 'Charged Off', 'Charged Off', 'Charged Off', 'Charged Off', 'Charged Off', 'Fully Paid', 'Fully Paid', 'Fully Paid', 'Charged Off', 'Charged Off', 'Charged Off', 'Charged Off', 'Fully Paid', 'Fully Paid', 'Charged Off', 'Fully Paid', 'Fully Paid', 'Charged Off', 'Charged Off', 'Fully Paid', 'Fully Paid', 'Fully Paid', 'Fully Paid', 'Charged Off', 'Fully Paid', 'Fully Paid', 'Charged Off', 'Charged Off', 'Charged Off', 'Fully Paid', 'Charged Off', 'Charged Off', 'Fully Paid', 'Fully Paid', 'Fully Paid', 'Charged Off', 'Charged Off', 'Charged Off', 'Fully Paid', 'Charged Off', 'Charged Off', 'Charged Off', 'Fully Paid', 'Charged Off', 'Charged Off', 'Charged Off', 'Fully Paid', 'Fully Paid', 'Fully Paid', 'Fully Paid', 'Fully Paid', 'Fully Paid', 'Fully Paid', 'Fully Paid', 'Fully Paid', 'Charged Off', 'Charged Off', 'Charged Off', 'Fully Paid', 'Charged Off', 'Fully Paid', 'Fully Paid', 'Fully Paid', 'Fully Paid', 'Charged Off', 'Fully Paid', 'Fully Paid', 'Charged Off', 'Charged Off', 'Fully Paid', 'Fully Paid', 'Charged Off', 'Fully Paid', 'Charged Off', 'Fully Paid', 'Fully Paid', 'Fully Paid', 'Fully Paid', 'Charged Off', 'Fully Paid', 'Charged Off', 'Fully Paid', 'Charged Off', 'Fully Paid', 'Charged Off', 'Charged Off', 'Charged Off', 'Fully Paid', 'Fully Paid', 'Fully Paid', 'Charged Off', 'Fully Paid', 'Charged Off', 'Fully Paid', 'Fully Paid', 'Charged Off', 'Fully Paid', 'Fully Paid', 'Fully Paid', 'Fully Paid', 'Charged Off', 'Fully Paid', 'Charged Off', 'Fully Paid', 'Fully Paid', 'Fully Paid', 'Fully Paid', 'Charged Off', 'Charged Off', 'Fully Paid', 'Charged Off', 'Fully Paid', 'Fully Paid', 'Fully Paid', 'Charged Off', 'Charged Off', 'Fully Paid', 'Fully Paid', 'Charged Off', 'Fully Paid', 'Fully Paid', 'Charged Off', 'Charged Off', 'Charged Off', 'Charged Off', 'Fully Paid', 'Fully Paid', 'Fully Paid', 'Fully Paid', 'Fully Paid', 'Charged Off', 'Charged Off', 'Charged Off', 'Charged Off', 'Fully Paid', 'Fully Paid', 'Charged Off', 'Fully Paid', 'Fully Paid', 'Fully Paid', 'Charged Off', 'Charged Off', 'Charged Off', 'Fully Paid', 'Charged Off', 'Fully Paid', 'Fully Paid', 'Fully Paid', 'Fully Paid', 'Fully Paid', 'Charged Off', 'Fully Paid', 'Charged Off', 'Charged Off', 'Charged Off', 'Charged Off', 'Charged Off', 'Fully Paid', 'Fully Paid', 'Charged Off', 'Charged Off', 'Charged Off', 'Charged Off', 'Charged Off', 'Fully Paid', 'Fully Paid', 'Charged Off', 'Fully Paid', 'Charged Off', 'Charged Off', 'Charged Off', 'Fully Paid', 'Charged Off', 'Charged Off', 'Charged Off', 'Fully Paid', 'Charged Off', 'Charged Off', 'Charged Off', 'Charged Off', 'Fully Paid', 'Charged Off', 'Charged Off', 'Fully Paid', 'Fully Paid', 'Charged Off', 'Fully Paid', 'Charged Off', 'Fully Paid', 'Fully Paid', 'Fully Paid', 'Charged Off', 'Charged Off', 'Fully Paid', 'Fully Paid', 'Fully Paid', 'Charged Off', 'Fully Paid', 'Fully Paid', 'Charged Off', 'Fully Paid', 'Charged Off', 'Fully Paid', 'Fully Paid', 'Charged Off', 'Fully Paid', 'Fully Paid', 'Fully Paid', 'Fully Paid', 'Charged Off', 'Charged Off', 'Charged Off', 'Fully Paid', 'Charged Off', 'Charged Off', 'Charged Off', 'Fully Paid', 'Charged Off', 'Charged Off', 'Charged Off', 'Fully Paid', 'Fully Paid', 'Charged Off', 'Charged Off', 'Charged Off', 'Fully Paid', 'Fully Paid', 'Charged Off', 'Fully Paid', 'Charged Off', 'Fully Paid', 'Charged Off', 'Charged Off', 'Charged Off', 'Charged Off', 'Fully Paid', 'Fully Paid', 'Fully Paid', 'Fully Paid', 'Fully Paid', 'Charged Off', 'Charged Off', 'Charged Off', 'Charged Off', 'Charged Off', 'Fully Paid', 'Fully Paid', 'Charged Off', 'Charged Off', 'Charged Off', 'Charged Off', 'Charged Off', 'Charged Off', 'Fully Paid', 'Charged Off', 'Fully Paid', 'Charged Off', 'Charged Off', 'Fully Paid', 'Charged Off', 'Charged Off', 'Charged Off', 'Fully Paid', 'Charged Off', 'Fully Paid', 'Charged Off', 'Charged Off', 'Charged Off', 'Charged Off', 'Charged Off', 'Fully Paid', 'Charged Off', 'Fully Paid', 'Fully Paid', 'Charged Off', 'Fully Paid', 'Charged Off', 'Charged Off', 'Charged Off', 'Charged Off', 'Charged Off', 'Charged Off', 'Fully Paid', 'Charged Off', 'Charged Off', 'Fully Paid', 'Charged Off', 'Fully Paid', 'Charged Off', 'Fully Paid', 'Charged Off', 'Fully Paid', 'Charged Off', 'Fully Paid', 'Charged Off', 'Charged Off', 'Charged Off', 'Fully Paid', 'Charged Off', 'Charged Off', 'Charged Off', 'Fully Paid', 'Charged Off', 'Charged Off', 'Fully Paid', 'Fully Paid', 'Charged Off', 'Fully Paid', 'Fully Paid', 'Fully Paid', 'Charged Off', 'Fully Paid', 'Charged Off', 'Charged Off', 'Charged Off', 'Charged Off', 'Fully Paid', 'Charged Off', 'Charged Off', 'Charged Off', 'Fully Paid', 'Fully Paid', 'Charged Off', 'Fully Paid', 'Charged Off', 'Fully Paid', 'Fully Paid', 'Charged Off', 'Fully Paid', 'Fully Paid', 'Charged Off', 'Fully Paid', 'Charged Off', 'Charged Off', 'Fully Paid', 'Charged Off', 'Charged Off', 'Fully Paid', 'Charged Off', 'Charged Off', 'Charged Off', 'Charged Off', 'Fully Paid', 'Charged Off', 'Charged Off', 'Fully Paid', 'Fully Paid', 'Charged Off', 'Charged Off', 'Charged Off', 'Charged Off', 'Charged Off', 'Fully Paid', 'Charged Off', 'Fully Paid', 'Charged Off', 'Charged Off', 'Fully Paid', 'Charged Off', 'Charged Off', 'Fully Paid', 'Charged Off', 'Charged Off', 'Charged Off', 'Charged Off', 'Charged Off', 'Fully Paid', 'Charged Off', 'Charged Off', 'Charged Off', 'Fully Paid', 'Charged Off', 'Fully Paid', 'Fully Paid', 'Charged Off', 'Charged Off', 'Fully Paid', 'Fully Paid', 'Charged Off', 'Charged Off', 'Fully Paid', 'Fully Paid', 'Charged Off', 'Charged Off', 'Charged Off', 'Charged Off', 'Fully Paid', 'Fully Paid', 'Charged Off', 'Fully Paid', 'Fully Paid', 'Charged Off', 'Charged Off', 'Fully Paid', 'Charged Off', 'Charged Off', 'Fully Paid', 'Charged Off', 'Fully Paid', 'Charged Off', 'Fully Paid', 'Charged Off', 'Fully Paid', 'Charged Off', 'Fully Paid', 'Charged Off', 'Charged Off', 'Fully Paid', 'Fully Paid', 'Charged Off', 'Charged Off', 'Fully Paid', 'Charged Off', 'Charged Off', 'Fully Paid', 'Fully Paid', 'Charged Off', 'Fully Paid', 'Fully Paid', 'Charged Off', 'Charged Off', 'Fully Paid', 'Fully Paid', 'Charged Off', 'Charged Off', 'Charged Off', 'Charged Off', 'Charged Off', 'Fully Paid', 'Charged Off', 'Fully Paid', 'Charged Off', 'Charged Off', 'Charged Off', 'Charged Off', 'Charged Off', 'Fully Paid', 'Fully Paid', 'Fully Paid', 'Fully Paid', 'Fully Paid', 'Charged Off', 'Charged Off', 'Fully Paid', 'Charged Off', 'Charged Off', 'Charged Off', 'Charged Off', 'Fully Paid', 'Fully Paid', 'Fully Paid', 'Fully Paid', 'Fully Paid', 'Fully Paid', 'Fully Paid', 'Charged Off', 'Fully Paid', 'Charged Off', 'Fully Paid', 'Fully Paid', 'Charged Off', 'Charged Off', 'Fully Paid', 'Charged Off', 'Charged Off', 'Fully Paid', 'Charged Off', 'Fully Paid', 'Charged Off', 'Charged Off', 'Charged Off', 'Fully Paid', 'Fully Paid', 'Fully Paid', 'Fully Paid', 'Fully Paid', 'Charged Off', 'Fully Paid', 'Charged Off', 'Fully Paid', 'Fully Paid', 'Fully Paid', 'Fully Paid', 'Charged Off', 'Fully Paid', 'Charged Off', 'Fully Paid', 'Charged Off', 'Charged Off', 'Fully Paid', 'Charged Off', 'Charged Off', 'Fully Paid', 'Charged Off', 'Charged Off', 'Fully Paid', 'Charged Off', 'Charged Off', 'Charged Off', 'Charged Off', 'Fully Paid', 'Charged Off', 'Charged Off', 'Charged Off', 'Fully Paid', 'Charged Off', 'Charged Off', 'Charged Off', 'Fully Paid', 'Charged Off', 'Charged Off', 'Fully Paid', 'Fully Paid', 'Charged Off', 'Fully Paid', 'Charged Off', 'Fully Paid', 'Charged Off', 'Charged Off', 'Charged Off', 'Charged Off', 'Charged Off', 'Charged Off', 'Fully Paid', 'Fully Paid', 'Fully Paid', 'Fully Paid', 'Charged Off', 'Charged Off', 'Fully Paid', 'Charged Off', 'Charged Off', 'Charged Off', 'Charged Off', 'Charged Off', 'Fully Paid', 'Fully Paid', 'Fully Paid', 'Charged Off', 'Charged Off', 'Charged Off', 'Fully Paid', 'Charged Off', 'Charged Off', 'Fully Paid', 'Charged Off', 'Fully Paid', 'Fully Paid', 'Charged Off', 'Fully Paid', 'Fully Paid', 'Charged Off', 'Charged Off', 'Fully Paid', 'Charged Off', 'Charged Off', 'Charged Off', 'Charged Off', 'Charged Off', 'Charged Off', 'Charged Off', 'Charged Off', 'Fully Paid', 'Charged Off', 'Charged Off', 'Charged Off', 'Fully Paid', 'Charged Off', 'Charged Off', 'Fully Paid', 'Charged Off', 'Fully Paid', 'Fully Paid', 'Charged Off', 'Charged Off', 'Charged Off', 'Fully Paid', 'Charged Off', 'Fully Paid', 'Charged Off', 'Fully Paid', 'Charged Off', 'Fully Paid', 'Fully Paid', 'Charged Off', 'Charged Off', 'Fully Paid', 'Fully Paid', 'Fully Paid', 'Charged Off', 'Charged Off', 'Charged Off', 'Charged Off', 'Charged Off', 'Fully Paid', 'Fully Paid', 'Fully Paid', 'Fully Paid', 'Charged Off', 'Charged Off', 'Fully Paid', 'Fully Paid', 'Fully Paid', 'Fully Paid', 'Charged Off', 'Charged Off', 'Charged Off', 'Charged Off', 'Charged Off', 'Charged Off', 'Charged Off', 'Charged Off', 'Charged Off', 'Charged Off', 'Charged Off', 'Charged Off', 'Charged Off', 'Charged Off', 'Fully Paid', 'Charged Off', 'Charged Off', 'Fully Paid', 'Charged Off', 'Fully Paid', 'Charged Off', 'Fully Paid', 'Charged Off', 'Charged Off', 'Fully Paid', 'Charged Off', 'Fully Paid', 'Fully Paid', 'Charged Off', 'Fully Paid', 'Fully Paid', 'Fully Paid', 'Fully Paid', 'Fully Paid', 'Charged Off', 'Charged Off', 'Fully Paid', 'Fully Paid', 'Fully Paid', 'Fully Paid', 'Charged Off', 'Charged Off', 'Fully Paid', 'Charged Off', 'Charged Off', 'Fully Paid', 'Charged Off', 'Charged Off', 'Fully Paid', 'Fully Paid', 'Fully Paid', 'Charged Off', 'Fully Paid', 'Fully Paid', 'Charged Off', 'Charged Off', 'Charged Off', 'Fully Paid', 'Fully Paid', 'Charged Off', 'Fully Paid', 'Charged Off', 'Fully Paid', 'Fully Paid', 'Charged Off', 'Fully Paid', 'Charged Off', 'Charged Off', 'Charged Off', 'Fully Paid', 'Fully Paid', 'Fully Paid', 'Charged Off', 'Fully Paid', 'Charged Off', 'Charged Off', 'Charged Off', 'Charged Off', 'Charged Off', 'Charged Off', 'Charged Off', 'Charged Off', 'Fully Paid', 'Charged Off', 'Charged Off', 'Charged Off', 'Fully Paid', 'Charged Off', 'Charged Off', 'Fully Paid', 'Charged Off', 'Charged Off', 'Charged Off', 'Charged Off', 'Fully Paid', 'Charged Off', 'Fully Paid', 'Fully Paid', 'Charged Off', 'Charged Off', 'Fully Paid', 'Fully Paid', 'Charged Off', 'Charged Off', 'Fully Paid', 'Charged Off', 'Fully Paid', 'Charged Off', 'Fully Paid', 'Fully Paid', 'Charged Off', 'Charged Off', 'Fully Paid', 'Fully Paid', 'Fully Paid', 'Charged Off', 'Charged Off', 'Charged Off', 'Charged Off', 'Fully Paid', 'Charged Off', 'Charged Off', 'Charged Off', 'Fully Paid', 'Charged Off', 'Charged Off', 'Fully Paid', 'Charged Off', 'Charged Off', 'Charged Off', 'Charged Off', 'Fully Paid', 'Fully Paid', 'Charged Off', 'Charged Off', 'Fully Paid', 'Fully Paid', 'Fully Paid', 'Charged Off', 'Charged Off', 'Charged Off', 'Charged Off', 'Charged Off', 'Fully Paid', 'Charged Off', 'Fully Paid', 'Fully Paid', 'Charged Off', 'Fully Paid', 'Charged Off', 'Fully Paid', 'Charged Off', 'Fully Paid', 'Charged Off', 'Charged Off', 'Charged Off', 'Fully Paid', 'Fully Paid', 'Charged Off', 'Charged Off', 'Fully Paid', 'Charged Off', 'Fully Paid', 'Fully Paid', 'Charged Off', 'Fully Paid', 'Fully Paid', 'Fully Paid', 'Charged Off', 'Charged Off', 'Charged Off', 'Fully Paid', 'Charged Off', 'Charged Off', 'Charged Off', 'Charged Off', 'Charged Off', 'Fully Paid', 'Fully Paid', 'Charged Off', 'Fully Paid', 'Charged Off', 'Fully Paid', 'Charged Off', 'Fully Paid', 'Charged Off', 'Charged Off', 'Fully Paid', 'Fully Paid', 'Fully Paid', 'Fully Paid', 'Fully Paid', 'Charged Off', 'Fully Paid', 'Fully Paid', 'Charged Off', 'Charged Off', 'Charged Off', 'Charged Off', 'Charged Off', 'Charged Off', 'Charged Off', 'Charged Off', 'Fully Paid', 'Fully Paid', 'Fully Paid', 'Charged Off', 'Fully Paid', 'Fully Paid', 'Charged Off', 'Fully Paid', 'Charged Off', 'Fully Paid', 'Charged Off', 'Charged Off', 'Fully Paid', 'Fully Paid', 'Fully Paid', 'Fully Paid', 'Charged Off', 'Charged Off', 'Charged Off', 'Fully Paid', 'Fully Paid', 'Charged Off', 'Fully Paid', 'Charged Off', 'Charged Off', 'Charged Off', 'Fully Paid', 'Fully Paid', 'Fully Paid', 'Charged Off', 'Charged Off', 'Charged Off', 'Fully Paid', 'Fully Paid', 'Fully Paid', 'Fully Paid', 'Charged Off', 'Fully Paid', 'Fully Paid', 'Fully Paid', 'Charged Off', 'Fully Paid', 'Fully Paid', 'Fully Paid', 'Fully Paid', 'Fully Paid', 'Charged Off', 'Charged Off', 'Charged Off', 'Charged Off', 'Charged Off', 'Fully Paid', 'Fully Paid', 'Charged Off', 'Charged Off', 'Charged Off', 'Fully Paid', 'Fully Paid', 'Charged Off', 'Charged Off', 'Charged Off', 'Charged Off', 'Fully Paid', 'Charged Off', 'Charged Off', 'Fully Paid', 'Fully Paid', 'Fully Paid', 'Charged Off', 'Charged Off', 'Fully Paid', 'Fully Paid', 'Fully Paid', 'Charged Off', 'Fully Paid', 'Charged Off', 'Fully Paid', 'Charged Off', 'Fully Paid', 'Charged Off', 'Fully Paid', 'Fully Paid', 'Charged Off', 'Charged Off', 'Charged Off', 'Charged Off', 'Charged Off', 'Charged Off', 'Charged Off', 'Fully Paid', 'Fully Paid', 'Charged Off', 'Charged Off', 'Fully Paid', 'Charged Off', 'Charged Off', 'Fully Paid', 'Fully Paid', 'Charged Off', 'Fully Paid', 'Charged Off', 'Charged Off', 'Charged Off', 'Fully Paid', 'Charged Off', 'Charged Off', 'Charged Off', 'Fully Paid', 'Fully Paid', 'Fully Paid', 'Charged Off', 'Charged Off', 'Charged Off', 'Charged Off', 'Fully Paid', 'Fully Paid', 'Charged Off', 'Fully Paid', 'Fully Paid', 'Charged Off', 'Charged Off', 'Fully Paid', 'Charged Off', 'Charged Off', 'Fully Paid', 'Charged Off', 'Charged Off', 'Fully Paid', 'Charged Off', 'Charged Off', 'Fully Paid', 'Fully Paid', 'Charged Off', 'Charged Off', 'Fully Paid', 'Charged Off', 'Charged Off', 'Fully Paid', 'Fully Paid', 'Charged Off', 'Charged Off', 'Charged Off', 'Charged Off', 'Fully Paid', 'Fully Paid', 'Charged Off', 'Charged Off', 'Charged Off', 'Fully Paid', 'Fully Paid', 'Fully Paid', 'Charged Off', 'Charged Off', 'Charged Off', 'Charged Off', 'Charged Off', 'Fully Paid', 'Fully Paid', 'Charged Off', 'Charged Off', 'Charged Off', 'Fully Paid', 'Charged Off', 'Fully Paid', 'Charged Off', 'Charged Off', 'Charged Off', 'Fully Paid', 'Fully Paid', 'Charged Off', 'Charged Off', 'Fully Paid', 'Fully Paid', 'Charged Off', 'Charged Off', 'Fully Paid', 'Fully Paid', 'Charged Off', 'Charged Off', 'Fully Paid', 'Charged Off', 'Fully Paid', 'Charged Off', 'Fully Paid', 'Fully Paid', 'Charged Off', 'Fully Paid', 'Charged Off', 'Fully Paid', 'Charged Off', 'Fully Paid', 'Charged Off', 'Fully Paid', 'Fully Paid', 'Charged Off', 'Charged Off', 'Fully Paid', 'Charged Off', 'Charged Off', 'Fully Paid', 'Charged Off', 'Charged Off', 'Charged Off', 'Fully Paid', 'Fully Paid', 'Fully Paid', 'Charged Off', 'Charged Off', 'Fully Paid', 'Charged Off', 'Fully Paid', 'Charged Off', 'Charged Off', 'Fully Paid', 'Charged Off', 'Fully Paid', 'Charged Off', 'Charged Off', 'Charged Off', 'Fully Paid', 'Charged Off', 'Fully Paid', 'Charged Off', 'Charged Off', 'Charged Off', 'Fully Paid', 'Fully Paid', 'Fully Paid', 'Fully Paid', 'Fully Paid', 'Fully Paid', 'Fully Paid', 'Fully Paid', 'Charged Off', 'Fully Paid', 'Charged Off', 'Fully Paid', 'Charged Off', 'Charged Off', 'Charged Off', 'Fully Paid', 'Charged Off', 'Fully Paid', 'Charged Off', 'Fully Paid', 'Charged Off', 'Charged Off', 'Fully Paid', 'Charged Off', 'Fully Paid', 'Fully Paid', 'Charged Off', 'Charged Off', 'Charged Off', 'Charged Off', 'Charged Off', 'Charged Off', 'Fully Paid', 'Fully Paid', 'Fully Paid', 'Charged Off', 'Charged Off', 'Fully Paid', 'Charged Off', 'Fully Paid', 'Fully Paid', 'Fully Paid', 'Charged Off', 'Fully Paid', 'Fully Paid', 'Fully Paid', 'Charged Off', 'Charged Off', 'Fully Paid', 'Charged Off', 'Charged Off', 'Charged Off', 'Charged Off', 'Fully Paid', 'Fully Paid', 'Charged Off', 'Fully Paid', 'Fully Paid', 'Charged Off', 'Charged Off', 'Fully Paid', 'Fully Paid', 'Fully Paid', 'Charged Off', 'Charged Off', 'Charged Off', 'Fully Paid', 'Charged Off', 'Fully Paid', 'Charged Off', 'Charged Off', 'Fully Paid', 'Charged Off', 'Fully Paid', 'Fully Paid', 'Charged Off', 'Fully Paid', 'Charged Off', 'Charged Off', 'Charged Off', 'Fully Paid', 'Charged Off', 'Charged Off', 'Charged Off', 'Fully Paid', 'Fully Paid', 'Charged Off', 'Charged Off', 'Charged Off', 'Charged Off', 'Charged Off', 'Charged Off', 'Fully Paid', 'Fully Paid', 'Charged Off', 'Charged Off', 'Charged Off', 'Fully Paid', 'Fully Paid', 'Charged Off', 'Fully Paid', 'Charged Off', 'Fully Paid', 'Charged Off', 'Charged Off', 'Charged Off', 'Fully Paid', 'Charged Off', 'Charged Off', 'Fully Paid', 'Charged Off', 'Charged Off', 'Charged Off', 'Charged Off', 'Fully Paid', 'Charged Off', 'Fully Paid', 'Charged Off', 'Fully Paid', 'Charged Off', 'Fully Paid', 'Fully Paid', 'Fully Paid', 'Fully Paid', 'Fully Paid', 'Charged Off', 'Fully Paid', 'Charged Off', 'Fully Paid', 'Charged Off', 'Fully Paid', 'Fully Paid', 'Charged Off', 'Fully Paid', 'Charged Off', 'Charged Off', 'Fully Paid', 'Charged Off', 'Fully Paid', 'Charged Off', 'Charged Off', 'Charged Off']\n"
     ]
    }
   ],
   "source": [
    "weights = {'Charged Off':5.5, 'Fully Paid':1.0}\n",
    "#model = tree.DecisionTreeClassifier()\n",
    "##model = tree.DecisionTreeClassifier(class_weight=weights, max_depth=10)\n",
    "#model = tree.DecisionTreeClassifier(max_depth=20)\n",
    "#model = LogisticRegression()\n",
    "#model = GradientBoostingClassifier(n_estimators=200, learning_rate=0.1, max_depth=10, random_state=0)\n",
    "#model = XGBClassifier(n_estimators=100, learning_rate=0.3, max_depth=10)\n",
    "model = XGBClassifier(n_estimators=100, learning_rate=0.1, max_depth=10, scale_pos_weight=0.1)\n",
    "#model = XGBClassifier()\n",
    "model.fit(X_train_,y_train)\n",
    "predictions = model.predict(X_test_)\n",
    "print(predictions)\n",
    "predictions_p = model.predict_proba(X_test_)\n",
    "\n",
    "predictions = predictions_p[:,1]\n",
    "print(predictions)\n",
    "\n",
    "predictions_ = []\n",
    "for i in range(len(predictions)):\n",
    "  if predictions[i]>=0.6:\n",
    "    predictions_.append('Fully Paid')\n",
    "  else:\n",
    "    predictions_.append('Charged Off')\n",
    "print(predictions_)"
   ]
  },
  {
   "cell_type": "code",
   "execution_count": 62,
   "metadata": {
    "colab": {
     "base_uri": "https://localhost:8080/"
    },
    "id": "YlcwHNRm0FCa",
    "outputId": "e67f909d-451a-4c69-a64f-ea97062211f3"
   },
   "outputs": [
    {
     "name": "stdout",
     "output_type": "stream",
     "text": [
      "              precision    recall  f1-score   support\n",
      "\n",
      " Charged Off       0.23      0.78      0.36       372\n",
      "  Fully Paid       0.92      0.49      0.64      1886\n",
      "\n",
      "    accuracy                           0.54      2258\n",
      "   macro avg       0.58      0.64      0.50      2258\n",
      "weighted avg       0.81      0.54      0.59      2258\n",
      "\n"
     ]
    }
   ],
   "source": [
    "print(classification_report(y_test,predictions_))"
   ]
  },
  {
   "cell_type": "code",
   "execution_count": 63,
   "metadata": {
    "colab": {
     "base_uri": "https://localhost:8080/"
    },
    "id": "bXBXEYFpOd6k",
    "outputId": "9fa7dc4d-3e67-4dd9-a406-5a3e7e535fba"
   },
   "outputs": [
    {
     "name": "stdout",
     "output_type": "stream",
     "text": [
      "[[0.3476869  0.6523131 ]\n",
      " [0.3150668  0.6849332 ]\n",
      " [0.61588556 0.38411444]\n",
      " ...\n",
      " [0.5973438  0.40265623]\n",
      " [0.8098811  0.19011894]\n",
      " [0.6826438  0.31735623]]\n"
     ]
    }
   ],
   "source": [
    "print(predictions_p)"
   ]
  },
  {
   "cell_type": "code",
   "execution_count": 64,
   "metadata": {
    "id": "rqeZELpaGp_m"
   },
   "outputs": [],
   "source": [
    "dump(model, open('model.pkl', 'wb'))\n",
    "dump(scaler, open('scaler.pkl', 'wb'))\n",
    "dump(pca, open('pca.pkl', 'wb'))"
   ]
  },
  {
   "cell_type": "code",
   "execution_count": 65,
   "metadata": {
    "id": "JN2RR2PHPQBK"
   },
   "outputs": [],
   "source": [
    "model_ = load(open('model.pkl', 'rb'))\n",
    "scaler_ = load(open('scaler.pkl', 'rb'))\n",
    "pca_ = load(open('pca.pkl', 'rb'))"
   ]
  },
  {
   "cell_type": "code",
   "execution_count": 67,
   "metadata": {
    "colab": {
     "base_uri": "https://localhost:8080/"
    },
    "id": "9x13f0MlPTfM",
    "outputId": "57d14b2f-c2ff-4110-fe0d-23d3bf770c3c"
   },
   "outputs": [
    {
     "name": "stdout",
     "output_type": "stream",
     "text": [
      "[[1.000e+04 1.000e+01 1.600e+05 0.000e+00 2.000e+00 7.700e+01 1.300e+02\n",
      "  1.000e+01 0.000e+00 7.770e+03 2.100e-01 3.000e+01 1.000e+00 1.984e+03]]\n",
      "              precision    recall  f1-score   support\n",
      "\n",
      " Charged Off       0.33      0.78      0.46       555\n",
      "  Fully Paid       0.94      0.69      0.79      2832\n",
      "\n",
      "    accuracy                           0.70      3387\n",
      "   macro avg       0.63      0.73      0.63      3387\n",
      "weighted avg       0.84      0.70      0.74      3387\n",
      "\n",
      "Fully Paid\n",
      "Fully Paid\n",
      "<class 'numpy.float32'>\n",
      "[[0.3476869  0.6523131 ]\n",
      " [0.3150668  0.6849332 ]\n",
      " [0.61588556 0.38411444]\n",
      " ...\n",
      " [0.36160892 0.6383911 ]\n",
      " [0.20511329 0.7948867 ]\n",
      " [0.675618   0.324382  ]]\n"
     ]
    }
   ],
   "source": [
    "df_ = df[(df['loan_status']=='Fully Paid') | (df['loan_status']=='Charged Off')]\n",
    "\n",
    "dk = df_.drop(['loan_status','id','earliest_cr_line','desc'],axis=1)\n",
    "#print(dk.head())\n",
    "\n",
    "X_train, X_test, y_train, y_test = train_test_split(df_.drop(['loan_status','id','earliest_cr_line','desc'],axis=1), \n",
    "                                                    df_['loan_status'], test_size=0.3, \n",
    "                                                    random_state=101)\n",
    "\n",
    "X_one = dk.iloc[5]\n",
    "X_one_ = np.array(X_one).reshape(1, -1)\n",
    "print(X_one_)\n",
    "\n",
    "X_test = scaler_.transform(X_test)\n",
    "X_one_ = scaler_.transform(X_one_)\n",
    "\n",
    "X_test_ = pca_.transform(X_test)\n",
    "X_one_ = pca_.transform(X_one_)\n",
    "#print(X_test_)\n",
    "\n",
    "predictions = model_.predict(X_test_)\n",
    "prediction = model_.predict(X_one_)\n",
    "\n",
    "prediction_p = model_.predict_proba(X_one_)\n",
    "\n",
    "\n",
    "print(classification_report(y_test,predictions))\n",
    "print(prediction[0])\n",
    "print(np.array(y_test)[0])\n",
    "\n",
    "print(type(prediction_p[0][1]))\n",
    "\n",
    "predictions_p = model_.predict_proba(X_test_)\n",
    "print(predictions_p)"
   ]
  },
  {
   "cell_type": "code",
   "execution_count": null,
   "metadata": {
    "id": "QTWitNzzUbw-"
   },
   "outputs": [],
   "source": []
  },
  {
   "cell_type": "code",
   "execution_count": null,
   "metadata": {
    "colab": {
     "base_uri": "https://localhost:8080/",
     "height": 204
    },
    "id": "Sen4oY03Qzrg",
    "outputId": "a3d94154-befe-4a95-d8a0-28b0d33db7d8"
   },
   "outputs": [
    {
     "data": {
      "text/html": [
       "<div>\n",
       "<style scoped>\n",
       "    .dataframe tbody tr th:only-of-type {\n",
       "        vertical-align: middle;\n",
       "    }\n",
       "\n",
       "    .dataframe tbody tr th {\n",
       "        vertical-align: top;\n",
       "    }\n",
       "\n",
       "    .dataframe thead th {\n",
       "        text-align: right;\n",
       "    }\n",
       "</style>\n",
       "<table border=\"1\" class=\"dataframe\">\n",
       "  <thead>\n",
       "    <tr style=\"text-align: right;\">\n",
       "      <th></th>\n",
       "      <th>loan_amnt</th>\n",
       "      <th>emp_length</th>\n",
       "      <th>annual_inc</th>\n",
       "      <th>delinq_2yrs</th>\n",
       "      <th>inq_last_6mths</th>\n",
       "      <th>mths_since_last_delinq</th>\n",
       "      <th>mths_since_last_record</th>\n",
       "      <th>open_acc</th>\n",
       "      <th>pub_rec</th>\n",
       "      <th>revol_bal</th>\n",
       "      <th>revol_util</th>\n",
       "      <th>total_acc</th>\n",
       "      <th>purpose</th>\n",
       "      <th>year</th>\n",
       "    </tr>\n",
       "  </thead>\n",
       "  <tbody>\n",
       "    <tr>\n",
       "      <th>1</th>\n",
       "      <td>22000</td>\n",
       "      <td>6</td>\n",
       "      <td>70000.0</td>\n",
       "      <td>1</td>\n",
       "      <td>0</td>\n",
       "      <td>10</td>\n",
       "      <td>130</td>\n",
       "      <td>11</td>\n",
       "      <td>0</td>\n",
       "      <td>38928</td>\n",
       "      <td>0.85</td>\n",
       "      <td>36</td>\n",
       "      <td>2</td>\n",
       "      <td>1983</td>\n",
       "    </tr>\n",
       "    <tr>\n",
       "      <th>2</th>\n",
       "      <td>3700</td>\n",
       "      <td>10</td>\n",
       "      <td>117000.0</td>\n",
       "      <td>1</td>\n",
       "      <td>1</td>\n",
       "      <td>10</td>\n",
       "      <td>130</td>\n",
       "      <td>9</td>\n",
       "      <td>0</td>\n",
       "      <td>19382</td>\n",
       "      <td>0.86</td>\n",
       "      <td>24</td>\n",
       "      <td>0</td>\n",
       "      <td>1992</td>\n",
       "    </tr>\n",
       "    <tr>\n",
       "      <th>4</th>\n",
       "      <td>12000</td>\n",
       "      <td>7</td>\n",
       "      <td>75000.0</td>\n",
       "      <td>0</td>\n",
       "      <td>1</td>\n",
       "      <td>24</td>\n",
       "      <td>130</td>\n",
       "      <td>13</td>\n",
       "      <td>0</td>\n",
       "      <td>13528</td>\n",
       "      <td>0.51</td>\n",
       "      <td>23</td>\n",
       "      <td>2</td>\n",
       "      <td>1997</td>\n",
       "    </tr>\n",
       "    <tr>\n",
       "      <th>5</th>\n",
       "      <td>5000</td>\n",
       "      <td>7</td>\n",
       "      <td>40992.0</td>\n",
       "      <td>0</td>\n",
       "      <td>0</td>\n",
       "      <td>120</td>\n",
       "      <td>130</td>\n",
       "      <td>2</td>\n",
       "      <td>0</td>\n",
       "      <td>1774</td>\n",
       "      <td>0.66</td>\n",
       "      <td>9</td>\n",
       "      <td>2</td>\n",
       "      <td>2006</td>\n",
       "    </tr>\n",
       "    <tr>\n",
       "      <th>6</th>\n",
       "      <td>5250</td>\n",
       "      <td>2</td>\n",
       "      <td>56000.0</td>\n",
       "      <td>0</td>\n",
       "      <td>1</td>\n",
       "      <td>120</td>\n",
       "      <td>130</td>\n",
       "      <td>3</td>\n",
       "      <td>0</td>\n",
       "      <td>12447</td>\n",
       "      <td>0.83</td>\n",
       "      <td>15</td>\n",
       "      <td>2</td>\n",
       "      <td>1995</td>\n",
       "    </tr>\n",
       "  </tbody>\n",
       "</table>\n",
       "</div>"
      ],
      "text/plain": [
       "   loan_amnt  emp_length  annual_inc  ...  total_acc  purpose  year\n",
       "1      22000           6     70000.0  ...         36        2  1983\n",
       "2       3700          10    117000.0  ...         24        0  1992\n",
       "4      12000           7     75000.0  ...         23        2  1997\n",
       "5       5000           7     40992.0  ...          9        2  2006\n",
       "6       5250           2     56000.0  ...         15        2  1995\n",
       "\n",
       "[5 rows x 14 columns]"
      ]
     },
     "execution_count": 320,
     "metadata": {
      "tags": []
     },
     "output_type": "execute_result"
    }
   ],
   "source": [
    "dk.head()"
   ]
  },
  {
   "cell_type": "code",
   "execution_count": null,
   "metadata": {
    "id": "Waj_XDfmX6AT"
   },
   "outputs": [],
   "source": []
  },
  {
   "cell_type": "code",
   "execution_count": null,
   "metadata": {
    "colab": {
     "base_uri": "https://localhost:8080/",
     "height": 17
    },
    "id": "Swoz9V1WOhOE",
    "outputId": "c6c437c3-e89d-4aad-f781-5b561b424a89"
   },
   "outputs": [
    {
     "data": {
      "application/javascript": [
       "\n",
       "    async function download(id, filename, size) {\n",
       "      if (!google.colab.kernel.accessAllowed) {\n",
       "        return;\n",
       "      }\n",
       "      const div = document.createElement('div');\n",
       "      const label = document.createElement('label');\n",
       "      label.textContent = `Downloading \"${filename}\": `;\n",
       "      div.appendChild(label);\n",
       "      const progress = document.createElement('progress');\n",
       "      progress.max = size;\n",
       "      div.appendChild(progress);\n",
       "      document.body.appendChild(div);\n",
       "\n",
       "      const buffers = [];\n",
       "      let downloaded = 0;\n",
       "\n",
       "      const channel = await google.colab.kernel.comms.open(id);\n",
       "      // Send a message to notify the kernel that we're ready.\n",
       "      channel.send({})\n",
       "\n",
       "      for await (const message of channel.messages) {\n",
       "        // Send a message to notify the kernel that we're ready.\n",
       "        channel.send({})\n",
       "        if (message.buffers) {\n",
       "          for (const buffer of message.buffers) {\n",
       "            buffers.push(buffer);\n",
       "            downloaded += buffer.byteLength;\n",
       "            progress.value = downloaded;\n",
       "          }\n",
       "        }\n",
       "      }\n",
       "      const blob = new Blob(buffers, {type: 'application/binary'});\n",
       "      const a = document.createElement('a');\n",
       "      a.href = window.URL.createObjectURL(blob);\n",
       "      a.download = filename;\n",
       "      div.appendChild(a);\n",
       "      a.click();\n",
       "      div.remove();\n",
       "    }\n",
       "  "
      ],
      "text/plain": [
       "<IPython.core.display.Javascript object>"
      ]
     },
     "metadata": {
      "tags": []
     },
     "output_type": "display_data"
    },
    {
     "data": {
      "application/javascript": [
       "download(\"download_c968fba2-cfed-4542-8343-135bb954f40b\", \"model.pkl\", 513015)"
      ],
      "text/plain": [
       "<IPython.core.display.Javascript object>"
      ]
     },
     "metadata": {
      "tags": []
     },
     "output_type": "display_data"
    }
   ],
   "source": [
    "from google.colab import files\n",
    "\n",
    "files.download('model.pkl')\n",
    "#files.download('scaler.pkl')\n",
    "#files.download('pca.pkl')"
   ]
  },
  {
   "cell_type": "code",
   "execution_count": null,
   "metadata": {
    "colab": {
     "base_uri": "https://localhost:8080/",
     "height": 35
    },
    "id": "i7uJLBMZ-ZTL",
    "outputId": "a2205438-4e1b-4297-bc28-09742aff1d42"
   },
   "outputs": [
    {
     "data": {
      "application/vnd.google.colaboratory.intrinsic+json": {
       "type": "string"
      },
      "text/plain": [
       "'0.90'"
      ]
     },
     "execution_count": 233,
     "metadata": {
      "tags": []
     },
     "output_type": "execute_result"
    }
   ],
   "source": [
    "import xgboost\n",
    "\n",
    "xgboost.__version__\n"
   ]
  }
 ],
 "metadata": {
  "colab": {
   "collapsed_sections": [],
   "name": "Loan Analysis.ipynb",
   "provenance": []
  },
  "kernelspec": {
   "display_name": "Python 3 (ipykernel)",
   "language": "python",
   "name": "python3"
  },
  "language_info": {
   "codemirror_mode": {
    "name": "ipython",
    "version": 3
   },
   "file_extension": ".py",
   "mimetype": "text/x-python",
   "name": "python",
   "nbconvert_exporter": "python",
   "pygments_lexer": "ipython3",
   "version": "3.7.9"
  }
 },
 "nbformat": 4,
 "nbformat_minor": 1
}
